{
 "cells": [
  {
   "cell_type": "code",
   "execution_count": 1,
   "id": "c3d7198a",
   "metadata": {},
   "outputs": [],
   "source": [
    "import pandas as pd\n",
    "import numpy as np\n",
    "import matplotlib.pyplot as plt\n",
    "import seaborn as sns"
   ]
  },
  {
   "cell_type": "code",
   "execution_count": 5,
   "id": "d6179e8b",
   "metadata": {},
   "outputs": [],
   "source": [
    "from tensorflow.keras.datasets import mnist\n",
    "from tensorflow.keras import utils\n",
    "import tensorflow as tf"
   ]
  },
  {
   "cell_type": "code",
   "execution_count": 23,
   "id": "0b50f49d",
   "metadata": {},
   "outputs": [],
   "source": [
    "from tensorflow.keras.models import Sequential\n",
    "from tensorflow.keras.layers import Dense"
   ]
  },
  {
   "cell_type": "code",
   "execution_count": 47,
   "id": "12e902eb",
   "metadata": {},
   "outputs": [],
   "source": [
    "(x_train, y_train), (x_test, y_test) = mnist.load_data()"
   ]
  },
  {
   "cell_type": "code",
   "execution_count": 48,
   "id": "184a166a",
   "metadata": {},
   "outputs": [
    {
     "name": "stdout",
     "output_type": "stream",
     "text": [
      "(60000, 28, 28)\n",
      "(10000, 28, 28)\n",
      "(60000,)\n",
      "(10000,)\n"
     ]
    }
   ],
   "source": [
    "print(x_train.shape)\n",
    "print(x_test.shape)\n",
    "print(y_train.shape)\n",
    "print(y_test.shape)"
   ]
  },
  {
   "cell_type": "code",
   "execution_count": 49,
   "id": "8acbe7d9",
   "metadata": {},
   "outputs": [
    {
     "data": {
      "text/plain": [
       "(28, 28)"
      ]
     },
     "execution_count": 49,
     "metadata": {},
     "output_type": "execute_result"
    }
   ],
   "source": [
    "x_train[0].shape"
   ]
  },
  {
   "cell_type": "code",
   "execution_count": 50,
   "id": "6c6d1bbf",
   "metadata": {},
   "outputs": [
    {
     "data": {
      "text/plain": [
       "<matplotlib.image.AxesImage at 0x23404694850>"
      ]
     },
     "execution_count": 50,
     "metadata": {},
     "output_type": "execute_result"
    },
    {
     "data": {
      "image/png": "[encoded data removed]",
      "text/plain": [
       "<Figure size 432x288 with 1 Axes>"
      ]
     },
     "metadata": {
      "needs_background": "light"
     },
     "output_type": "display_data"
    }
   ],
   "source": [
    "plt.imshow(x_train[0], cmap = 'Greys')"
   ]
  },
  {
   "cell_type": "code",
   "execution_count": null,
   "id": "ace2b4b6",
   "metadata": {},
   "outputs": [],
   "source": []
  },
  {
   "cell_type": "code",
   "execution_count": 51,
   "id": "7df545ed",
   "metadata": {},
   "outputs": [],
   "source": [
    "x_train_vec = x_train.reshape(60000, 28 * 28)\n",
    "x_test_vec = x_test.reshape(10000, 28 * 28)"
   ]
  },
  {
   "cell_type": "code",
   "execution_count": null,
   "id": "ef483c99",
   "metadata": {},
   "outputs": [],
   "source": []
  },
  {
   "cell_type": "code",
   "execution_count": 52,
   "id": "34a67f6a",
   "metadata": {},
   "outputs": [],
   "source": [
    "y_train_oh = utils.to_categorical(y_train)\n",
    "y_test_oh = utils.to_categorical(y_test)"
   ]
  },
  {
   "cell_type": "code",
   "execution_count": null,
   "id": "cadc828c",
   "metadata": {},
   "outputs": [],
   "source": []
  },
  {
   "cell_type": "code",
   "execution_count": null,
   "id": "d33737c9",
   "metadata": {},
   "outputs": [],
   "source": [
    "# DNN"
   ]
  },
  {
   "cell_type": "code",
   "execution_count": 30,
   "id": "6bd9b9ac",
   "metadata": {},
   "outputs": [
    {
     "name": "stdout",
     "output_type": "stream",
     "text": [
      "Model: \"sequential_2\"\n",
      "_________________________________________________________________\n",
      " Layer (type)                Output Shape              Param #   \n",
      "=================================================================\n",
      " dense_8 (Dense)             (None, 112)               87920     \n",
      "                                                                 \n",
      " dense_9 (Dense)             (None, 56)                6328      \n",
      "                                                                 \n",
      " dense_10 (Dense)            (None, 28)                1596      \n",
      "                                                                 \n",
      " dense_11 (Dense)            (None, 10)                290       \n",
      "                                                                 \n",
      "=================================================================\n",
      "Total params: 96,134\n",
      "Trainable params: 96,134\n",
      "Non-trainable params: 0\n",
      "_________________________________________________________________\n"
     ]
    }
   ],
   "source": [
    "model = Sequential()\n",
    "model.add(Dense(112, input_dim = 28 * 28, activation = 'relu'))\n",
    "model.add(Dense(56, activation = 'relu'))\n",
    "model.add(Dense(28, activation = 'relu'))\n",
    "model.add(Dense(10, activation = 'softmax'))\n",
    "model.summary()"
   ]
  },
  {
   "cell_type": "code",
   "execution_count": 31,
   "id": "ffe09ccd",
   "metadata": {},
   "outputs": [],
   "source": [
    "model.compile(loss = 'categorical_crossentropy', metrics = ['accuracy'], optimizer = 'adam')"
   ]
  },
  {
   "cell_type": "code",
   "execution_count": 32,
   "id": "6c66ea13",
   "metadata": {
    "scrolled": true
   },
   "outputs": [
    {
     "name": "stdout",
     "output_type": "stream",
     "text": [
      "Epoch 1/30\n",
      "2400/2400 [==============================] - 3s 1ms/step - loss: 1.1189 - accuracy: 0.7321 - val_loss: 0.3977 - val_accuracy: 0.8898\n",
      "Epoch 2/30\n",
      "2400/2400 [==============================] - 3s 1ms/step - loss: 0.3226 - accuracy: 0.9141 - val_loss: 0.2317 - val_accuracy: 0.9390\n",
      "Epoch 3/30\n",
      "2400/2400 [==============================] - 3s 1ms/step - loss: 0.2239 - accuracy: 0.9405 - val_loss: 0.2124 - val_accuracy: 0.9412\n",
      "Epoch 4/30\n",
      "2400/2400 [==============================] - 3s 1ms/step - loss: 0.1746 - accuracy: 0.9536 - val_loss: 0.2136 - val_accuracy: 0.9475\n",
      "Epoch 5/30\n",
      "2400/2400 [==============================] - 3s 1ms/step - loss: 0.1430 - accuracy: 0.9614 - val_loss: 0.1647 - val_accuracy: 0.9574\n",
      "Epoch 6/30\n",
      "2400/2400 [==============================] - 3s 1ms/step - loss: 0.1267 - accuracy: 0.9654 - val_loss: 0.1502 - val_accuracy: 0.9625\n",
      "Epoch 7/30\n",
      "2400/2400 [==============================] - 3s 1ms/step - loss: 0.1086 - accuracy: 0.9697 - val_loss: 0.1689 - val_accuracy: 0.9607\n",
      "Epoch 8/30\n",
      "2400/2400 [==============================] - 3s 1ms/step - loss: 0.0922 - accuracy: 0.9743 - val_loss: 0.1701 - val_accuracy: 0.9611\n",
      "Epoch 9/30\n",
      "2400/2400 [==============================] - 3s 1ms/step - loss: 0.0921 - accuracy: 0.9753 - val_loss: 0.1660 - val_accuracy: 0.9618\n",
      "Epoch 10/30\n",
      "2400/2400 [==============================] - 3s 1ms/step - loss: 0.0869 - accuracy: 0.9777 - val_loss: 0.1880 - val_accuracy: 0.9595\n",
      "Epoch 11/30\n",
      "2400/2400 [==============================] - 3s 1ms/step - loss: 0.0783 - accuracy: 0.9793 - val_loss: 0.2058 - val_accuracy: 0.9603\n",
      "Epoch 12/30\n",
      "2400/2400 [==============================] - 3s 1ms/step - loss: 0.0725 - accuracy: 0.9811 - val_loss: 0.1718 - val_accuracy: 0.9660\n",
      "Epoch 13/30\n",
      "2400/2400 [==============================] - 3s 1ms/step - loss: 0.0684 - accuracy: 0.9821 - val_loss: 0.1928 - val_accuracy: 0.9631\n",
      "Epoch 14/30\n",
      "2400/2400 [==============================] - 3s 1ms/step - loss: 0.0652 - accuracy: 0.9833 - val_loss: 0.1722 - val_accuracy: 0.9674\n",
      "Epoch 15/30\n",
      "2400/2400 [==============================] - 3s 1ms/step - loss: 0.0618 - accuracy: 0.9833 - val_loss: 0.1792 - val_accuracy: 0.9660\n",
      "Epoch 16/30\n",
      "2400/2400 [==============================] - 3s 1ms/step - loss: 0.0612 - accuracy: 0.9848 - val_loss: 0.1694 - val_accuracy: 0.9690\n",
      "Epoch 17/30\n",
      "2400/2400 [==============================] - 3s 1ms/step - loss: 0.0632 - accuracy: 0.9844 - val_loss: 0.1984 - val_accuracy: 0.9667\n",
      "Epoch 18/30\n",
      "2400/2400 [==============================] - 3s 1ms/step - loss: 0.0532 - accuracy: 0.9869 - val_loss: 0.1867 - val_accuracy: 0.9667\n",
      "Epoch 19/30\n",
      "2400/2400 [==============================] - 3s 1ms/step - loss: 0.0573 - accuracy: 0.9865 - val_loss: 0.2048 - val_accuracy: 0.9683\n",
      "Epoch 20/30\n",
      "2400/2400 [==============================] - 3s 1ms/step - loss: 0.0526 - accuracy: 0.9868 - val_loss: 0.2223 - val_accuracy: 0.9667\n",
      "Epoch 21/30\n",
      "2400/2400 [==============================] - 3s 1ms/step - loss: 0.0559 - accuracy: 0.9869 - val_loss: 0.2407 - val_accuracy: 0.9649\n",
      "Epoch 22/30\n",
      "2400/2400 [==============================] - 3s 1ms/step - loss: 0.0527 - accuracy: 0.9873 - val_loss: 0.1983 - val_accuracy: 0.9685\n",
      "Epoch 23/30\n",
      "2400/2400 [==============================] - 3s 1ms/step - loss: 0.0521 - accuracy: 0.9881 - val_loss: 0.2327 - val_accuracy: 0.9683\n",
      "Epoch 24/30\n",
      "2400/2400 [==============================] - 3s 1ms/step - loss: 0.0461 - accuracy: 0.9888 - val_loss: 0.2308 - val_accuracy: 0.9688\n",
      "Epoch 25/30\n",
      "2400/2400 [==============================] - 3s 1ms/step - loss: 0.0488 - accuracy: 0.9888 - val_loss: 0.1796 - val_accuracy: 0.9709\n",
      "Epoch 26/30\n",
      "2400/2400 [==============================] - 3s 1ms/step - loss: 0.0466 - accuracy: 0.9894 - val_loss: 0.2051 - val_accuracy: 0.9710\n",
      "Epoch 27/30\n",
      "2400/2400 [==============================] - 3s 1ms/step - loss: 0.0551 - accuracy: 0.9891 - val_loss: 0.2433 - val_accuracy: 0.9675\n",
      "Epoch 28/30\n",
      "2400/2400 [==============================] - 3s 1ms/step - loss: 0.0489 - accuracy: 0.9893 - val_loss: 0.2378 - val_accuracy: 0.9694\n",
      "Epoch 29/30\n",
      "2400/2400 [==============================] - 3s 1ms/step - loss: 0.0497 - accuracy: 0.9888 - val_loss: 0.2537 - val_accuracy: 0.9643\n",
      "Epoch 30/30\n",
      "2400/2400 [==============================] - 3s 1ms/step - loss: 0.0448 - accuracy: 0.9903 - val_loss: 0.2425 - val_accuracy: 0.9716\n"
     ]
    }
   ],
   "source": [
    "hist = model.fit(x_train_vec, y_train_oh, epochs = 30, batch_size = 20, validation_split=0.2)"
   ]
  },
  {
   "cell_type": "code",
   "execution_count": 33,
   "id": "1d9adb7e",
   "metadata": {},
   "outputs": [
    {
     "name": "stdout",
     "output_type": "stream",
     "text": [
      "313/313 [==============================] - 0s 1ms/step - loss: 0.2184 - accuracy: 0.9748\n"
     ]
    },
    {
     "data": {
      "text/plain": [
       "[0.21835021674633026, 0.9747999906539917]"
      ]
     },
     "execution_count": 33,
     "metadata": {},
     "output_type": "execute_result"
    }
   ],
   "source": [
    "model.evaluate(x_test_vec, y_test_oh)"
   ]
  },
  {
   "cell_type": "code",
   "execution_count": 35,
   "id": "cc724226",
   "metadata": {},
   "outputs": [
    {
     "data": {
      "text/plain": [
       "[<matplotlib.lines.Line2D at 0x23403298130>]"
      ]
     },
     "execution_count": 35,
     "metadata": {},
     "output_type": "execute_result"
    },
    {
     "data": {
      "image/png": "[encoded data removed]",
      "text/plain": [
       "<Figure size 432x288 with 1 Axes>"
      ]
     },
     "metadata": {
      "needs_background": "light"
     },
     "output_type": "display_data"
    }
   ],
   "source": [
    "plt.plot(hist.history['loss'])\n",
    "plt.plot(hist.history['val_loss'])"
   ]
  },
  {
   "cell_type": "code",
   "execution_count": 36,
   "id": "6f686fd6",
   "metadata": {},
   "outputs": [
    {
     "data": {
      "text/plain": [
       "[<matplotlib.lines.Line2D at 0x234032d07c0>]"
      ]
     },
     "execution_count": 36,
     "metadata": {},
     "output_type": "execute_result"
    },
    {
     "data": {
      "image/png": "[encoded data removed]",
      "text/plain": [
       "<Figure size 432x288 with 1 Axes>"
      ]
     },
     "metadata": {
      "needs_background": "light"
     },
     "output_type": "display_data"
    }
   ],
   "source": [
    "plt.plot(hist.history['accuracy'])\n",
    "plt.plot(hist.history['val_accuracy'])"
   ]
  },
  {
   "cell_type": "code",
   "execution_count": null,
   "id": "56454614",
   "metadata": {},
   "outputs": [],
   "source": []
  },
  {
   "cell_type": "code",
   "execution_count": null,
   "id": "3b36b492",
   "metadata": {},
   "outputs": [],
   "source": []
  },
  {
   "cell_type": "code",
   "execution_count": 37,
   "id": "2ddad9a7",
   "metadata": {},
   "outputs": [],
   "source": [
    "# CNN"
   ]
  },
  {
   "cell_type": "code",
   "execution_count": 38,
   "id": "9e5a6efe",
   "metadata": {},
   "outputs": [],
   "source": [
    "from tensorflow.keras.layers import Conv2D, Flatten, MaxPooling2D, Dropout"
   ]
  },
  {
   "cell_type": "code",
   "execution_count": null,
   "id": "55466cd5",
   "metadata": {},
   "outputs": [],
   "source": []
  },
  {
   "cell_type": "code",
   "execution_count": 57,
   "id": "2e0e84df",
   "metadata": {},
   "outputs": [],
   "source": [
    "x_train_cov = x_train.reshape(60000, 28, 28, 1)    # (data num, row num, col num, depth)\n",
    "x_test_cov = x_test.reshape(10000, 28, 28, 1)"
   ]
  },
  {
   "cell_type": "code",
   "execution_count": null,
   "id": "47cc4a05",
   "metadata": {},
   "outputs": [],
   "source": []
  },
  {
   "cell_type": "code",
   "execution_count": 65,
   "id": "e72b8f9a",
   "metadata": {},
   "outputs": [
    {
     "name": "stdout",
     "output_type": "stream",
     "text": [
      "Model: \"sequential_9\"\n",
      "_________________________________________________________________\n",
      " Layer (type)                Output Shape              Param #   \n",
      "=================================================================\n",
      " conv2d_11 (Conv2D)          (None, 26, 26, 32)        320       \n",
      "                                                                 \n",
      " conv2d_12 (Conv2D)          (None, 24, 24, 64)        18496     \n",
      "                                                                 \n",
      " max_pooling2d_5 (MaxPooling  (None, 12, 12, 64)       0         \n",
      " 2D)                                                             \n",
      "                                                                 \n",
      " flatten_5 (Flatten)         (None, 9216)              0         \n",
      "                                                                 \n",
      " dense_22 (Dense)            (None, 128)               1179776   \n",
      "                                                                 \n",
      " dense_23 (Dense)            (None, 10)                1290      \n",
      "                                                                 \n",
      "=================================================================\n",
      "Total params: 1,199,882\n",
      "Trainable params: 1,199,882\n",
      "Non-trainable params: 0\n",
      "_________________________________________________________________\n"
     ]
    }
   ],
   "source": [
    "model = Sequential()\n",
    "model.add(Conv2D(32, kernel_size = (3, 3), input_shape = (28, 28, 1), activation = 'relu'))\n",
    "model.add(Conv2D(64, kernel_size = (3, 3), activation = 'relu'))\n",
    "model.add(MaxPooling2D(pool_size=2))\n",
    "model.add(Flatten())\n",
    "model.add(Dense(128, activation = 'relu'))\n",
    "model.add(Dense(10, activation = 'softmax'))\n",
    "model.summary()"
   ]
  },
  {
   "cell_type": "code",
   "execution_count": 66,
   "id": "648e318c",
   "metadata": {},
   "outputs": [],
   "source": [
    "model.compile(loss = 'categorical_crossentropy', metrics = ['accuracy'], optimizer = 'adam')"
   ]
  },
  {
   "cell_type": "code",
   "execution_count": 67,
   "id": "18c8ac86",
   "metadata": {},
   "outputs": [
    {
     "name": "stdout",
     "output_type": "stream",
     "text": [
      "Epoch 1/10\n",
      "2400/2400 [==============================] - 32s 13ms/step - loss: 0.3041 - accuracy: 0.9525 - val_loss: 0.0819 - val_accuracy: 0.9761\n",
      "Epoch 2/10\n",
      "2400/2400 [==============================] - 32s 13ms/step - loss: 0.0647 - accuracy: 0.9802 - val_loss: 0.0766 - val_accuracy: 0.9764\n",
      "Epoch 3/10\n",
      "2400/2400 [==============================] - 32s 13ms/step - loss: 0.0445 - accuracy: 0.9865 - val_loss: 0.0957 - val_accuracy: 0.9767\n",
      "Epoch 4/10\n",
      "2400/2400 [==============================] - 32s 13ms/step - loss: 0.0345 - accuracy: 0.9895 - val_loss: 0.0670 - val_accuracy: 0.9832\n",
      "Epoch 5/10\n",
      "2400/2400 [==============================] - 32s 13ms/step - loss: 0.0286 - accuracy: 0.9914 - val_loss: 0.0777 - val_accuracy: 0.9829\n",
      "Epoch 6/10\n",
      "2400/2400 [==============================] - 32s 13ms/step - loss: 0.0250 - accuracy: 0.9932 - val_loss: 0.0877 - val_accuracy: 0.9836\n",
      "Epoch 7/10\n",
      "2400/2400 [==============================] - 32s 13ms/step - loss: 0.0209 - accuracy: 0.9940 - val_loss: 0.1242 - val_accuracy: 0.9782\n",
      "Epoch 8/10\n",
      "2400/2400 [==============================] - 32s 13ms/step - loss: 0.0190 - accuracy: 0.9949 - val_loss: 0.0925 - val_accuracy: 0.9842\n",
      "Epoch 9/10\n",
      "2400/2400 [==============================] - 32s 13ms/step - loss: 0.0164 - accuracy: 0.9956 - val_loss: 0.1078 - val_accuracy: 0.9829\n",
      "Epoch 10/10\n",
      "2400/2400 [==============================] - 32s 14ms/step - loss: 0.0176 - accuracy: 0.9955 - val_loss: 0.1353 - val_accuracy: 0.9816\n"
     ]
    }
   ],
   "source": [
    "hist = model.fit(x_train_cov, y_train_oh, validation_split=0.2, epochs=10, batch_size = 20)"
   ]
  },
  {
   "cell_type": "code",
   "execution_count": 69,
   "id": "d6211eb5",
   "metadata": {},
   "outputs": [
    {
     "name": "stdout",
     "output_type": "stream",
     "text": [
      "313/313 [==============================] - 2s 5ms/step - loss: 0.1363 - accuracy: 0.9811\n"
     ]
    },
    {
     "data": {
      "text/plain": [
       "[0.13631850481033325, 0.9811000227928162]"
      ]
     },
     "execution_count": 69,
     "metadata": {},
     "output_type": "execute_result"
    }
   ],
   "source": [
    "model.evaluate(x_test_cov, y_test_oh)"
   ]
  },
  {
   "cell_type": "code",
   "execution_count": null,
   "id": "28a5fef2",
   "metadata": {},
   "outputs": [],
   "source": []
  }
 ],
 "metadata": {
  "kernelspec": {
   "display_name": "Python 3 (ipykernel)",
   "language": "python",
   "name": "python3"
  },
  "language_info": {
   "codemirror_mode": {
    "name": "ipython",
    "version": 3
   },
   "file_extension": ".py",
   "mimetype": "text/x-python",
   "name": "python",
   "nbconvert_exporter": "python",
   "pygments_lexer": "ipython3",
   "version": "3.9.7"
  }
 },
 "nbformat": 4,
 "nbformat_minor": 5
}
