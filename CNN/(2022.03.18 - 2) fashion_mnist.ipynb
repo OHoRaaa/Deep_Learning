{
 "cells": [
  {
   "cell_type": "code",
   "execution_count": 1,
   "id": "7519b4b5",
   "metadata": {
    "id": "7519b4b5"
   },
   "outputs": [],
   "source": [
    "import pandas as pd\n",
    "import numpy as np\n",
    "import matplotlib.pyplot as plt\n",
    "import seaborn as sns"
   ]
  },
  {
   "cell_type": "code",
   "execution_count": 2,
   "id": "e068f401",
   "metadata": {
    "id": "e068f401"
   },
   "outputs": [],
   "source": [
    "from tensorflow.keras.models import Sequential\n",
    "from tensorflow.keras.layers import Dense\n",
    "import tensorflow as tf\n",
    "from tensorflow import keras"
   ]
  },
  {
   "cell_type": "code",
   "execution_count": 3,
   "id": "22ddf0d3",
   "metadata": {
    "id": "22ddf0d3"
   },
   "outputs": [],
   "source": [
    "(train_input, train_target), (test_input, test_target) = keras.datasets.fashion_mnist.load_data()"
   ]
  },
  {
   "cell_type": "code",
   "execution_count": 4,
   "id": "587a0753",
   "metadata": {
    "colab": {
     "base_uri": "https://localhost:8080/"
    },
    "id": "587a0753",
    "outputId": "2066c4bf-c266-4f40-b6ee-e86d5574bc62"
   },
   "outputs": [
    {
     "name": "stdout",
     "output_type": "stream",
     "text": [
      "(60000, 28, 28) (60000,)\n"
     ]
    }
   ],
   "source": [
    "print(train_input.shape, train_target.shape)"
   ]
  },
  {
   "cell_type": "code",
   "execution_count": null,
   "id": "zapN7qF6_PpP",
   "metadata": {
    "id": "zapN7qF6_PpP"
   },
   "outputs": [],
   "source": []
  },
  {
   "cell_type": "code",
   "execution_count": 5,
   "id": "4796dd01",
   "metadata": {
    "colab": {
     "base_uri": "https://localhost:8080/"
    },
    "id": "4796dd01",
    "outputId": "7c1a5d0e-d201-4d77-8cd1-85fdc0efbd57"
   },
   "outputs": [
    {
     "name": "stdout",
     "output_type": "stream",
     "text": [
      "(10000, 28, 28) (10000,)\n"
     ]
    }
   ],
   "source": [
    "print(test_input.shape, test_target.shape)"
   ]
  },
  {
   "cell_type": "code",
   "execution_count": null,
   "id": "3e065048",
   "metadata": {
    "id": "3e065048"
   },
   "outputs": [],
   "source": []
  },
  {
   "cell_type": "code",
   "execution_count": 6,
   "id": "e5635dc5",
   "metadata": {
    "colab": {
     "base_uri": "https://localhost:8080/",
     "height": 78
    },
    "id": "e5635dc5",
    "outputId": "a58964a6-6044-4450-baef-a4e05827c83a"
   },
   "outputs": [
    {
     "data": {
      "image/png": "[encoded data removed]",
      "text/plain": [
       "<Figure size 720x720 with 10 Axes>"
      ]
     },
     "metadata": {
      "needs_background": "light"
     },
     "output_type": "display_data"
    }
   ],
   "source": [
    "fig, axs = plt.subplots(1, 10, figsize = (10, 10))\n",
    "for i in range(10):\n",
    "    axs[i].imshow(train_input[i], cmap = 'gray_r')\n",
    "    axs[i].axis('off')\n",
    "plt.show()"
   ]
  },
  {
   "cell_type": "code",
   "execution_count": 7,
   "id": "e040af49",
   "metadata": {
    "colab": {
     "base_uri": "https://localhost:8080/"
    },
    "id": "e040af49",
    "outputId": "2793aaea-c552-41e4-a6f6-9e5d95666930"
   },
   "outputs": [
    {
     "data": {
      "text/plain": [
       "array([9, 0, 0, 3, 0, 2, 7, 2, 5, 5], dtype=uint8)"
      ]
     },
     "execution_count": 7,
     "metadata": {},
     "output_type": "execute_result"
    }
   ],
   "source": [
    "train_target[:10]"
   ]
  },
  {
   "cell_type": "code",
   "execution_count": 8,
   "id": "f92bee65",
   "metadata": {
    "colab": {
     "base_uri": "https://localhost:8080/"
    },
    "id": "f92bee65",
    "outputId": "8fa53d61-df3e-49a1-9db1-077b3eceaac2"
   },
   "outputs": [
    {
     "data": {
      "text/plain": [
       "9    6000\n",
       "0    6000\n",
       "3    6000\n",
       "2    6000\n",
       "7    6000\n",
       "5    6000\n",
       "1    6000\n",
       "6    6000\n",
       "4    6000\n",
       "8    6000\n",
       "dtype: int64"
      ]
     },
     "execution_count": 8,
     "metadata": {},
     "output_type": "execute_result"
    }
   ],
   "source": [
    "pd.Series(train_target).value_counts()"
   ]
  },
  {
   "cell_type": "code",
   "execution_count": null,
   "id": "d00da2ee",
   "metadata": {
    "id": "d00da2ee"
   },
   "outputs": [],
   "source": []
  },
  {
   "cell_type": "code",
   "execution_count": 9,
   "id": "703215ca",
   "metadata": {
    "colab": {
     "base_uri": "https://localhost:8080/",
     "height": 283
    },
    "id": "703215ca",
    "outputId": "342949e1-052b-44d6-f5a7-48e790212f6d"
   },
   "outputs": [
    {
     "data": {
      "text/plain": [
       "<matplotlib.image.AxesImage at 0x223f6e78c40>"
      ]
     },
     "execution_count": 9,
     "metadata": {},
     "output_type": "execute_result"
    },
    {
     "data": {
      "image/png": "[encoded data removed]",
      "text/plain": [
       "<Figure size 432x288 with 1 Axes>"
      ]
     },
     "metadata": {
      "needs_background": "light"
     },
     "output_type": "display_data"
    }
   ],
   "source": [
    "plt.imshow(train_input[0], cmap = 'gray_r')"
   ]
  },
  {
   "cell_type": "code",
   "execution_count": null,
   "id": "ebb2127b",
   "metadata": {
    "id": "ebb2127b"
   },
   "outputs": [],
   "source": []
  },
  {
   "cell_type": "code",
   "execution_count": 10,
   "id": "60f6e61e",
   "metadata": {
    "id": "60f6e61e"
   },
   "outputs": [],
   "source": [
    "x_train = train_input.reshape(60000, 28 * 28)\n",
    "x_test = test_input.reshape(10000, 28 * 28)\n",
    "y_train = train_target\n",
    "y_test = test_target"
   ]
  },
  {
   "cell_type": "code",
   "execution_count": 11,
   "id": "f695d31a",
   "metadata": {
    "id": "f695d31a"
   },
   "outputs": [],
   "source": [
    "y_train_oh = tf.keras.utils.to_categorical(y_train)\n",
    "y_test_oh = tf.keras.utils.to_categorical(y_test)"
   ]
  },
  {
   "cell_type": "code",
   "execution_count": 14,
   "id": "68b758a1",
   "metadata": {
    "id": "68b758a1"
   },
   "outputs": [],
   "source": []
  },
  {
   "cell_type": "code",
   "execution_count": 15,
   "id": "1cb5b569",
   "metadata": {
    "id": "1cb5b569"
   },
   "outputs": [],
   "source": [
    "# LogisticRegression"
   ]
  },
  {
   "cell_type": "code",
   "execution_count": 16,
   "id": "cc5278b6",
   "metadata": {
    "colab": {
     "base_uri": "https://localhost:8080/"
    },
    "id": "cc5278b6",
    "outputId": "47d9fc6f-c902-4078-8ef5-89be11236fab"
   },
   "outputs": [
    {
     "name": "stderr",
     "output_type": "stream",
     "text": [
      "/usr/local/lib/python3.7/dist-packages/sklearn/linear_model/_logistic.py:818: ConvergenceWarning: lbfgs failed to converge (status=1):\n",
      "STOP: TOTAL NO. of ITERATIONS REACHED LIMIT.\n",
      "\n",
      "Increase the number of iterations (max_iter) or scale the data as shown in:\n",
      "    https://scikit-learn.org/stable/modules/preprocessing.html\n",
      "Please also refer to the documentation for alternative solver options:\n",
      "    https://scikit-learn.org/stable/modules/linear_model.html#logistic-regression\n",
      "  extra_warning_msg=_LOGISTIC_SOLVER_CONVERGENCE_MSG,\n"
     ]
    },
    {
     "data": {
      "text/plain": [
       "0.8412"
      ]
     },
     "execution_count": 16,
     "metadata": {},
     "output_type": "execute_result"
    }
   ],
   "source": [
    "from sklearn.linear_model import LogisticRegression\n",
    "\n",
    "log = LogisticRegression()\n",
    "log.fit(x_train, y_train)\n",
    "log.score(x_test, y_test)"
   ]
  },
  {
   "cell_type": "code",
   "execution_count": 16,
   "id": "5bf67a4c",
   "metadata": {
    "id": "5bf67a4c"
   },
   "outputs": [],
   "source": []
  },
  {
   "cell_type": "code",
   "execution_count": 17,
   "id": "99e30f6a",
   "metadata": {
    "id": "99e30f6a"
   },
   "outputs": [],
   "source": [
    "# deep learning"
   ]
  },
  {
   "cell_type": "code",
   "execution_count": 18,
   "id": "6f971cd3",
   "metadata": {
    "colab": {
     "base_uri": "https://localhost:8080/"
    },
    "id": "6f971cd3",
    "outputId": "f1cabf2e-c85d-4782-dc09-e7be47b7b2be"
   },
   "outputs": [
    {
     "name": "stdout",
     "output_type": "stream",
     "text": [
      "Model: \"sequential\"\n",
      "_________________________________________________________________\n",
      " Layer (type)                Output Shape              Param #   \n",
      "=================================================================\n",
      " dense (Dense)               (None, 128)               100480    \n",
      "                                                                 \n",
      " dense_1 (Dense)             (None, 56)                7224      \n",
      "                                                                 \n",
      " dense_2 (Dense)             (None, 10)                570       \n",
      "                                                                 \n",
      "=================================================================\n",
      "Total params: 108,274\n",
      "Trainable params: 108,274\n",
      "Non-trainable params: 0\n",
      "_________________________________________________________________\n"
     ]
    }
   ],
   "source": [
    "model = Sequential()\n",
    "model.add(Dense(128, input_dim = 28 * 28, activation = 'relu'))\n",
    "model.add(Dense(56, activation = 'relu'))\n",
    "model.add(Dense(10, activation = 'softmax'))\n",
    "model.summary()"
   ]
  },
  {
   "cell_type": "code",
   "execution_count": 19,
   "id": "efc14dbf",
   "metadata": {
    "id": "efc14dbf"
   },
   "outputs": [],
   "source": [
    "model.compile(loss = 'categorical_crossentropy', metrics = ['accuracy'], optimizer = 'adam')"
   ]
  },
  {
   "cell_type": "code",
   "execution_count": 20,
   "id": "7e2ba3bb",
   "metadata": {
    "colab": {
     "base_uri": "https://localhost:8080/"
    },
    "id": "7e2ba3bb",
    "outputId": "c1392c0f-f918-4067-8681-87f54cfd606e"
   },
   "outputs": [
    {
     "name": "stdout",
     "output_type": "stream",
     "text": [
      "Epoch 1/50\n",
      "2400/2400 [==============================] - 14s 5ms/step - loss: 2.1388 - accuracy: 0.6734 - val_loss: 0.7745 - val_accuracy: 0.7211\n",
      "Epoch 2/50\n",
      "2400/2400 [==============================] - 9s 4ms/step - loss: 0.7086 - accuracy: 0.7447 - val_loss: 0.7336 - val_accuracy: 0.7286\n",
      "Epoch 3/50\n",
      "2400/2400 [==============================] - 9s 4ms/step - loss: 0.6256 - accuracy: 0.7719 - val_loss: 0.5975 - val_accuracy: 0.8102\n",
      "Epoch 4/50\n",
      "2400/2400 [==============================] - 9s 4ms/step - loss: 0.5543 - accuracy: 0.8048 - val_loss: 0.5604 - val_accuracy: 0.8038\n",
      "Epoch 5/50\n",
      "2400/2400 [==============================] - 9s 4ms/step - loss: 0.5027 - accuracy: 0.8254 - val_loss: 0.5880 - val_accuracy: 0.8195\n",
      "Epoch 6/50\n",
      "2400/2400 [==============================] - 9s 4ms/step - loss: 0.4688 - accuracy: 0.8337 - val_loss: 0.5013 - val_accuracy: 0.8289\n",
      "Epoch 7/50\n",
      "2400/2400 [==============================] - 9s 4ms/step - loss: 0.4490 - accuracy: 0.8405 - val_loss: 0.4904 - val_accuracy: 0.8341\n",
      "Epoch 8/50\n",
      "2400/2400 [==============================] - 9s 4ms/step - loss: 0.4281 - accuracy: 0.8476 - val_loss: 0.4777 - val_accuracy: 0.8393\n",
      "Epoch 9/50\n",
      "2400/2400 [==============================] - 9s 4ms/step - loss: 0.4249 - accuracy: 0.8510 - val_loss: 0.4813 - val_accuracy: 0.8357\n",
      "Epoch 10/50\n",
      "2400/2400 [==============================] - 9s 4ms/step - loss: 0.4055 - accuracy: 0.8575 - val_loss: 0.4339 - val_accuracy: 0.8590\n",
      "Epoch 11/50\n",
      "2400/2400 [==============================] - 9s 4ms/step - loss: 0.3972 - accuracy: 0.8627 - val_loss: 0.4366 - val_accuracy: 0.8508\n",
      "Epoch 12/50\n",
      "2400/2400 [==============================] - 11s 4ms/step - loss: 0.3876 - accuracy: 0.8630 - val_loss: 0.4548 - val_accuracy: 0.8507\n",
      "Epoch 13/50\n",
      "2400/2400 [==============================] - 9s 4ms/step - loss: 0.3824 - accuracy: 0.8645 - val_loss: 0.5064 - val_accuracy: 0.8388\n",
      "Epoch 14/50\n",
      "2400/2400 [==============================] - 9s 4ms/step - loss: 0.3852 - accuracy: 0.8681 - val_loss: 0.4220 - val_accuracy: 0.8607\n",
      "Epoch 15/50\n",
      "2400/2400 [==============================] - 9s 4ms/step - loss: 0.3713 - accuracy: 0.8705 - val_loss: 0.4258 - val_accuracy: 0.8636\n",
      "Epoch 16/50\n",
      "2400/2400 [==============================] - 9s 4ms/step - loss: 0.3635 - accuracy: 0.8710 - val_loss: 0.4609 - val_accuracy: 0.8572\n",
      "Epoch 17/50\n",
      "2400/2400 [==============================] - 9s 4ms/step - loss: 0.3610 - accuracy: 0.8740 - val_loss: 0.4566 - val_accuracy: 0.8606\n",
      "Epoch 18/50\n",
      "2400/2400 [==============================] - 9s 4ms/step - loss: 0.3563 - accuracy: 0.8748 - val_loss: 0.4383 - val_accuracy: 0.8512\n",
      "Epoch 19/50\n",
      "2400/2400 [==============================] - 11s 5ms/step - loss: 0.3709 - accuracy: 0.8714 - val_loss: 0.4578 - val_accuracy: 0.8633\n",
      "Epoch 20/50\n",
      "2400/2400 [==============================] - 11s 5ms/step - loss: 0.3447 - accuracy: 0.8805 - val_loss: 0.5220 - val_accuracy: 0.8435\n",
      "Epoch 21/50\n",
      "2400/2400 [==============================] - 10s 4ms/step - loss: 0.3458 - accuracy: 0.8786 - val_loss: 0.4234 - val_accuracy: 0.8631\n",
      "Epoch 22/50\n",
      "2400/2400 [==============================] - 12s 5ms/step - loss: 0.3338 - accuracy: 0.8818 - val_loss: 0.4738 - val_accuracy: 0.8596\n",
      "Epoch 23/50\n",
      "2400/2400 [==============================] - 14s 6ms/step - loss: 0.3506 - accuracy: 0.8793 - val_loss: 0.4831 - val_accuracy: 0.8539\n",
      "Epoch 24/50\n",
      "2400/2400 [==============================] - 11s 5ms/step - loss: 0.3359 - accuracy: 0.8844 - val_loss: 0.4503 - val_accuracy: 0.8599\n",
      "Epoch 25/50\n",
      "2400/2400 [==============================] - 10s 4ms/step - loss: 0.3381 - accuracy: 0.8829 - val_loss: 0.4901 - val_accuracy: 0.8689\n",
      "Epoch 26/50\n",
      "2400/2400 [==============================] - 10s 4ms/step - loss: 0.3397 - accuracy: 0.8842 - val_loss: 0.4746 - val_accuracy: 0.8662\n",
      "Epoch 27/50\n",
      "2400/2400 [==============================] - 11s 5ms/step - loss: 0.3363 - accuracy: 0.8842 - val_loss: 0.4393 - val_accuracy: 0.8627\n",
      "Epoch 28/50\n",
      "2400/2400 [==============================] - 17s 7ms/step - loss: 0.3259 - accuracy: 0.8854 - val_loss: 0.5124 - val_accuracy: 0.8668\n",
      "Epoch 29/50\n",
      "2400/2400 [==============================] - 17s 7ms/step - loss: 0.3304 - accuracy: 0.8855 - val_loss: 0.5441 - val_accuracy: 0.8584\n",
      "Epoch 30/50\n",
      "2400/2400 [==============================] - 13s 5ms/step - loss: 0.3231 - accuracy: 0.8876 - val_loss: 0.4485 - val_accuracy: 0.8648\n",
      "Epoch 31/50\n",
      "2400/2400 [==============================] - 11s 5ms/step - loss: 0.3335 - accuracy: 0.8856 - val_loss: 0.4976 - val_accuracy: 0.8641\n",
      "Epoch 32/50\n",
      "2400/2400 [==============================] - 10s 4ms/step - loss: 0.3294 - accuracy: 0.8882 - val_loss: 0.4654 - val_accuracy: 0.8634\n",
      "Epoch 33/50\n",
      "2400/2400 [==============================] - 11s 5ms/step - loss: 0.3280 - accuracy: 0.8890 - val_loss: 0.4324 - val_accuracy: 0.8648\n",
      "Epoch 34/50\n",
      "2400/2400 [==============================] - 11s 4ms/step - loss: 0.3152 - accuracy: 0.8910 - val_loss: 0.7799 - val_accuracy: 0.8518\n",
      "Epoch 35/50\n",
      "2400/2400 [==============================] - 14s 6ms/step - loss: 0.3265 - accuracy: 0.8905 - val_loss: 0.4615 - val_accuracy: 0.8625\n",
      "Epoch 36/50\n",
      "2400/2400 [==============================] - 13s 6ms/step - loss: 0.3301 - accuracy: 0.8931 - val_loss: 0.6262 - val_accuracy: 0.8546\n",
      "Epoch 37/50\n",
      "2400/2400 [==============================] - 12s 5ms/step - loss: 0.3115 - accuracy: 0.8925 - val_loss: 0.5232 - val_accuracy: 0.8621\n",
      "Epoch 38/50\n",
      "2400/2400 [==============================] - 12s 5ms/step - loss: 0.3233 - accuracy: 0.8904 - val_loss: 0.4952 - val_accuracy: 0.8652\n",
      "Epoch 39/50\n",
      "2400/2400 [==============================] - 15s 6ms/step - loss: 0.3067 - accuracy: 0.8942 - val_loss: 0.5455 - val_accuracy: 0.8644\n",
      "Epoch 40/50\n",
      "2400/2400 [==============================] - 17s 7ms/step - loss: 0.3200 - accuracy: 0.8919 - val_loss: 0.4639 - val_accuracy: 0.8717\n",
      "Epoch 41/50\n",
      "2400/2400 [==============================] - 13s 5ms/step - loss: 0.3089 - accuracy: 0.8944 - val_loss: 0.4873 - val_accuracy: 0.8708\n",
      "Epoch 42/50\n",
      "2400/2400 [==============================] - 13s 5ms/step - loss: 0.3194 - accuracy: 0.8938 - val_loss: 0.5140 - val_accuracy: 0.8649\n",
      "Epoch 43/50\n",
      "2400/2400 [==============================] - 12s 5ms/step - loss: 0.2986 - accuracy: 0.8964 - val_loss: 0.5273 - val_accuracy: 0.8596\n",
      "Epoch 44/50\n",
      "2400/2400 [==============================] - 13s 5ms/step - loss: 0.3220 - accuracy: 0.8923 - val_loss: 0.4911 - val_accuracy: 0.8608\n",
      "Epoch 45/50\n",
      "2400/2400 [==============================] - 15s 6ms/step - loss: 0.3181 - accuracy: 0.8912 - val_loss: 0.5275 - val_accuracy: 0.8597\n",
      "Epoch 46/50\n",
      "2400/2400 [==============================] - 13s 5ms/step - loss: 0.3140 - accuracy: 0.8942 - val_loss: 0.5331 - val_accuracy: 0.8486\n",
      "Epoch 47/50\n",
      "2400/2400 [==============================] - 14s 6ms/step - loss: 0.3154 - accuracy: 0.8944 - val_loss: 0.5248 - val_accuracy: 0.8690\n",
      "Epoch 48/50\n",
      "2400/2400 [==============================] - 13s 5ms/step - loss: 0.3022 - accuracy: 0.8956 - val_loss: 0.5825 - val_accuracy: 0.8570\n",
      "Epoch 49/50\n",
      "2400/2400 [==============================] - 16s 7ms/step - loss: 0.3016 - accuracy: 0.8968 - val_loss: 0.7360 - val_accuracy: 0.8187\n",
      "Epoch 50/50\n",
      "2400/2400 [==============================] - 15s 6ms/step - loss: 0.3012 - accuracy: 0.8970 - val_loss: 0.5626 - val_accuracy: 0.8630\n"
     ]
    }
   ],
   "source": [
    "hist = model.fit(x_train, y_train_oh, validation_split = 0.2, epochs = 50, batch_size = 20)"
   ]
  },
  {
   "cell_type": "code",
   "execution_count": 21,
   "id": "74f6b68c",
   "metadata": {
    "colab": {
     "base_uri": "https://localhost:8080/"
    },
    "id": "74f6b68c",
    "outputId": "6a2e8e33-4207-4179-af6f-40fff2381fc0"
   },
   "outputs": [
    {
     "name": "stdout",
     "output_type": "stream",
     "text": [
      "313/313 [==============================] - 2s 7ms/step - loss: 0.7225 - accuracy: 0.8550\n"
     ]
    },
    {
     "data": {
      "text/plain": [
       "[0.7225181460380554, 0.8550000190734863]"
      ]
     },
     "execution_count": 21,
     "metadata": {},
     "output_type": "execute_result"
    }
   ],
   "source": [
    "model.evaluate(x_test, y_test_oh)"
   ]
  },
  {
   "cell_type": "code",
   "execution_count": 22,
   "id": "316b9268",
   "metadata": {
    "colab": {
     "base_uri": "https://localhost:8080/",
     "height": 283
    },
    "id": "316b9268",
    "outputId": "52e9d598-eaa5-4f6a-b225-81365455fde0"
   },
   "outputs": [
    {
     "data": {
      "text/plain": [
       "[<matplotlib.lines.Line2D at 0x7fcae023ef10>]"
      ]
     },
     "execution_count": 22,
     "metadata": {},
     "output_type": "execute_result"
    },
    {
     "data": {
      "image/png": "[encoded data removed]",
      "text/plain": [
       "<Figure size 432x288 with 1 Axes>"
      ]
     },
     "metadata": {
      "needs_background": "light"
     },
     "output_type": "display_data"
    }
   ],
   "source": [
    "plt.plot(hist.history['accuracy'])\n",
    "plt.plot(hist.history['val_accuracy'])"
   ]
  },
  {
   "cell_type": "code",
   "execution_count": 22,
   "id": "228c62d3",
   "metadata": {
    "id": "228c62d3"
   },
   "outputs": [],
   "source": []
  },
  {
   "cell_type": "code",
   "execution_count": 22,
   "id": "41af18be",
   "metadata": {
    "id": "41af18be"
   },
   "outputs": [],
   "source": []
  },
  {
   "cell_type": "code",
   "execution_count": 22,
   "id": "4b83bed0",
   "metadata": {
    "id": "4b83bed0"
   },
   "outputs": [],
   "source": []
  },
  {
   "cell_type": "code",
   "execution_count": 23,
   "id": "8c25dad2",
   "metadata": {
    "id": "8c25dad2"
   },
   "outputs": [],
   "source": [
    "# image matrix 데이터를 vectorizing 하지 말고, matrix 구조 그대로 학습하자 => CNN"
   ]
  },
  {
   "cell_type": "code",
   "execution_count": 12,
   "id": "yqEB-5op_0CD",
   "metadata": {
    "id": "yqEB-5op_0CD"
   },
   "outputs": [],
   "source": [
    "from tensorflow.keras.layers import Conv2D, Flatten, MaxPooling2D, Dropout"
   ]
  },
  {
   "cell_type": "code",
   "execution_count": 13,
   "id": "4-5gnJAI_Tal",
   "metadata": {
    "id": "4-5gnJAI_Tal"
   },
   "outputs": [],
   "source": [
    "x_train_cov = train_input.reshape(60000, 28, 28, 1)\n",
    "x_test_cov = test_input.reshape(10000, 28, 28, 1)\n"
   ]
  },
  {
   "cell_type": "code",
   "execution_count": 14,
   "id": "B_ZoYtm5_TYL",
   "metadata": {
    "colab": {
     "base_uri": "https://localhost:8080/"
    },
    "id": "B_ZoYtm5_TYL",
    "outputId": "4a748341-a0dd-4563-8d42-87f5567813eb"
   },
   "outputs": [
    {
     "name": "stdout",
     "output_type": "stream",
     "text": [
      "Model: \"sequential\"\n",
      "_________________________________________________________________\n",
      " Layer (type)                Output Shape              Param #   \n",
      "=================================================================\n",
      " conv2d (Conv2D)             (None, 28, 28, 32)        320       \n",
      "                                                                 \n",
      " max_pooling2d (MaxPooling2D  (None, 14, 14, 32)       0         \n",
      " )                                                               \n",
      "                                                                 \n",
      " conv2d_1 (Conv2D)           (None, 14, 14, 64)        18496     \n",
      "                                                                 \n",
      " max_pooling2d_1 (MaxPooling  (None, 7, 7, 64)         0         \n",
      " 2D)                                                             \n",
      "                                                                 \n",
      " flatten (Flatten)           (None, 3136)              0         \n",
      "                                                                 \n",
      " dense (Dense)               (None, 100)               313700    \n",
      "                                                                 \n",
      " dropout (Dropout)           (None, 100)               0         \n",
      "                                                                 \n",
      " dense_1 (Dense)             (None, 10)                1010      \n",
      "                                                                 \n",
      "=================================================================\n",
      "Total params: 333,526\n",
      "Trainable params: 333,526\n",
      "Non-trainable params: 0\n",
      "_________________________________________________________________\n"
     ]
    }
   ],
   "source": [
    "model = Sequential()\n",
    "model.add(Conv2D(32, kernel_size = (3, 3), activation = 'relu', input_shape = (28, 28, 1), padding = 'same'))\n",
    "model.add(MaxPooling2D(2))\n",
    "model.add(Conv2D(64, kernel_size = (3, 3), activation = 'relu', padding = 'same'))\n",
    "model.add(MaxPooling2D(2))\n",
    "model.add(Flatten())\n",
    "model.add(Dense(100, activation = 'relu'))\n",
    "model.add(Dropout(0.3))\n",
    "model.add(Dense(10, activation = 'softmax'))\n",
    "model.summary()\n"
   ]
  },
  {
   "cell_type": "code",
   "execution_count": 15,
   "id": "UmP5BBKR_TVs",
   "metadata": {
    "id": "UmP5BBKR_TVs"
   },
   "outputs": [],
   "source": [
    "model.compile(loss = 'categorical_crossentropy', metrics = ['accuracy'], optimizer='adam')"
   ]
  },
  {
   "cell_type": "code",
   "execution_count": 29,
   "id": "qcnCaiIs_S4D",
   "metadata": {
    "colab": {
     "base_uri": "https://localhost:8080/"
    },
    "id": "qcnCaiIs_S4D",
    "outputId": "4149c003-dc46-4299-a7d9-c45fe73c12b2"
   },
   "outputs": [
    {
     "name": "stdout",
     "output_type": "stream",
     "text": [
      "Epoch 1/20\n",
      "800/800 [==============================] - 13s 6ms/step - loss: 1.0866 - accuracy: 0.7154 - val_loss: 0.5337 - val_accuracy: 0.8160\n",
      "Epoch 2/20\n",
      "800/800 [==============================] - 5s 6ms/step - loss: 0.5409 - accuracy: 0.8041 - val_loss: 0.4527 - val_accuracy: 0.8340\n",
      "Epoch 3/20\n",
      "800/800 [==============================] - 5s 6ms/step - loss: 0.4579 - accuracy: 0.8278 - val_loss: 0.4541 - val_accuracy: 0.8340\n",
      "Epoch 4/20\n",
      "800/800 [==============================] - 5s 6ms/step - loss: 0.4237 - accuracy: 0.8469 - val_loss: 0.4760 - val_accuracy: 0.8260\n",
      "Epoch 5/20\n",
      "800/800 [==============================] - 5s 6ms/step - loss: 0.3923 - accuracy: 0.8605 - val_loss: 0.4477 - val_accuracy: 0.8445\n",
      "Epoch 6/20\n",
      "800/800 [==============================] - 5s 6ms/step - loss: 0.3583 - accuracy: 0.8633 - val_loss: 0.4110 - val_accuracy: 0.8580\n",
      "Epoch 7/20\n",
      "800/800 [==============================] - 5s 6ms/step - loss: 0.3442 - accuracy: 0.8761 - val_loss: 0.3991 - val_accuracy: 0.8630\n",
      "Epoch 8/20\n",
      "800/800 [==============================] - 5s 6ms/step - loss: 0.3133 - accuracy: 0.8814 - val_loss: 0.3926 - val_accuracy: 0.8710\n",
      "Epoch 9/20\n",
      "800/800 [==============================] - 5s 6ms/step - loss: 0.2953 - accuracy: 0.8875 - val_loss: 0.4738 - val_accuracy: 0.8560\n",
      "Epoch 10/20\n",
      "800/800 [==============================] - 5s 6ms/step - loss: 0.2844 - accuracy: 0.8901 - val_loss: 0.4207 - val_accuracy: 0.8650\n",
      "Epoch 11/20\n",
      "800/800 [==============================] - 5s 6ms/step - loss: 0.2653 - accuracy: 0.9024 - val_loss: 0.4158 - val_accuracy: 0.8580\n",
      "Epoch 12/20\n",
      "800/800 [==============================] - 5s 6ms/step - loss: 0.2294 - accuracy: 0.9151 - val_loss: 0.4448 - val_accuracy: 0.8645\n",
      "Epoch 13/20\n",
      "800/800 [==============================] - 5s 6ms/step - loss: 0.2393 - accuracy: 0.9104 - val_loss: 0.4368 - val_accuracy: 0.8700\n",
      "Epoch 14/20\n",
      "800/800 [==============================] - 5s 6ms/step - loss: 0.2318 - accuracy: 0.9144 - val_loss: 0.4793 - val_accuracy: 0.8760\n",
      "Epoch 15/20\n",
      "800/800 [==============================] - 5s 6ms/step - loss: 0.2217 - accuracy: 0.9199 - val_loss: 0.5524 - val_accuracy: 0.8690\n",
      "Epoch 16/20\n",
      "800/800 [==============================] - 5s 6ms/step - loss: 0.1929 - accuracy: 0.9274 - val_loss: 0.5166 - val_accuracy: 0.8580\n",
      "Epoch 17/20\n",
      "800/800 [==============================] - 5s 6ms/step - loss: 0.2138 - accuracy: 0.9229 - val_loss: 0.6137 - val_accuracy: 0.8610\n",
      "Epoch 18/20\n",
      "800/800 [==============================] - 5s 6ms/step - loss: 0.1865 - accuracy: 0.9294 - val_loss: 0.5978 - val_accuracy: 0.8675\n",
      "Epoch 19/20\n",
      "800/800 [==============================] - 5s 6ms/step - loss: 0.1904 - accuracy: 0.9302 - val_loss: 0.5782 - val_accuracy: 0.8610\n",
      "Epoch 20/20\n",
      "800/800 [==============================] - 5s 6ms/step - loss: 0.1707 - accuracy: 0.9360 - val_loss: 0.5506 - val_accuracy: 0.8810\n"
     ]
    }
   ],
   "source": [
    "hist = model.fit(x_test_cov, y_test_oh, epochs = 20, batch_size=10, validation_split=0.2)"
   ]
  },
  {
   "cell_type": "code",
   "execution_count": 30,
   "id": "2kUbsTfVBe6Y",
   "metadata": {
    "colab": {
     "base_uri": "https://localhost:8080/"
    },
    "id": "2kUbsTfVBe6Y",
    "outputId": "940305c6-0151-480a-ae75-8f68879d9cde"
   },
   "outputs": [
    {
     "name": "stdout",
     "output_type": "stream",
     "text": [
      "313/313 [==============================] - 2s 6ms/step - loss: 0.1798 - accuracy: 0.9492\n"
     ]
    },
    {
     "data": {
      "text/plain": [
       "[0.17983059585094452, 0.9491999745368958]"
      ]
     },
     "execution_count": 30,
     "metadata": {},
     "output_type": "execute_result"
    }
   ],
   "source": [
    "model.evaluate(x_test_cov, y_test_oh)"
   ]
  },
  {
   "cell_type": "code",
   "execution_count": 32,
   "id": "zRF-skiwB-A_",
   "metadata": {
    "colab": {
     "base_uri": "https://localhost:8080/",
     "height": 283
    },
    "id": "zRF-skiwB-A_",
    "outputId": "b1a0c1e7-bc1f-4113-a6ab-ffd9d452a29a"
   },
   "outputs": [
    {
     "data": {
      "text/plain": [
       "[<matplotlib.lines.Line2D at 0x7fca66301a50>]"
      ]
     },
     "execution_count": 32,
     "metadata": {},
     "output_type": "execute_result"
    },
    {
     "data": {
      "image/png": "[encoded data removed]",
      "text/plain": [
       "<Figure size 432x288 with 1 Axes>"
      ]
     },
     "metadata": {
      "needs_background": "light"
     },
     "output_type": "display_data"
    }
   ],
   "source": [
    "plt.plot(hist.history['loss'])\n",
    "plt.plot(hist.history['val_loss'])"
   ]
  },
  {
   "cell_type": "markdown",
   "id": "PoeW9kI6FKkp",
   "metadata": {
    "id": "PoeW9kI6FKkp"
   },
   "source": [
    "model.summary()"
   ]
  },
  {
   "cell_type": "code",
   "execution_count": 16,
   "id": "YfChDtlMFiVV",
   "metadata": {
    "id": "YfChDtlMFiVV"
   },
   "outputs": [],
   "source": [
    "from tensorflow.keras import utils"
   ]
  },
  {
   "cell_type": "code",
   "execution_count": 53,
   "id": "YIf_I2nOFZnh",
   "metadata": {
    "colab": {
     "base_uri": "https://localhost:8080/",
     "height": 856
    },
    "id": "YIf_I2nOFZnh",
    "outputId": "a4e6dd99-d7ed-4d79-bf55-4a0f38f69b74"
   },
   "outputs": [
    {
     "data": {
      "image/png": "[encoded data removed]",
      "text/plain": [
       "<IPython.core.display.Image object>"
      ]
     },
     "execution_count": 53,
     "metadata": {},
     "output_type": "execute_result"
    }
   ],
   "source": [
    "utils.plot_model(model)"
   ]
  },
  {
   "cell_type": "code",
   "execution_count": null,
   "id": "CSLUPl6GJhDZ",
   "metadata": {
    "id": "CSLUPl6GJhDZ"
   },
   "outputs": [],
   "source": [
    "# filter print"
   ]
  },
  {
   "cell_type": "code",
   "execution_count": 17,
   "id": "HVJPDrdEFoMx",
   "metadata": {
    "colab": {
     "base_uri": "https://localhost:8080/"
    },
    "id": "HVJPDrdEFoMx",
    "outputId": "0abb5b8d-35b7-4484-e46d-75363b9718ff"
   },
   "outputs": [
    {
     "data": {
      "text/plain": [
       "[<keras.layers.convolutional.Conv2D at 0x223f6e61280>,\n",
       " <keras.layers.pooling.MaxPooling2D at 0x223f6ecda00>,\n",
       " <keras.layers.convolutional.Conv2D at 0x223f6fa7550>,\n",
       " <keras.layers.pooling.MaxPooling2D at 0x223f6ecda30>,\n",
       " <keras.layers.core.flatten.Flatten at 0x223f6ffc9a0>,\n",
       " <keras.layers.core.dense.Dense at 0x223f6ffcd60>,\n",
       " <keras.layers.core.dropout.Dropout at 0x223f7045be0>,\n",
       " <keras.layers.core.dense.Dense at 0x223f7045c70>]"
      ]
     },
     "execution_count": 17,
     "metadata": {},
     "output_type": "execute_result"
    }
   ],
   "source": [
    "model.layers"
   ]
  },
  {
   "cell_type": "code",
   "execution_count": 18,
   "id": "nSVaxJTRFw-4",
   "metadata": {
    "collapsed": true,
    "id": "nSVaxJTRFw-4"
   },
   "outputs": [
    {
     "data": {
      "text/plain": [
       "<tf.Variable 'conv2d/kernel:0' shape=(3, 3, 1, 32) dtype=float32, numpy=\n",
       "array([[[[-0.073519  , -0.03958282,  0.04320189,  0.05081193,\n",
       "          -0.06049955, -0.13680609,  0.06250663, -0.12242386,\n",
       "           0.06620994,  0.09215927, -0.0983347 ,  0.07358976,\n",
       "          -0.11184067,  0.09245178, -0.13173054, -0.06033655,\n",
       "          -0.0182197 ,  0.13585027, -0.13463496, -0.0979477 ,\n",
       "           0.09001434,  0.10947375, -0.06130271,  0.04282899,\n",
       "          -0.06990302,  0.00514017,  0.00634599, -0.07448157,\n",
       "          -0.05251112, -0.04428222, -0.04689283,  0.00277694]],\n",
       "\n",
       "        [[-0.07229733, -0.00327793, -0.00784583, -0.04054359,\n",
       "           0.01527296,  0.00583716, -0.13908155, -0.13080226,\n",
       "          -0.08217406, -0.02419844,  0.11892729,  0.00130486,\n",
       "           0.10217655, -0.14178431, -0.02200742,  0.13316695,\n",
       "           0.03209734, -0.08425833,  0.03152397, -0.11788343,\n",
       "          -0.05510502,  0.07110947,  0.07050519,  0.02235368,\n",
       "           0.09167916, -0.13880205,  0.00345136,  0.0030726 ,\n",
       "           0.04773198,  0.10285428,  0.06520121, -0.13862722]],\n",
       "\n",
       "        [[ 0.06654163, -0.06196073, -0.05705527,  0.12530549,\n",
       "           0.08427565, -0.07805983, -0.1077809 ,  0.03912748,\n",
       "           0.11300065,  0.01315771,  0.09319554,  0.05244459,\n",
       "          -0.08947434, -0.06947806, -0.02777091, -0.07000285,\n",
       "           0.02381968,  0.14119174, -0.0749177 , -0.07139741,\n",
       "           0.01450202,  0.02393538,  0.12923451, -0.09824307,\n",
       "          -0.03464015,  0.01651195,  0.0630493 , -0.13843277,\n",
       "           0.00038663,  0.10878022,  0.0075645 , -0.13034791]]],\n",
       "\n",
       "\n",
       "       [[[-0.03405851, -0.07396553,  0.09017128,  0.05257289,\n",
       "          -0.08559455, -0.1318081 , -0.00783028, -0.13489908,\n",
       "          -0.0143726 ,  0.0972171 , -0.06805087, -0.02248723,\n",
       "           0.08117974, -0.06577682, -0.05624957, -0.1283158 ,\n",
       "           0.12410654, -0.08429684,  0.09749341, -0.03967618,\n",
       "           0.12596388, -0.08345856, -0.11018287,  0.13215579,\n",
       "          -0.06764147,  0.13504077, -0.12434052, -0.06208175,\n",
       "           0.09065159, -0.06191871, -0.10675624,  0.01060572]],\n",
       "\n",
       "        [[ 0.02878076, -0.1014834 ,  0.01885363,  0.0761369 ,\n",
       "           0.0501554 , -0.08321434, -0.09690912, -0.12139629,\n",
       "           0.12525053,  0.10836954, -0.04970843, -0.0117341 ,\n",
       "           0.06264435,  0.07676032, -0.11938535, -0.13120309,\n",
       "           0.14044894,  0.13304146,  0.02869208, -0.04794862,\n",
       "           0.13538091,  0.14101653, -0.1308695 , -0.11537749,\n",
       "          -0.09615391, -0.11765275,  0.11629413,  0.01210147,\n",
       "          -0.13648707,  0.00721794, -0.01560746,  0.13512333]],\n",
       "\n",
       "        [[ 0.13177608, -0.07576139, -0.11602274, -0.08503371,\n",
       "           0.00326216, -0.04792131,  0.1351464 , -0.05299442,\n",
       "          -0.05016052, -0.04494516,  0.13975854, -0.00292431,\n",
       "          -0.11259998, -0.10298356,  0.01932155,  0.00252922,\n",
       "           0.01761444,  0.11214946,  0.03415905, -0.09628716,\n",
       "          -0.09143814,  0.0311745 ,  0.13909023,  0.1386243 ,\n",
       "           0.06103781,  0.08294216,  0.09729588,  0.13735856,\n",
       "           0.08177209,  0.03601336, -0.11876754, -0.09232   ]]],\n",
       "\n",
       "\n",
       "       [[[ 0.08669622,  0.07011335,  0.00888309,  0.04130413,\n",
       "           0.03012039, -0.00392313,  0.07002783, -0.00015867,\n",
       "           0.12965666, -0.11016084,  0.02164699,  0.07187547,\n",
       "           0.03452873,  0.01914825,  0.03740911,  0.10781591,\n",
       "           0.00132287,  0.0352934 , -0.00410548,  0.04370499,\n",
       "           0.06640737,  0.12068956,  0.1221344 , -0.0751522 ,\n",
       "          -0.11558034, -0.07803133, -0.03253737,  0.0804414 ,\n",
       "          -0.07824194,  0.07612196,  0.06060368, -0.00989863]],\n",
       "\n",
       "        [[-0.01215902,  0.0803273 ,  0.04777874,  0.04607964,\n",
       "           0.14176263,  0.10633607, -0.06496891, -0.05478302,\n",
       "           0.09190711,  0.10780774, -0.13802935,  0.0723675 ,\n",
       "          -0.08011299,  0.08077271,  0.09254444,  0.10861205,\n",
       "           0.11093794,  0.00835845, -0.11216172, -0.03964263,\n",
       "          -0.0988199 ,  0.12458532, -0.04121602,  0.06539014,\n",
       "           0.03638156,  0.01912619,  0.06301755,  0.02830525,\n",
       "          -0.03443093, -0.00770578,  0.06582589,  0.08099072]],\n",
       "\n",
       "        [[ 0.03430375,  0.09334525,  0.11409919, -0.07062888,\n",
       "           0.01448372,  0.12118371,  0.08405681, -0.0266552 ,\n",
       "          -0.02647452,  0.05152252, -0.04839566, -0.03816938,\n",
       "          -0.04236206,  0.08238734, -0.01529025,  0.05826722,\n",
       "           0.1149049 , -0.13781911, -0.11371474,  0.09988888,\n",
       "          -0.12988544,  0.0782254 ,  0.07613029,  0.00108111,\n",
       "           0.01444472, -0.08936818, -0.10708448, -0.00078991,\n",
       "           0.09697765, -0.06877168, -0.01416294,  0.11869185]]]],\n",
       "      dtype=float32)>"
      ]
     },
     "execution_count": 18,
     "metadata": {},
     "output_type": "execute_result"
    }
   ],
   "source": [
    "model.layers[0].weights[0]"
   ]
  },
  {
   "cell_type": "code",
   "execution_count": 19,
   "id": "UQt7mTluGDbx",
   "metadata": {
    "id": "UQt7mTluGDbx"
   },
   "outputs": [],
   "source": [
    "conv1 = model.layers[0]\n",
    "conv1_weights = conv1.weights[0].numpy()"
   ]
  },
  {
   "cell_type": "code",
   "execution_count": 22,
   "id": "rxvdNGBaGS1w",
   "metadata": {
    "colab": {
     "base_uri": "https://localhost:8080/",
     "height": 154
    },
    "id": "rxvdNGBaGS1w",
    "outputId": "a978273b-65ca-4756-856f-4701a1d5fb81"
   },
   "outputs": [
    {
     "data": {
      "image/png": "[encoded data removed]",
      "text/plain": [
       "<Figure size 1080x144 with 32 Axes>"
      ]
     },
     "metadata": {
      "needs_background": "light"
     },
     "output_type": "display_data"
    }
   ],
   "source": [
    "fig, axs = plt.subplots(2, 16, figsize = (15, 2))\n",
    "\n",
    "for i in range(2):\n",
    "    for j in range(16):\n",
    "        axs[i, j].imshow(conv1_weights[:, :, 0, i * 16 + j], vmin = -0.5, vmax = 0.5)\n",
    "        axs[i, j].axis('off')\n",
    "    \n",
    "plt.show()"
   ]
  },
  {
   "cell_type": "code",
   "execution_count": 57,
   "id": "MO7rEaA2HQT3",
   "metadata": {
    "id": "MO7rEaA2HQT3"
   },
   "outputs": [],
   "source": []
  },
  {
   "cell_type": "code",
   "execution_count": 58,
   "id": "rhCfjTr_Jkcv",
   "metadata": {
    "id": "rhCfjTr_Jkcv"
   },
   "outputs": [],
   "source": [
    "# layer putput print"
   ]
  },
  {
   "cell_type": "code",
   "execution_count": 25,
   "id": "EAnepXIyJmNf",
   "metadata": {
    "colab": {
     "base_uri": "https://localhost:8080/"
    },
    "id": "EAnepXIyJmNf",
    "outputId": "f0244b61-9ab3-4840-d0cf-ea6c579e346e"
   },
   "outputs": [
    {
     "data": {
      "text/plain": [
       "<KerasTensor: shape=(None, 28, 28, 1) dtype=float32 (created by layer 'conv2d_input')>"
      ]
     },
     "execution_count": 25,
     "metadata": {},
     "output_type": "execute_result"
    }
   ],
   "source": [
    "model.input"
   ]
  },
  {
   "cell_type": "code",
   "execution_count": 26,
   "id": "PwNlrXlaJnQf",
   "metadata": {
    "colab": {
     "base_uri": "https://localhost:8080/"
    },
    "id": "PwNlrXlaJnQf",
    "outputId": "2e8575f2-41cc-4bdd-b591-b60184841114"
   },
   "outputs": [
    {
     "data": {
      "text/plain": [
       "<KerasTensor: shape=(None, 28, 28, 32) dtype=float32 (created by layer 'conv2d')>"
      ]
     },
     "execution_count": 26,
     "metadata": {},
     "output_type": "execute_result"
    }
   ],
   "source": [
    "model.layers[0].output"
   ]
  },
  {
   "cell_type": "code",
   "execution_count": 27,
   "id": "ePVDSGR4Jq6X",
   "metadata": {
    "id": "ePVDSGR4Jq6X"
   },
   "outputs": [],
   "source": [
    "from tensorflow.keras.models import Model"
   ]
  },
  {
   "cell_type": "code",
   "execution_count": 28,
   "id": "AMWlBu0gJ5Rm",
   "metadata": {
    "id": "AMWlBu0gJ5Rm"
   },
   "outputs": [],
   "source": [
    "conv_acti = Model(model.input, model.layers[0].output)"
   ]
  },
  {
   "cell_type": "code",
   "execution_count": 29,
   "id": "f_vJgc10KC7m",
   "metadata": {
    "colab": {
     "base_uri": "https://localhost:8080/",
     "height": 265
    },
    "id": "f_vJgc10KC7m",
    "outputId": "8b40d3ec-f4e6-4eee-a1bf-e7f33d497e84"
   },
   "outputs": [
    {
     "data": {
      "image/png": "[encoded data removed]",
      "text/plain": [
       "<Figure size 432x288 with 1 Axes>"
      ]
     },
     "metadata": {
      "needs_background": "light"
     },
     "output_type": "display_data"
    }
   ],
   "source": [
    "plt.imshow(train_input[0], cmap = 'gray_r')\n",
    "plt.show()"
   ]
  },
  {
   "cell_type": "code",
   "execution_count": 30,
   "id": "m4KSeProKVnm",
   "metadata": {
    "id": "m4KSeProKVnm"
   },
   "outputs": [],
   "source": [
    "inputs = train_input[0].reshape(-1, 28, 28, 1)\n",
    "feature_maps = conv_acti.predict(inputs)\n"
   ]
  },
  {
   "cell_type": "code",
   "execution_count": 31,
   "id": "X1icy-pOKz7-",
   "metadata": {
    "colab": {
     "base_uri": "https://localhost:8080/",
     "height": 460
    },
    "id": "X1icy-pOKz7-",
    "outputId": "2b06d026-afc2-4ed6-bc19-b48742b27ced"
   },
   "outputs": [
    {
     "data": {
      "image/png": "[encoded data removed]",
      "text/plain": [
       "<Figure size 1080x576 with 32 Axes>"
      ]
     },
     "metadata": {
      "needs_background": "light"
     },
     "output_type": "display_data"
    }
   ],
   "source": [
    "fig, axs = plt.subplots(4, 8, figsize = (15, 8))\n",
    "\n",
    "for i in range(4):\n",
    "      for j in range(8):\n",
    "        axs[i, j].imshow(feature_maps[0, :, :, i * 8 + j])\n",
    "        axs[i, j].axis('off')\n",
    "plt.show()"
   ]
  },
  {
   "cell_type": "code",
   "execution_count": null,
   "id": "ToSM0eVRLB5t",
   "metadata": {
    "id": "ToSM0eVRLB5t"
   },
   "outputs": [],
   "source": []
  }
 ],
 "metadata": {
  "accelerator": "GPU",
  "colab": {
   "collapsed_sections": [],
   "name": "(2022.03.17 - 4) fashion_mnist.ipynb",
   "provenance": []
  },
  "kernelspec": {
   "display_name": "Python 3 (ipykernel)",
   "language": "python",
   "name": "python3"
  },
  "language_info": {
   "codemirror_mode": {
    "name": "ipython",
    "version": 3
   },
   "file_extension": ".py",
   "mimetype": "text/x-python",
   "name": "python",
   "nbconvert_exporter": "python",
   "pygments_lexer": "ipython3",
   "version": "3.9.7"
  }
 },
 "nbformat": 4,
 "nbformat_minor": 5
}
