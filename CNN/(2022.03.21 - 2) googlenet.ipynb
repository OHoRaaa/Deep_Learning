{
 "cells": [
  {
   "cell_type": "code",
   "execution_count": 1,
   "metadata": {
    "id": "uCGOCJmXkSOS"
   },
   "outputs": [],
   "source": [
    "from tensorflow.keras.layers import Input, Conv2D, MaxPooling2D, Dropout, BatchNormalization, Activation, add, Flatten, AveragePooling2D, concatenate, Dense\n",
    "from tensorflow.keras.models import Model\n",
    "\n",
    "from tensorflow.keras.preprocessing.image import ImageDataGenerator\n",
    "import tensorflow as tf\n",
    "import numpy as np\n",
    "import pandas as pd\n",
    "import matplotlib.pyplot as plt\n",
    "\n",
    "width = 32\n",
    "height = 32"
   ]
  },
  {
   "cell_type": "code",
   "execution_count": 2,
   "metadata": {
    "colab": {
     "base_uri": "https://localhost:8080/"
    },
    "id": "6ghKUoL1kvAT",
    "outputId": "14a7d8b8-8657-4636-e903-690b0395b3b5"
   },
   "outputs": [
    {
     "name": "stdout",
     "output_type": "stream",
     "text": [
      "Downloading data from https://www.cs.toronto.edu/~kriz/cifar-10-python.tar.gz\n",
      "170500096/170498071 [==============================] - 32s 0us/step\n",
      "170508288/170498071 [==============================] - 32s 0us/step\n"
     ]
    }
   ],
   "source": [
    "(x_train, y_train), (x_test, y_test) = tf.keras.datasets.cifar10.load_data()"
   ]
  },
  {
   "cell_type": "code",
   "execution_count": 3,
   "metadata": {
    "id": "tkyJ26AOlnOg"
   },
   "outputs": [],
   "source": [
    "num_classes = 10\n",
    "y_train = tf.keras.utils.to_categorical(y_train)\n",
    "y_test = tf.keras.utils.to_categorical(y_test)"
   ]
  },
  {
   "cell_type": "code",
   "execution_count": 4,
   "metadata": {
    "id": "0sIFcFgamP0i"
   },
   "outputs": [],
   "source": [
    "validation_images, validation_labels = x_train[:500], y_train[:500]\n",
    "train_images, validation_labels = x_train[500:], y_train[500:]"
   ]
  },
  {
   "cell_type": "code",
   "execution_count": 5,
   "metadata": {
    "colab": {
     "base_uri": "https://localhost:8080/"
    },
    "id": "Iq6p2OndmmE2",
    "outputId": "240a97a9-1f81-40e9-9230-585b55ed1332"
   },
   "outputs": [
    {
     "data": {
      "text/plain": [
       "(49500, 32, 32, 3)"
      ]
     },
     "execution_count": 5,
     "metadata": {},
     "output_type": "execute_result"
    }
   ],
   "source": [
    "train_images.shape"
   ]
  },
  {
   "cell_type": "code",
   "execution_count": 5,
   "metadata": {
    "id": "eyqstjXamoIP"
   },
   "outputs": [],
   "source": []
  },
  {
   "cell_type": "code",
   "execution_count": 8,
   "metadata": {
    "id": "JTKUJoibm1AN"
   },
   "outputs": [],
   "source": [
    "def inception(x, filters):\n",
    "    pre_layer = x\n",
    "    f1, f2, f3, f4 = filters\n",
    "\n",
    "    conv1 = Conv2D(f1, kernel_size = (1, 1), padding = 'same', activation = 'relu')(pre_layer)\n",
    "\n",
    "    conv2 = Conv2D(f4, kernel_size = (1, 1), padding = 'same', activation = 'relu')(pre_layer)\n",
    "    conv2 = Conv2D(f2, kernel_size = (3, 3), padding = 'same', activation = 'relu')(conv2)\n",
    "\n",
    "    conv3 = Conv2D(f4, kernel_size = (1, 1), padding = 'same', activation = 'relu')(pre_layer)\n",
    "    conv3 = Conv2D(f3, kernel_size = (5, 5), padding = 'same', activation = 'relu')(conv3)\n",
    "\n",
    "    max_pool = MaxPooling2D(pool_size = (3, 3), strides = 1, padding = 'same')(pre_layer)\n",
    "    max_pool = Conv2D(f4, kernel_size = (1, 1), padding = 'same')(max_pool)\n",
    "\n",
    "    concat = concatenate([conv1, conv2, conv3, max_pool], axis = -1)\n",
    "    return concat"
   ]
  },
  {
   "cell_type": "code",
   "execution_count": null,
   "metadata": {
    "id": "zTAzsNqWqrtg"
   },
   "outputs": [],
   "source": []
  },
  {
   "cell_type": "code",
   "execution_count": 9,
   "metadata": {
    "colab": {
     "base_uri": "https://localhost:8080/",
     "height": 418
    },
    "id": "xs4S8ySuBDo0",
    "outputId": "6fd549af-3ece-4b77-c437-ffa0ffb50977"
   },
   "outputs": [
    {
     "name": "stdout",
     "output_type": "stream",
     "text": [
      "Model: \"model\"\n",
      "__________________________________________________________________________________________________\n",
      " Layer (type)                   Output Shape         Param #     Connected to                     \n",
      "==================================================================================================\n",
      " input_3 (InputLayer)           [(None, 32, 32, 3)]  0           []                               \n",
      "                                                                                                  \n",
      " conv2d_10 (Conv2D)             (None, 16, 16, 64)   9472        ['input_3[0][0]']                \n",
      "                                                                                                  \n",
      " batch_normalization_4 (BatchNo  (None, 16, 16, 64)  256         ['conv2d_10[0][0]']              \n",
      " rmalization)                                                                                     \n",
      "                                                                                                  \n",
      " conv2d_11 (Conv2D)             (None, 16, 16, 192)  110784      ['batch_normalization_4[0][0]']  \n",
      "                                                                                                  \n",
      " batch_normalization_5 (BatchNo  (None, 16, 16, 192)  768        ['conv2d_11[0][0]']              \n",
      " rmalization)                                                                                     \n",
      "                                                                                                  \n",
      " conv2d_13 (Conv2D)             (None, 16, 16, 32)   6176        ['batch_normalization_5[0][0]']  \n",
      "                                                                                                  \n",
      " conv2d_15 (Conv2D)             (None, 16, 16, 32)   6176        ['batch_normalization_5[0][0]']  \n",
      "                                                                                                  \n",
      " max_pooling2d_1 (MaxPooling2D)  (None, 16, 16, 192)  0          ['batch_normalization_5[0][0]']  \n",
      "                                                                                                  \n",
      " conv2d_12 (Conv2D)             (None, 16, 16, 64)   12352       ['batch_normalization_5[0][0]']  \n",
      "                                                                                                  \n",
      " conv2d_14 (Conv2D)             (None, 16, 16, 128)  36992       ['conv2d_13[0][0]']              \n",
      "                                                                                                  \n",
      " conv2d_16 (Conv2D)             (None, 16, 16, 32)   25632       ['conv2d_15[0][0]']              \n",
      "                                                                                                  \n",
      " conv2d_17 (Conv2D)             (None, 16, 16, 32)   6176        ['max_pooling2d_1[0][0]']        \n",
      "                                                                                                  \n",
      " concatenate_1 (Concatenate)    (None, 16, 16, 256)  0           ['conv2d_12[0][0]',              \n",
      "                                                                  'conv2d_14[0][0]',              \n",
      "                                                                  'conv2d_16[0][0]',              \n",
      "                                                                  'conv2d_17[0][0]']              \n",
      "                                                                                                  \n",
      " conv2d_19 (Conv2D)             (None, 16, 16, 64)   16448       ['concatenate_1[0][0]']          \n",
      "                                                                                                  \n",
      " conv2d_21 (Conv2D)             (None, 16, 16, 64)   16448       ['concatenate_1[0][0]']          \n",
      "                                                                                                  \n",
      " max_pooling2d_2 (MaxPooling2D)  (None, 16, 16, 256)  0          ['concatenate_1[0][0]']          \n",
      "                                                                                                  \n",
      " conv2d_18 (Conv2D)             (None, 16, 16, 128)  32896       ['concatenate_1[0][0]']          \n",
      "                                                                                                  \n",
      " conv2d_20 (Conv2D)             (None, 16, 16, 192)  110784      ['conv2d_19[0][0]']              \n",
      "                                                                                                  \n",
      " conv2d_22 (Conv2D)             (None, 16, 16, 96)   153696      ['conv2d_21[0][0]']              \n",
      "                                                                                                  \n",
      " conv2d_23 (Conv2D)             (None, 16, 16, 64)   16448       ['max_pooling2d_2[0][0]']        \n",
      "                                                                                                  \n",
      " concatenate_2 (Concatenate)    (None, 16, 16, 480)  0           ['conv2d_18[0][0]',              \n",
      "                                                                  'conv2d_20[0][0]',              \n",
      "                                                                  'conv2d_22[0][0]',              \n",
      "                                                                  'conv2d_23[0][0]']              \n",
      "                                                                                                  \n",
      " max_pooling2d_3 (MaxPooling2D)  (None, 8, 8, 480)   0           ['concatenate_2[0][0]']          \n",
      "                                                                                                  \n",
      " conv2d_25 (Conv2D)             (None, 8, 8, 64)     30784       ['max_pooling2d_3[0][0]']        \n",
      "                                                                                                  \n",
      " conv2d_27 (Conv2D)             (None, 8, 8, 64)     30784       ['max_pooling2d_3[0][0]']        \n",
      "                                                                                                  \n",
      " max_pooling2d_4 (MaxPooling2D)  (None, 8, 8, 480)   0           ['max_pooling2d_3[0][0]']        \n",
      "                                                                                                  \n",
      " conv2d_24 (Conv2D)             (None, 8, 8, 192)    92352       ['max_pooling2d_3[0][0]']        \n",
      "                                                                                                  \n",
      " conv2d_26 (Conv2D)             (None, 8, 8, 208)    120016      ['conv2d_25[0][0]']              \n",
      "                                                                                                  \n",
      " conv2d_28 (Conv2D)             (None, 8, 8, 48)     76848       ['conv2d_27[0][0]']              \n",
      "                                                                                                  \n",
      " conv2d_29 (Conv2D)             (None, 8, 8, 64)     30784       ['max_pooling2d_4[0][0]']        \n",
      "                                                                                                  \n",
      " concatenate_3 (Concatenate)    (None, 8, 8, 512)    0           ['conv2d_24[0][0]',              \n",
      "                                                                  'conv2d_26[0][0]',              \n",
      "                                                                  'conv2d_28[0][0]',              \n",
      "                                                                  'conv2d_29[0][0]']              \n",
      "                                                                                                  \n",
      " conv2d_32 (Conv2D)             (None, 8, 8, 4)      2052        ['concatenate_3[0][0]']          \n",
      "                                                                                                  \n",
      " conv2d_34 (Conv2D)             (None, 8, 8, 4)      2052        ['concatenate_3[0][0]']          \n",
      "                                                                                                  \n",
      " max_pooling2d_5 (MaxPooling2D)  (None, 8, 8, 512)   0           ['concatenate_3[0][0]']          \n",
      "                                                                                                  \n",
      " conv2d_31 (Conv2D)             (None, 8, 8, 160)    82080       ['concatenate_3[0][0]']          \n",
      "                                                                                                  \n",
      " conv2d_33 (Conv2D)             (None, 8, 8, 224)    8288        ['conv2d_32[0][0]']              \n"
     ]
    },
    {
     "name": "stdout",
     "output_type": "stream",
     "text": [
      "                                                                                                  \n",
      " conv2d_35 (Conv2D)             (None, 8, 8, 64)     6464        ['conv2d_34[0][0]']              \n",
      "                                                                                                  \n",
      " conv2d_36 (Conv2D)             (None, 8, 8, 4)      2052        ['max_pooling2d_5[0][0]']        \n",
      "                                                                                                  \n",
      " concatenate_4 (Concatenate)    (None, 8, 8, 452)    0           ['conv2d_31[0][0]',              \n",
      "                                                                  'conv2d_33[0][0]',              \n",
      "                                                                  'conv2d_35[0][0]',              \n",
      "                                                                  'conv2d_36[0][0]']              \n",
      "                                                                                                  \n",
      " conv2d_38 (Conv2D)             (None, 8, 8, 64)     28992       ['concatenate_4[0][0]']          \n",
      "                                                                                                  \n",
      " conv2d_40 (Conv2D)             (None, 8, 8, 64)     28992       ['concatenate_4[0][0]']          \n",
      "                                                                                                  \n",
      " max_pooling2d_6 (MaxPooling2D)  (None, 8, 8, 452)   0           ['concatenate_4[0][0]']          \n",
      "                                                                                                  \n",
      " conv2d_37 (Conv2D)             (None, 8, 8, 120)    54360       ['concatenate_4[0][0]']          \n",
      "                                                                                                  \n",
      " conv2d_39 (Conv2D)             (None, 8, 8, 256)    147712      ['conv2d_38[0][0]']              \n",
      "                                                                                                  \n",
      " conv2d_41 (Conv2D)             (None, 8, 8, 64)     102464      ['conv2d_40[0][0]']              \n",
      "                                                                                                  \n",
      " conv2d_42 (Conv2D)             (None, 8, 8, 64)     28992       ['max_pooling2d_6[0][0]']        \n",
      "                                                                                                  \n",
      " concatenate_5 (Concatenate)    (None, 8, 8, 504)    0           ['conv2d_37[0][0]',              \n",
      "                                                                  'conv2d_39[0][0]',              \n",
      "                                                                  'conv2d_41[0][0]',              \n",
      "                                                                  'conv2d_42[0][0]']              \n",
      "                                                                                                  \n",
      " conv2d_44 (Conv2D)             (None, 8, 8, 64)     32320       ['concatenate_5[0][0]']          \n",
      "                                                                                                  \n",
      " conv2d_46 (Conv2D)             (None, 8, 8, 64)     32320       ['concatenate_5[0][0]']          \n",
      "                                                                                                  \n",
      " max_pooling2d_7 (MaxPooling2D)  (None, 8, 8, 504)   0           ['concatenate_5[0][0]']          \n",
      "                                                                                                  \n",
      " conv2d_43 (Conv2D)             (None, 8, 8, 112)    56560       ['concatenate_5[0][0]']          \n",
      "                                                                                                  \n",
      " conv2d_45 (Conv2D)             (None, 8, 8, 288)    166176      ['conv2d_44[0][0]']              \n",
      "                                                                                                  \n",
      " conv2d_47 (Conv2D)             (None, 8, 8, 64)     102464      ['conv2d_46[0][0]']              \n",
      "                                                                                                  \n",
      " conv2d_48 (Conv2D)             (None, 8, 8, 64)     32320       ['max_pooling2d_7[0][0]']        \n",
      "                                                                                                  \n",
      " concatenate_6 (Concatenate)    (None, 8, 8, 528)    0           ['conv2d_43[0][0]',              \n",
      "                                                                  'conv2d_45[0][0]',              \n",
      "                                                                  'conv2d_47[0][0]',              \n",
      "                                                                  'conv2d_48[0][0]']              \n",
      "                                                                                                  \n",
      " conv2d_51 (Conv2D)             (None, 8, 8, 128)    67712       ['concatenate_6[0][0]']          \n",
      "                                                                                                  \n",
      " conv2d_53 (Conv2D)             (None, 8, 8, 128)    67712       ['concatenate_6[0][0]']          \n",
      "                                                                                                  \n",
      " max_pooling2d_8 (MaxPooling2D)  (None, 8, 8, 528)   0           ['concatenate_6[0][0]']          \n",
      "                                                                                                  \n",
      " conv2d_50 (Conv2D)             (None, 8, 8, 256)    135424      ['concatenate_6[0][0]']          \n",
      "                                                                                                  \n",
      " conv2d_52 (Conv2D)             (None, 8, 8, 320)    368960      ['conv2d_51[0][0]']              \n",
      "                                                                                                  \n",
      " conv2d_54 (Conv2D)             (None, 8, 8, 128)    409728      ['conv2d_53[0][0]']              \n",
      "                                                                                                  \n",
      " conv2d_55 (Conv2D)             (None, 8, 8, 128)    67712       ['max_pooling2d_8[0][0]']        \n",
      "                                                                                                  \n",
      " concatenate_7 (Concatenate)    (None, 8, 8, 832)    0           ['conv2d_50[0][0]',              \n",
      "                                                                  'conv2d_52[0][0]',              \n",
      "                                                                  'conv2d_54[0][0]',              \n",
      "                                                                  'conv2d_55[0][0]']              \n",
      "                                                                                                  \n",
      " conv2d_57 (Conv2D)             (None, 8, 8, 128)    106624      ['concatenate_7[0][0]']          \n",
      "                                                                                                  \n",
      " conv2d_59 (Conv2D)             (None, 8, 8, 128)    106624      ['concatenate_7[0][0]']          \n",
      "                                                                                                  \n",
      " max_pooling2d_9 (MaxPooling2D)  (None, 8, 8, 832)   0           ['concatenate_7[0][0]']          \n",
      "                                                                                                  \n",
      " conv2d_56 (Conv2D)             (None, 8, 8, 256)    213248      ['concatenate_7[0][0]']          \n",
      "                                                                                                  \n",
      " conv2d_58 (Conv2D)             (None, 8, 8, 320)    368960      ['conv2d_57[0][0]']              \n",
      "                                                                                                  \n",
      " conv2d_60 (Conv2D)             (None, 8, 8, 128)    409728      ['conv2d_59[0][0]']              \n",
      "                                                                                                  \n",
      " conv2d_61 (Conv2D)             (None, 8, 8, 128)    106624      ['max_pooling2d_9[0][0]']        \n",
      "                                                                                                  \n",
      " concatenate_8 (Concatenate)    (None, 8, 8, 832)    0           ['conv2d_56[0][0]',              \n",
      "                                                                  'conv2d_58[0][0]',              \n"
     ]
    },
    {
     "name": "stdout",
     "output_type": "stream",
     "text": [
      "                                                                  'conv2d_60[0][0]',              \n",
      "                                                                  'conv2d_61[0][0]']              \n",
      "                                                                                                  \n",
      " conv2d_63 (Conv2D)             (None, 8, 8, 128)    106624      ['concatenate_8[0][0]']          \n",
      "                                                                                                  \n",
      " conv2d_65 (Conv2D)             (None, 8, 8, 128)    106624      ['concatenate_8[0][0]']          \n",
      "                                                                                                  \n",
      " max_pooling2d_10 (MaxPooling2D  (None, 8, 8, 832)   0           ['concatenate_8[0][0]']          \n",
      " )                                                                                                \n",
      "                                                                                                  \n",
      " conv2d_62 (Conv2D)             (None, 8, 8, 384)    319872      ['concatenate_8[0][0]']          \n",
      "                                                                                                  \n",
      " conv2d_64 (Conv2D)             (None, 8, 8, 384)    442752      ['conv2d_63[0][0]']              \n",
      "                                                                                                  \n",
      " conv2d_66 (Conv2D)             (None, 8, 8, 128)    409728      ['conv2d_65[0][0]']              \n",
      "                                                                                                  \n",
      " conv2d_67 (Conv2D)             (None, 8, 8, 128)    106624      ['max_pooling2d_10[0][0]']       \n",
      "                                                                                                  \n",
      " concatenate_9 (Concatenate)    (None, 8, 8, 1024)   0           ['conv2d_62[0][0]',              \n",
      "                                                                  'conv2d_64[0][0]',              \n",
      "                                                                  'conv2d_66[0][0]',              \n",
      "                                                                  'conv2d_67[0][0]']              \n",
      "                                                                                                  \n",
      " conv2d_30 (Conv2D)             (None, 8, 8, 128)    65664       ['concatenate_3[0][0]']          \n",
      "                                                                                                  \n",
      " conv2d_49 (Conv2D)             (None, 8, 8, 128)    67712       ['concatenate_6[0][0]']          \n",
      "                                                                                                  \n",
      " average_pooling2d_2 (AveragePo  (None, 2, 2, 1024)  0           ['concatenate_9[0][0]']          \n",
      " oling2D)                                                                                         \n",
      "                                                                                                  \n",
      " flatten (Flatten)              (None, 8192)         0           ['conv2d_30[0][0]']              \n",
      "                                                                                                  \n",
      " flatten_1 (Flatten)            (None, 8192)         0           ['conv2d_49[0][0]']              \n",
      "                                                                                                  \n",
      " dropout (Dropout)              (None, 2, 2, 1024)   0           ['average_pooling2d_2[0][0]']    \n",
      "                                                                                                  \n",
      " dense (Dense)                  (None, 512)          4194816     ['flatten[0][0]']                \n",
      "                                                                                                  \n",
      " dense_2 (Dense)                (None, 512)          4194816     ['flatten_1[0][0]']              \n",
      "                                                                                                  \n",
      " flatten_2 (Flatten)            (None, 4096)         0           ['dropout[0][0]']                \n",
      "                                                                                                  \n",
      " dense_1 (Dense)                (None, 10)           5130        ['dense[0][0]']                  \n",
      "                                                                                                  \n",
      " dense_3 (Dense)                (None, 10)           5130        ['dense_2[0][0]']                \n",
      "                                                                                                  \n",
      " dense_4 (Dense)                (None, 10)           40970       ['flatten_2[0][0]']              \n",
      "                                                                                                  \n",
      "==================================================================================================\n",
      "Total params: 14,355,250\n",
      "Trainable params: 14,354,738\n",
      "Non-trainable params: 512\n",
      "__________________________________________________________________________________________________\n"
     ]
    }
   ],
   "source": [
    "input_shape = x_train[0].shape\n",
    "inputs = Input(shape = input_shape)\n",
    "\n",
    "x = Conv2D(64, kernel_size = (7, 7), strides = 2, padding = 'same', activation = 'relu')(inputs)\n",
    "x = BatchNormalization()(x)\n",
    "x = Conv2D(192, kernel_size = (3, 3), padding = 'same', activation = 'relu')(x)\n",
    "x = BatchNormalization()(x)\n",
    "\n",
    "x = inception(x, [64, 128, 32, 32])\n",
    "x = inception(x, [128, 192, 96, 64])\n",
    "x = MaxPooling2D(pool_size = (3, 3), strides = 2, padding = 'same')(x)\n",
    "\n",
    "x = inception(x, [192, 208, 48, 64])\n",
    "\n",
    "aux1 = AveragePooling2D(pool_size = (5, 5), strides = 3, padding = 'valid')(x)\n",
    "aux1 = Conv2D(128, kernel_size = (1, 1), padding = 'same', activation = 'relu')(x)\n",
    "aux1 = Flatten()(aux1)\n",
    "aux1 = Dense(512, activation = 'relu')(aux1)\n",
    "aux1 = Dense(10, activation = 'softmax')(aux1)\n",
    "\n",
    "x = inception(x, [160, 224, 64, 4])\n",
    "\n",
    "x = inception(x, [120, 256, 64, 64])\n",
    "x = inception(x, [112, 288, 64, 64])\n",
    "\n",
    "aux2 = AveragePooling2D(pool_size = (5, 5), strides = 3, padding = 'valid')(x)\n",
    "aux2 = Conv2D(128, kernel_size = (1, 1), padding = 'same', activation = 'relu')(x)\n",
    "aux2 = Flatten()(aux2)\n",
    "aux2 = Dense(512, activation = 'relu')(aux2)\n",
    "aux2 = Dense(10, activation = 'softmax')(aux2)\n",
    "\n",
    "x = inception(x, [256, 320, 128, 128])\n",
    "x = inception(x, [256, 320, 128, 128])\n",
    "x = inception(x, [384, 384, 128, 128])\n",
    "\n",
    "x = AveragePooling2D(pool_size = (4, 4), padding = 'valid')(x)   # padding 안쓰겠다는 뜻\n",
    "x = Dropout(0.4)(x)\n",
    "x = Flatten()(x)\n",
    "\n",
    "output = Dense(10, activation = 'softmax')(x)\n",
    "\n",
    "model = Model(inputs = inputs, outputs = [aux1, aux2, output])\n",
    "model.summary()\n",
    "\n"
   ]
  },
  {
   "cell_type": "code",
   "execution_count": null,
   "metadata": {
    "id": "D1ItWWGJFRqk"
   },
   "outputs": [],
   "source": []
  }
 ],
 "metadata": {
  "accelerator": "GPU",
  "colab": {
   "collapsed_sections": [],
   "name": "googlenet.ipynb",
   "provenance": []
  },
  "kernelspec": {
   "display_name": "Python 3 (ipykernel)",
   "language": "python",
   "name": "python3"
  },
  "language_info": {
   "codemirror_mode": {
    "name": "ipython",
    "version": 3
   },
   "file_extension": ".py",
   "mimetype": "text/x-python",
   "name": "python",
   "nbconvert_exporter": "python",
   "pygments_lexer": "ipython3",
   "version": "3.9.7"
  }
 },
 "nbformat": 4,
 "nbformat_minor": 1
}
