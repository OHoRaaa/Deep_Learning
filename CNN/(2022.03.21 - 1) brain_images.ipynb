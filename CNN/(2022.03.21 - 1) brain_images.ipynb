{
 "cells": [
  {
   "cell_type": "code",
   "execution_count": 1,
   "metadata": {
    "colab": {
     "base_uri": "https://localhost:8080/"
    },
    "id": "zIfXaa1EIO9V",
    "outputId": "2ca42d81-aa7a-4083-9ac2-a51ff95eb460"
   },
   "outputs": [
    {
     "name": "stdout",
     "output_type": "stream",
     "text": [
      "Mounted at ./mydrive\n"
     ]
    }
   ],
   "source": [
    "from google.colab import drive\n",
    "drive.mount('./mydrive')"
   ]
  },
  {
   "cell_type": "code",
   "execution_count": 25,
   "metadata": {
    "colab": {
     "base_uri": "https://localhost:8080/",
     "height": 35
    },
    "id": "pEV0iqnCJQ4R",
    "outputId": "b8966b6b-a02d-460f-913d-fd59476998f2"
   },
   "outputs": [
    {
     "data": {
      "application/vnd.google.colaboratory.intrinsic+json": {
       "type": "string"
      },
      "text/plain": [
       "'/content/mydrive/MyDrive/brainimages'"
      ]
     },
     "execution_count": 25,
     "metadata": {},
     "output_type": "execute_result"
    }
   ],
   "source": [
    "pwd"
   ]
  },
  {
   "cell_type": "code",
   "execution_count": 8,
   "metadata": {
    "colab": {
     "base_uri": "https://localhost:8080/"
    },
    "id": "X_hMp-c5JQ95",
    "outputId": "82932a04-e579-41e5-ca77-20b857b64bc9"
   },
   "outputs": [
    {
     "name": "stdout",
     "output_type": "stream",
     "text": [
      " \u001b[0m\u001b[01;34mbrainimages\u001b[0m/  \u001b[01;34m'Colab Notebooks'\u001b[0m/   \u001b[01;34mdogsandcats\u001b[0m/\n"
     ]
    }
   ],
   "source": [
    "ls"
   ]
  },
  {
   "cell_type": "code",
   "execution_count": 9,
   "metadata": {
    "colab": {
     "base_uri": "https://localhost:8080/"
    },
    "id": "JW9GxpO5JRDN",
    "outputId": "9db7f96e-b57b-469a-e344-ce08869cb1f5"
   },
   "outputs": [
    {
     "name": "stdout",
     "output_type": "stream",
     "text": [
      "/content/mydrive/MyDrive/brainimages\n"
     ]
    }
   ],
   "source": [
    "cd brainimages/"
   ]
  },
  {
   "cell_type": "code",
   "execution_count": 10,
   "metadata": {
    "id": "iEwhT2OCJRIR"
   },
   "outputs": [],
   "source": [
    "import tensorflow as tf\n",
    "import os\n",
    "from tensorflow.keras.models import Sequential\n",
    "from tensorflow.keras.layers import Dense, Conv2D, MaxPooling2D, Flatten, Activation, Dropout\n",
    "from tensorflow.keras.preprocessing.image import ImageDataGenerator\n",
    "from tensorflow.keras import optimizers, initializers, regularizers, metrics\n",
    "\n",
    "import pandas as pd\n",
    "import numpy as np\n",
    "import matplotlib.pyplot as plt\n",
    "import seaborn as sns"
   ]
  },
  {
   "cell_type": "code",
   "execution_count": 24,
   "metadata": {
    "id": "yVMQjQm0iOLC"
   },
   "outputs": [],
   "source": [
    "import PIL.Image as pilmg"
   ]
  },
  {
   "cell_type": "code",
   "execution_count": 27,
   "metadata": {
    "colab": {
     "base_uri": "https://localhost:8080/",
     "height": 167
    },
    "id": "-dUUpAV5iU8c",
    "outputId": "77dba857-3fc7-4601-cd2b-38d8c49a066a"
   },
   "outputs": [
    {
     "data": {
      "image/png": "[encoded data removed]",
      "text/plain": [
       "<PIL.JpegImagePlugin.JpegImageFile image mode=RGB size=150x150 at 0x7F211A258090>"
      ]
     },
     "execution_count": 27,
     "metadata": {},
     "output_type": "execute_result"
    }
   ],
   "source": [
    "img = pilmg.open('/content/mydrive/MyDrive/brainimages/train/normal/normal_train_1.jpg')\n",
    "img"
   ]
  },
  {
   "cell_type": "code",
   "execution_count": null,
   "metadata": {
    "id": "3gAz3SvYi1-s"
   },
   "outputs": [],
   "source": [
    "img_arr = np.array(img)\n",
    "img_arr"
   ]
  },
  {
   "cell_type": "code",
   "execution_count": 30,
   "metadata": {
    "colab": {
     "base_uri": "https://localhost:8080/"
    },
    "id": "0wX3ymW-i9Q_",
    "outputId": "5d38c570-6602-4843-bd06-d8f225198244"
   },
   "outputs": [
    {
     "data": {
      "text/plain": [
       "(150, 150, 3)"
      ]
     },
     "execution_count": 30,
     "metadata": {},
     "output_type": "execute_result"
    }
   ],
   "source": [
    "img_arr.shape"
   ]
  },
  {
   "cell_type": "code",
   "execution_count": 11,
   "metadata": {
    "id": "K6y7H9RzJRNY"
   },
   "outputs": [],
   "source": [
    "# 이미지 변형(훈련 데이터 증강)\n",
    "\n",
    "train_datagen = ImageDataGenerator(rescale = 1./255,                 # 이미지 크기 변경, RGB값을 0~1로 정규화\n",
    "                                   horizontal_flip = True,           # 수평 대칭 이미지 생성\n",
    "                                   width_shift_range = 0.1,          # 전체 크기의 10% 범위에서 좌우 이동\n",
    "                                   rotation_range = 5,               # 정해진 각도만큼 이미지 회전\n",
    "                                  #  sheer_range = 0.7,\n",
    "                                   zoom_range = [0.9, 2],            # 정해진 범위 안에서 축소 또는 확대\n",
    "                                   vertical_flip = True,             # 수직 대칭 이미지 생성\n",
    "                                   fill_mode = 'nearest')            # 이미지 축소/회전 시, 빈공간을 어떻게 채울지 결정"
   ]
  },
  {
   "cell_type": "code",
   "execution_count": 12,
   "metadata": {
    "colab": {
     "base_uri": "https://localhost:8080/"
    },
    "id": "kVF6DP_xJRRw",
    "outputId": "8756aea1-87c9-4cee-fd6c-537a65367737"
   },
   "outputs": [
    {
     "name": "stdout",
     "output_type": "stream",
     "text": [
      "Found 160 images belonging to 2 classes.\n"
     ]
    }
   ],
   "source": [
    "train_generator = train_datagen.flow_from_directory('train',         # 학습셋 폴더 위치\n",
    "                                  target_size = (150, 150),\n",
    "                                  batch_size = 5,\n",
    "                                  class_mode = 'binary')"
   ]
  },
  {
   "cell_type": "code",
   "execution_count": 13,
   "metadata": {
    "id": "1sHMK67UJRWt"
   },
   "outputs": [],
   "source": [
    "test_datagen = ImageDataGenerator(rescale = 1./255)"
   ]
  },
  {
   "cell_type": "code",
   "execution_count": 14,
   "metadata": {
    "colab": {
     "base_uri": "https://localhost:8080/"
    },
    "id": "yV1yRndkJRcd",
    "outputId": "1a14e4d6-359f-4cdc-c496-3a285211cad6"
   },
   "outputs": [
    {
     "name": "stdout",
     "output_type": "stream",
     "text": [
      "Found 120 images belonging to 2 classes.\n"
     ]
    }
   ],
   "source": [
    "test_generator = test_datagen.flow_from_directory(\n",
    "    './test',\n",
    "    target_size = (150, 150),                                        # 임의로 준다\n",
    "    batch_size = 5,\n",
    "    class_mode = 'binary'\n",
    ")"
   ]
  },
  {
   "cell_type": "code",
   "execution_count": 16,
   "metadata": {
    "colab": {
     "base_uri": "https://localhost:8080/"
    },
    "id": "PAahb-JHeg49",
    "outputId": "2ecbd49f-cb42-4041-b77e-7f2c2297ab3c"
   },
   "outputs": [
    {
     "data": {
      "text/plain": [
       "<keras.preprocessing.image.DirectoryIterator at 0x7f219a721150>"
      ]
     },
     "execution_count": 16,
     "metadata": {},
     "output_type": "execute_result"
    }
   ],
   "source": [
    "test_generator"
   ]
  },
  {
   "cell_type": "code",
   "execution_count": null,
   "metadata": {},
   "outputs": [],
   "source": [
    "train_generator.next()[0].shape"
   ]
  },
  {
   "cell_type": "code",
   "execution_count": 17,
   "metadata": {
    "colab": {
     "base_uri": "https://localhost:8080/"
    },
    "id": "njjykNYPJRhg",
    "outputId": "af8ed816-42ef-40c0-e640-e733d332f21b"
   },
   "outputs": [
    {
     "name": "stdout",
     "output_type": "stream",
     "text": [
      "Model: \"sequential\"\n",
      "_________________________________________________________________\n",
      " Layer (type)                Output Shape              Param #   \n",
      "=================================================================\n",
      " conv2d (Conv2D)             (None, 148, 148, 32)      896       \n",
      "                                                                 \n",
      " activation (Activation)     (None, 148, 148, 32)      0         \n",
      "                                                                 \n",
      " max_pooling2d (MaxPooling2D  (None, 74, 74, 32)       0         \n",
      " )                                                               \n",
      "                                                                 \n",
      " conv2d_1 (Conv2D)           (None, 72, 72, 32)        9248      \n",
      "                                                                 \n",
      " activation_1 (Activation)   (None, 72, 72, 32)        0         \n",
      "                                                                 \n",
      " max_pooling2d_1 (MaxPooling  (None, 36, 36, 32)       0         \n",
      " 2D)                                                             \n",
      "                                                                 \n",
      " conv2d_2 (Conv2D)           (None, 34, 34, 64)        18496     \n",
      "                                                                 \n",
      " activation_2 (Activation)   (None, 34, 34, 64)        0         \n",
      "                                                                 \n",
      " max_pooling2d_2 (MaxPooling  (None, 17, 17, 64)       0         \n",
      " 2D)                                                             \n",
      "                                                                 \n",
      " flatten (Flatten)           (None, 18496)             0         \n",
      "                                                                 \n",
      " dense (Dense)               (None, 64)                1183808   \n",
      "                                                                 \n",
      " activation_3 (Activation)   (None, 64)                0         \n",
      "                                                                 \n",
      " dropout (Dropout)           (None, 64)                0         \n",
      "                                                                 \n",
      " dense_1 (Dense)             (None, 2)                 130       \n",
      "                                                                 \n",
      " activation_4 (Activation)   (None, 2)                 0         \n",
      "                                                                 \n",
      "=================================================================\n",
      "Total params: 1,212,578\n",
      "Trainable params: 1,212,578\n",
      "Non-trainable params: 0\n",
      "_________________________________________________________________\n"
     ]
    }
   ],
   "source": [
    "model = Sequential()\n",
    "model.add(Conv2D(32, (3,3), input_shape = (150, 150, 3)))\n",
    "model.add(Activation('relu'))\n",
    "model.add(MaxPooling2D(pool_size = (2, 2)))\n",
    "\n",
    "model.add(Conv2D(32, (3,3)))\n",
    "model.add(Activation('relu'))\n",
    "model.add(MaxPooling2D(pool_size=(2,2)))\n",
    "\n",
    "model.add(Conv2D(64, (3,3)))\n",
    "model.add(Activation('relu'))\n",
    "model.add(MaxPooling2D(pool_size=(2,2)))\n",
    "\n",
    "model.add(Flatten())\n",
    "model.add(Dense(64))\n",
    "model.add(Activation('relu'))\n",
    "model.add(Dropout(0.5))\n",
    "model.add(Dense(2))                                              # 폴더안에 normal, ad 두 개가 있음\n",
    "model.add(Activation('softmax'))\n",
    "model.summary()"
   ]
  },
  {
   "cell_type": "code",
   "execution_count": 18,
   "metadata": {
    "id": "3tE4sAgBbMAl"
   },
   "outputs": [],
   "source": [
    "# y(label) : binary\n",
    "# abnormal, normal : 0, 1\n",
    "\n",
    "# y(label)  : one_hot\n",
    "# normal : [1, 0]\n",
    "# abnormal : [0, 1]\n",
    "\n",
    "# y(label) : 0, 1, 2, 3, ... => loss를 'sparse_categorical_crossentropy' 으로 지정 해주면 자동으로 one_hot으로 바꿔준다"
   ]
  },
  {
   "cell_type": "code",
   "execution_count": 19,
   "metadata": {
    "id": "9qS_3jjfJRmm"
   },
   "outputs": [],
   "source": [
    "adam = optimizers.Adam(learning_rate = 0.0002)\n",
    "model.compile(loss = 'sparse_categorical_crossentropy', optimizer = adam, metrics = ['accuracy'])"
   ]
  },
  {
   "cell_type": "code",
   "execution_count": 20,
   "metadata": {
    "colab": {
     "base_uri": "https://localhost:8080/"
    },
    "id": "_QRtWXDHVv9S",
    "outputId": "5c4c4e5f-63e7-49f5-acf9-51e1809b4754"
   },
   "outputs": [
    {
     "name": "stdout",
     "output_type": "stream",
     "text": [
      "Epoch 1/20\n",
      "32/32 [==============================] - 64s 2s/step - loss: 0.7105 - accuracy: 0.4563 - val_loss: 0.6865 - val_accuracy: 0.5200\n",
      "Epoch 2/20\n",
      "32/32 [==============================] - 5s 158ms/step - loss: 0.6930 - accuracy: 0.5250 - val_loss: 0.6930 - val_accuracy: 0.4600\n",
      "Epoch 3/20\n",
      "32/32 [==============================] - 2s 77ms/step - loss: 0.6886 - accuracy: 0.5125 - val_loss: 0.6820 - val_accuracy: 0.5200\n",
      "Epoch 4/20\n",
      "32/32 [==============================] - 2s 65ms/step - loss: 0.6916 - accuracy: 0.5312 - val_loss: 0.6774 - val_accuracy: 0.5700\n",
      "Epoch 5/20\n",
      "32/32 [==============================] - 2s 63ms/step - loss: 0.6746 - accuracy: 0.6375 - val_loss: 0.7179 - val_accuracy: 0.4800\n",
      "Epoch 6/20\n",
      "32/32 [==============================] - 2s 63ms/step - loss: 0.6651 - accuracy: 0.6313 - val_loss: 0.6719 - val_accuracy: 0.5000\n",
      "Epoch 7/20\n",
      "32/32 [==============================] - 2s 63ms/step - loss: 0.6586 - accuracy: 0.5875 - val_loss: 0.6375 - val_accuracy: 0.7700\n",
      "Epoch 8/20\n",
      "32/32 [==============================] - 2s 64ms/step - loss: 0.6393 - accuracy: 0.6938 - val_loss: 0.6379 - val_accuracy: 0.6100\n",
      "Epoch 9/20\n",
      "32/32 [==============================] - 2s 63ms/step - loss: 0.5725 - accuracy: 0.7063 - val_loss: 0.5858 - val_accuracy: 0.7400\n",
      "Epoch 10/20\n",
      "32/32 [==============================] - 2s 64ms/step - loss: 0.5105 - accuracy: 0.7812 - val_loss: 0.5308 - val_accuracy: 0.7500\n",
      "Epoch 11/20\n",
      "32/32 [==============================] - 2s 64ms/step - loss: 0.4094 - accuracy: 0.8313 - val_loss: 0.4597 - val_accuracy: 0.7600\n",
      "Epoch 12/20\n",
      "32/32 [==============================] - 2s 63ms/step - loss: 0.3801 - accuracy: 0.8313 - val_loss: 0.3899 - val_accuracy: 0.8200\n",
      "Epoch 13/20\n",
      "32/32 [==============================] - 2s 65ms/step - loss: 0.3517 - accuracy: 0.8250 - val_loss: 0.3916 - val_accuracy: 0.8500\n",
      "Epoch 14/20\n",
      "32/32 [==============================] - 2s 66ms/step - loss: 0.2541 - accuracy: 0.9312 - val_loss: 0.7512 - val_accuracy: 0.6700\n",
      "Epoch 15/20\n",
      "32/32 [==============================] - 2s 63ms/step - loss: 0.2821 - accuracy: 0.8875 - val_loss: 0.4097 - val_accuracy: 0.8500\n",
      "Epoch 16/20\n",
      "32/32 [==============================] - 2s 65ms/step - loss: 0.2170 - accuracy: 0.9250 - val_loss: 0.4450 - val_accuracy: 0.8100\n",
      "Epoch 17/20\n",
      "32/32 [==============================] - 2s 66ms/step - loss: 0.2510 - accuracy: 0.9062 - val_loss: 0.5611 - val_accuracy: 0.6900\n",
      "Epoch 18/20\n",
      "32/32 [==============================] - 2s 65ms/step - loss: 0.1967 - accuracy: 0.9438 - val_loss: 0.3504 - val_accuracy: 0.8500\n",
      "Epoch 19/20\n",
      "32/32 [==============================] - 2s 66ms/step - loss: 0.2004 - accuracy: 0.9500 - val_loss: 0.2917 - val_accuracy: 0.8300\n",
      "Epoch 20/20\n",
      "32/32 [==============================] - 2s 64ms/step - loss: 0.1734 - accuracy: 0.9438 - val_loss: 0.3200 - val_accuracy: 0.8200\n"
     ]
    }
   ],
   "source": [
    "hist = model.fit(\n",
    "    train_generator,                            #  앞서 만든 train_generator 를 학습 모델로 사용\n",
    "    # steps_per_epochs = 100,                   # 이미지 생성기에서 몇개의 샘플 뽑을지 결정\n",
    "    epochs = 20,                                # 전체 데이터 20번 학습\n",
    "    validation_data = test_generator,           # 앞서 만든 test_generator 를 테스트 셋으로 사용\n",
    "    validation_steps = 20                       # 한 번 가져올 때마다 20개 씩 가져옴           \n",
    ")"
   ]
  },
  {
   "cell_type": "code",
   "execution_count": 20,
   "metadata": {
    "id": "3v5zCh5HXEwX"
   },
   "outputs": [],
   "source": []
  },
  {
   "cell_type": "code",
   "execution_count": 21,
   "metadata": {
    "colab": {
     "base_uri": "https://localhost:8080/",
     "height": 265
    },
    "id": "BIWklFYJYGyv",
    "outputId": "c209cac3-f562-41e5-d050-03c50dc3b6ae"
   },
   "outputs": [
    {
     "data": {
      "image/png": "[encoded data removed]",
      "text/plain": [
       "<Figure size 432x288 with 1 Axes>"
      ]
     },
     "metadata": {
      "needs_background": "light"
     },
     "output_type": "display_data"
    }
   ],
   "source": [
    "acc = hist.history['accuracy']\n",
    "val_acc = hist.history['val_accuracy']\n",
    "loss = hist.history['loss']\n",
    "val_loss = hist.history['val_loss']\n",
    "\n",
    "x_len = np.arange(len(loss))\n",
    "plt.plot(x_len, acc, marker = '.', c = 'red', label = 'Train_Acc')\n",
    "plt.plot(x_len, val_acc, marker = '.', c = 'lightcoral', label = 'Testset_Acc')\n",
    "plt.plot(x_len, loss, marker = '.', c = 'cornflowerblue', label = 'Train_Loss')\n",
    "plt.plot(x_len, val_loss, marker = '.', c = 'blue', label = 'Test_Loss')\n",
    "\n",
    "plt.legend()\n",
    "plt.grid()\n",
    "plt.show()"
   ]
  },
  {
   "cell_type": "code",
   "execution_count": 23,
   "metadata": {
    "id": "135F4oisY4E-"
   },
   "outputs": [],
   "source": []
  },
  {
   "cell_type": "code",
   "execution_count": null,
   "metadata": {
    "id": "7i_homryc5hl"
   },
   "outputs": [],
   "source": [
    "from tensorflow.keras.applications import VGG16"
   ]
  },
  {
   "cell_type": "code",
   "execution_count": null,
   "metadata": {
    "colab": {
     "base_uri": "https://localhost:8080/"
    },
    "id": "chNbz4TQc-ij",
    "outputId": "678ee999-5af2-45d7-d427-94b326c5ebe3"
   },
   "outputs": [
    {
     "name": "stdout",
     "output_type": "stream",
     "text": [
      "Downloading data from https://storage.googleapis.com/tensorflow/keras-applications/vgg16/vgg16_weights_tf_dim_ordering_tf_kernels_notop.h5\n",
      "58892288/58889256 [==============================] - 1s 0us/step\n",
      "58900480/58889256 [==============================] - 1s 0us/step\n",
      "Model: \"vgg16\"\n",
      "_________________________________________________________________\n",
      " Layer (type)                Output Shape              Param #   \n",
      "=================================================================\n",
      " input_1 (InputLayer)        [(None, 150, 150, 3)]     0         \n",
      "                                                                 \n",
      " block1_conv1 (Conv2D)       (None, 150, 150, 64)      1792      \n",
      "                                                                 \n",
      " block1_conv2 (Conv2D)       (None, 150, 150, 64)      36928     \n",
      "                                                                 \n",
      " block1_pool (MaxPooling2D)  (None, 75, 75, 64)        0         \n",
      "                                                                 \n",
      " block2_conv1 (Conv2D)       (None, 75, 75, 128)       73856     \n",
      "                                                                 \n",
      " block2_conv2 (Conv2D)       (None, 75, 75, 128)       147584    \n",
      "                                                                 \n",
      " block2_pool (MaxPooling2D)  (None, 37, 37, 128)       0         \n",
      "                                                                 \n",
      " block3_conv1 (Conv2D)       (None, 37, 37, 256)       295168    \n",
      "                                                                 \n",
      " block3_conv2 (Conv2D)       (None, 37, 37, 256)       590080    \n",
      "                                                                 \n",
      " block3_conv3 (Conv2D)       (None, 37, 37, 256)       590080    \n",
      "                                                                 \n",
      " block3_pool (MaxPooling2D)  (None, 18, 18, 256)       0         \n",
      "                                                                 \n",
      " block4_conv1 (Conv2D)       (None, 18, 18, 512)       1180160   \n",
      "                                                                 \n",
      " block4_conv2 (Conv2D)       (None, 18, 18, 512)       2359808   \n",
      "                                                                 \n",
      " block4_conv3 (Conv2D)       (None, 18, 18, 512)       2359808   \n",
      "                                                                 \n",
      " block4_pool (MaxPooling2D)  (None, 9, 9, 512)         0         \n",
      "                                                                 \n",
      " block5_conv1 (Conv2D)       (None, 9, 9, 512)         2359808   \n",
      "                                                                 \n",
      " block5_conv2 (Conv2D)       (None, 9, 9, 512)         2359808   \n",
      "                                                                 \n",
      " block5_conv3 (Conv2D)       (None, 9, 9, 512)         2359808   \n",
      "                                                                 \n",
      " block5_pool (MaxPooling2D)  (None, 4, 4, 512)         0         \n",
      "                                                                 \n",
      "=================================================================\n",
      "Total params: 14,714,688\n",
      "Trainable params: 0\n",
      "Non-trainable params: 14,714,688\n",
      "_________________________________________________________________\n"
     ]
    }
   ],
   "source": [
    "transfer_model = VGG16(weights = 'imagenet', include_top = False, input_shape = (150, 150, 3))        # include_top : Dense layer 계층\n",
    "transfer_model.trainable = False         # 추가로 train하지 않겠다\n",
    "transfer_model.summary()\n"
   ]
  },
  {
   "cell_type": "code",
   "execution_count": null,
   "metadata": {
    "colab": {
     "base_uri": "https://localhost:8080/"
    },
    "id": "qBS0T-X9eHwL",
    "outputId": "75f86008-fefa-4206-8c61-5601497a7c7d"
   },
   "outputs": [
    {
     "name": "stdout",
     "output_type": "stream",
     "text": [
      "Model: \"sequential_3\"\n",
      "_________________________________________________________________\n",
      " Layer (type)                Output Shape              Param #   \n",
      "=================================================================\n",
      " vgg16 (Functional)          (None, 4, 4, 512)         14714688  \n",
      "                                                                 \n",
      " flatten_3 (Flatten)         (None, 8192)              0         \n",
      "                                                                 \n",
      " dense_6 (Dense)             (None, 64)                524352    \n",
      "                                                                 \n",
      " dense_7 (Dense)             (None, 32)                2080      \n",
      "                                                                 \n",
      " dense_8 (Dense)             (None, 2)                 66        \n",
      "                                                                 \n",
      "=================================================================\n",
      "Total params: 15,241,186\n",
      "Trainable params: 526,498\n",
      "Non-trainable params: 14,714,688\n",
      "_________________________________________________________________\n"
     ]
    }
   ],
   "source": [
    "finetune_model = Sequential()\n",
    "finetune_model.add(transfer_model)\n",
    "finetune_model.add(Flatten())\n",
    "finetune_model.add(Dense(64, activation = 'relu'))\n",
    "finetune_model.add(Dense(32, activation = 'relu'))\n",
    "finetune_model.add(Dense(2, activation = 'softmax'))\n",
    "finetune_model.summary()"
   ]
  },
  {
   "cell_type": "code",
   "execution_count": null,
   "metadata": {
    "id": "uhEQ-fxKewCb"
   },
   "outputs": [],
   "source": [
    "finetune_model.compile(loss = 'sparse_categorical_crossentropy', optimizer = adam, metrics = ['accuracy'])"
   ]
  },
  {
   "cell_type": "code",
   "execution_count": null,
   "metadata": {
    "colab": {
     "base_uri": "https://localhost:8080/"
    },
    "id": "2P0nx-YgfJN6",
    "outputId": "35929462-d1e7-4109-c533-b836af1241e7"
   },
   "outputs": [
    {
     "name": "stdout",
     "output_type": "stream",
     "text": [
      "Epoch 1/50\n",
      "32/32 [==============================] - 4s 84ms/step - loss: 0.7197 - accuracy: 0.5375 - val_loss: 0.5296 - val_accuracy: 0.7500\n",
      "Epoch 2/50\n",
      "32/32 [==============================] - 2s 74ms/step - loss: 0.5260 - accuracy: 0.7125 - val_loss: 0.5288 - val_accuracy: 0.7000\n",
      "Epoch 3/50\n",
      "32/32 [==============================] - 2s 73ms/step - loss: 0.3905 - accuracy: 0.8313 - val_loss: 0.3165 - val_accuracy: 0.9500\n",
      "Epoch 4/50\n",
      "32/32 [==============================] - 2s 72ms/step - loss: 0.3404 - accuracy: 0.8938 - val_loss: 0.3365 - val_accuracy: 0.8500\n",
      "Epoch 5/50\n",
      "32/32 [==============================] - 2s 72ms/step - loss: 0.3430 - accuracy: 0.8938 - val_loss: 0.3909 - val_accuracy: 0.8500\n",
      "Epoch 6/50\n",
      "32/32 [==============================] - 2s 72ms/step - loss: 0.2664 - accuracy: 0.9250 - val_loss: 0.2184 - val_accuracy: 0.9500\n",
      "Epoch 7/50\n",
      "32/32 [==============================] - 2s 73ms/step - loss: 0.2721 - accuracy: 0.9000 - val_loss: 0.1335 - val_accuracy: 1.0000\n",
      "Epoch 8/50\n",
      "32/32 [==============================] - 2s 72ms/step - loss: 0.2441 - accuracy: 0.9125 - val_loss: 0.2269 - val_accuracy: 0.9500\n",
      "Epoch 9/50\n",
      "32/32 [==============================] - 2s 72ms/step - loss: 0.2624 - accuracy: 0.9062 - val_loss: 0.2122 - val_accuracy: 0.9500\n",
      "Epoch 10/50\n",
      "32/32 [==============================] - 2s 72ms/step - loss: 0.1881 - accuracy: 0.9438 - val_loss: 0.4282 - val_accuracy: 0.8500\n",
      "Epoch 11/50\n",
      "32/32 [==============================] - 2s 71ms/step - loss: 0.1848 - accuracy: 0.9438 - val_loss: 0.7541 - val_accuracy: 0.6000\n",
      "Epoch 12/50\n",
      "32/32 [==============================] - 2s 72ms/step - loss: 0.1973 - accuracy: 0.9250 - val_loss: 0.1123 - val_accuracy: 1.0000\n",
      "Epoch 13/50\n",
      "32/32 [==============================] - 2s 72ms/step - loss: 0.1488 - accuracy: 0.9563 - val_loss: 0.2753 - val_accuracy: 0.9000\n",
      "Epoch 14/50\n",
      "32/32 [==============================] - 2s 72ms/step - loss: 0.1557 - accuracy: 0.9625 - val_loss: 0.0866 - val_accuracy: 1.0000\n",
      "Epoch 15/50\n",
      "32/32 [==============================] - 2s 72ms/step - loss: 0.1651 - accuracy: 0.9500 - val_loss: 0.1009 - val_accuracy: 0.9500\n",
      "Epoch 16/50\n",
      "32/32 [==============================] - 2s 72ms/step - loss: 0.1604 - accuracy: 0.9375 - val_loss: 0.3064 - val_accuracy: 0.9500\n",
      "Epoch 17/50\n",
      "32/32 [==============================] - 2s 72ms/step - loss: 0.1613 - accuracy: 0.9563 - val_loss: 0.3196 - val_accuracy: 0.8000\n",
      "Epoch 18/50\n",
      "32/32 [==============================] - 2s 72ms/step - loss: 0.1588 - accuracy: 0.9500 - val_loss: 0.1899 - val_accuracy: 0.9000\n",
      "Epoch 19/50\n",
      "32/32 [==============================] - 2s 72ms/step - loss: 0.1366 - accuracy: 0.9625 - val_loss: 0.1787 - val_accuracy: 0.9500\n",
      "Epoch 20/50\n",
      "32/32 [==============================] - 2s 72ms/step - loss: 0.1548 - accuracy: 0.9375 - val_loss: 0.5822 - val_accuracy: 0.7500\n",
      "Epoch 21/50\n",
      "32/32 [==============================] - 2s 72ms/step - loss: 0.1540 - accuracy: 0.9375 - val_loss: 0.0738 - val_accuracy: 1.0000\n",
      "Epoch 22/50\n",
      "32/32 [==============================] - 2s 72ms/step - loss: 0.1370 - accuracy: 0.9500 - val_loss: 0.2154 - val_accuracy: 0.9000\n",
      "Epoch 23/50\n",
      "32/32 [==============================] - 2s 72ms/step - loss: 0.1240 - accuracy: 0.9625 - val_loss: 0.2158 - val_accuracy: 0.9500\n",
      "Epoch 24/50\n",
      "32/32 [==============================] - 3s 78ms/step - loss: 0.1074 - accuracy: 0.9688 - val_loss: 0.0348 - val_accuracy: 1.0000\n",
      "Epoch 25/50\n",
      "32/32 [==============================] - 2s 73ms/step - loss: 0.1420 - accuracy: 0.9500 - val_loss: 0.1744 - val_accuracy: 0.9000\n",
      "Epoch 26/50\n",
      "32/32 [==============================] - 2s 74ms/step - loss: 0.1154 - accuracy: 0.9563 - val_loss: 0.4012 - val_accuracy: 0.8000\n",
      "Epoch 27/50\n",
      "32/32 [==============================] - 2s 73ms/step - loss: 0.1307 - accuracy: 0.9438 - val_loss: 0.2968 - val_accuracy: 0.9000\n",
      "Epoch 28/50\n",
      "32/32 [==============================] - 2s 72ms/step - loss: 0.0823 - accuracy: 0.9750 - val_loss: 0.0783 - val_accuracy: 1.0000\n",
      "Epoch 29/50\n",
      "32/32 [==============================] - 2s 73ms/step - loss: 0.1202 - accuracy: 0.9563 - val_loss: 0.1201 - val_accuracy: 0.9500\n",
      "Epoch 30/50\n",
      "32/32 [==============================] - 2s 73ms/step - loss: 0.1227 - accuracy: 0.9500 - val_loss: 0.1936 - val_accuracy: 0.9000\n",
      "Epoch 31/50\n",
      "32/32 [==============================] - 2s 73ms/step - loss: 0.1228 - accuracy: 0.9500 - val_loss: 0.1479 - val_accuracy: 0.9500\n",
      "Epoch 32/50\n",
      "32/32 [==============================] - 2s 73ms/step - loss: 0.1126 - accuracy: 0.9500 - val_loss: 0.2999 - val_accuracy: 0.9000\n",
      "Epoch 33/50\n",
      "32/32 [==============================] - 2s 74ms/step - loss: 0.1475 - accuracy: 0.9250 - val_loss: 0.0334 - val_accuracy: 1.0000\n",
      "Epoch 34/50\n",
      "32/32 [==============================] - 2s 74ms/step - loss: 0.1292 - accuracy: 0.9438 - val_loss: 0.2889 - val_accuracy: 0.8500\n",
      "Epoch 35/50\n",
      "32/32 [==============================] - 2s 72ms/step - loss: 0.1182 - accuracy: 0.9688 - val_loss: 0.0782 - val_accuracy: 0.9500\n",
      "Epoch 36/50\n",
      "32/32 [==============================] - 2s 75ms/step - loss: 0.0957 - accuracy: 0.9750 - val_loss: 0.1284 - val_accuracy: 0.9500\n",
      "Epoch 37/50\n",
      "32/32 [==============================] - 2s 73ms/step - loss: 0.1012 - accuracy: 0.9625 - val_loss: 0.1792 - val_accuracy: 0.9500\n",
      "Epoch 38/50\n",
      "32/32 [==============================] - 2s 75ms/step - loss: 0.1307 - accuracy: 0.9625 - val_loss: 0.2013 - val_accuracy: 0.9500\n",
      "Epoch 39/50\n",
      "32/32 [==============================] - 2s 74ms/step - loss: 0.0973 - accuracy: 0.9625 - val_loss: 0.2356 - val_accuracy: 0.9500\n",
      "Epoch 40/50\n",
      "32/32 [==============================] - 2s 75ms/step - loss: 0.0850 - accuracy: 0.9812 - val_loss: 0.1038 - val_accuracy: 0.9500\n",
      "Epoch 41/50\n",
      "32/32 [==============================] - 2s 74ms/step - loss: 0.1182 - accuracy: 0.9563 - val_loss: 0.3954 - val_accuracy: 0.8000\n",
      "Epoch 42/50\n",
      "32/32 [==============================] - 2s 74ms/step - loss: 0.0948 - accuracy: 0.9812 - val_loss: 0.4325 - val_accuracy: 0.9000\n",
      "Epoch 43/50\n",
      "32/32 [==============================] - 2s 73ms/step - loss: 0.1027 - accuracy: 0.9688 - val_loss: 0.1704 - val_accuracy: 0.9500\n",
      "Epoch 44/50\n",
      "32/32 [==============================] - 2s 72ms/step - loss: 0.1047 - accuracy: 0.9500 - val_loss: 0.0098 - val_accuracy: 1.0000\n",
      "Epoch 45/50\n",
      "32/32 [==============================] - 2s 72ms/step - loss: 0.0789 - accuracy: 0.9750 - val_loss: 0.2756 - val_accuracy: 0.9500\n",
      "Epoch 46/50\n",
      "32/32 [==============================] - 2s 72ms/step - loss: 0.1168 - accuracy: 0.9625 - val_loss: 0.3947 - val_accuracy: 0.8000\n",
      "Epoch 47/50\n",
      "32/32 [==============================] - 2s 72ms/step - loss: 0.0934 - accuracy: 0.9625 - val_loss: 0.2146 - val_accuracy: 0.9000\n",
      "Epoch 48/50\n",
      "32/32 [==============================] - 2s 73ms/step - loss: 0.0648 - accuracy: 0.9812 - val_loss: 0.1069 - val_accuracy: 0.9500\n",
      "Epoch 49/50\n",
      "32/32 [==============================] - 2s 72ms/step - loss: 0.0874 - accuracy: 0.9750 - val_loss: 0.0980 - val_accuracy: 0.9500\n",
      "Epoch 50/50\n",
      "32/32 [==============================] - 2s 72ms/step - loss: 0.1214 - accuracy: 0.9500 - val_loss: 0.0213 - val_accuracy: 1.0000\n"
     ]
    }
   ],
   "source": [
    "hist = finetune_model.fit(\n",
    "    train_generator,\n",
    "    epochs = 50,\n",
    "    validation_data = test_generator,\n",
    "    validation_steps = 4\n",
    ")"
   ]
  },
  {
   "cell_type": "code",
   "execution_count": null,
   "metadata": {
    "id": "IOO7Hq9vfXX7"
   },
   "outputs": [],
   "source": []
  }
 ],
 "metadata": {
  "accelerator": "GPU",
  "colab": {
   "collapsed_sections": [],
   "name": "(2022.03.21 - 1) brain_images.ipynb",
   "provenance": []
  },
  "kernelspec": {
   "display_name": "Python 3 (ipykernel)",
   "language": "python",
   "name": "python3"
  },
  "language_info": {
   "codemirror_mode": {
    "name": "ipython",
    "version": 3
   },
   "file_extension": ".py",
   "mimetype": "text/x-python",
   "name": "python",
   "nbconvert_exporter": "python",
   "pygments_lexer": "ipython3",
   "version": "3.9.7"
  }
 },
 "nbformat": 4,
 "nbformat_minor": 1
}
