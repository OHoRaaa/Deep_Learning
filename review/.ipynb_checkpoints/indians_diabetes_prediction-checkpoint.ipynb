{
 "cells": [
  {
   "cell_type": "code",
   "execution_count": 1,
   "id": "016e73fd",
   "metadata": {},
   "outputs": [],
   "source": [
    "import pandas as pd\n",
    "import numpy as np\n",
    "import matplotlib.pyplot as plt\n",
    "import seaborn as sns"
   ]
  },
  {
   "cell_type": "code",
   "execution_count": 31,
   "id": "c1fed914",
   "metadata": {},
   "outputs": [],
   "source": [
    "from tensorflow.keras.models import Sequential\n",
    "from tensorflow.keras.layers import Dense, Dropout\n",
    "import tensorflow as tf"
   ]
  },
  {
   "cell_type": "code",
   "execution_count": 5,
   "id": "6754bd58",
   "metadata": {},
   "outputs": [
    {
     "data": {
      "text/html": [
       "<div>\n",
       "<style scoped>\n",
       "    .dataframe tbody tr th:only-of-type {\n",
       "        vertical-align: middle;\n",
       "    }\n",
       "\n",
       "    .dataframe tbody tr th {\n",
       "        vertical-align: top;\n",
       "    }\n",
       "\n",
       "    .dataframe thead th {\n",
       "        text-align: right;\n",
       "    }\n",
       "</style>\n",
       "<table border=\"1\" class=\"dataframe\">\n",
       "  <thead>\n",
       "    <tr style=\"text-align: right;\">\n",
       "      <th></th>\n",
       "      <th>0</th>\n",
       "      <th>1</th>\n",
       "      <th>2</th>\n",
       "      <th>3</th>\n",
       "      <th>4</th>\n",
       "      <th>5</th>\n",
       "      <th>6</th>\n",
       "      <th>7</th>\n",
       "      <th>8</th>\n",
       "    </tr>\n",
       "  </thead>\n",
       "  <tbody>\n",
       "    <tr>\n",
       "      <th>0</th>\n",
       "      <td>6</td>\n",
       "      <td>148</td>\n",
       "      <td>72</td>\n",
       "      <td>35</td>\n",
       "      <td>0</td>\n",
       "      <td>33.6</td>\n",
       "      <td>0.627</td>\n",
       "      <td>50</td>\n",
       "      <td>1</td>\n",
       "    </tr>\n",
       "    <tr>\n",
       "      <th>1</th>\n",
       "      <td>1</td>\n",
       "      <td>85</td>\n",
       "      <td>66</td>\n",
       "      <td>29</td>\n",
       "      <td>0</td>\n",
       "      <td>26.6</td>\n",
       "      <td>0.351</td>\n",
       "      <td>31</td>\n",
       "      <td>0</td>\n",
       "    </tr>\n",
       "    <tr>\n",
       "      <th>2</th>\n",
       "      <td>8</td>\n",
       "      <td>183</td>\n",
       "      <td>64</td>\n",
       "      <td>0</td>\n",
       "      <td>0</td>\n",
       "      <td>23.3</td>\n",
       "      <td>0.672</td>\n",
       "      <td>32</td>\n",
       "      <td>1</td>\n",
       "    </tr>\n",
       "    <tr>\n",
       "      <th>3</th>\n",
       "      <td>1</td>\n",
       "      <td>89</td>\n",
       "      <td>66</td>\n",
       "      <td>23</td>\n",
       "      <td>94</td>\n",
       "      <td>28.1</td>\n",
       "      <td>0.167</td>\n",
       "      <td>21</td>\n",
       "      <td>0</td>\n",
       "    </tr>\n",
       "    <tr>\n",
       "      <th>4</th>\n",
       "      <td>0</td>\n",
       "      <td>137</td>\n",
       "      <td>40</td>\n",
       "      <td>35</td>\n",
       "      <td>168</td>\n",
       "      <td>43.1</td>\n",
       "      <td>2.288</td>\n",
       "      <td>33</td>\n",
       "      <td>1</td>\n",
       "    </tr>\n",
       "    <tr>\n",
       "      <th>...</th>\n",
       "      <td>...</td>\n",
       "      <td>...</td>\n",
       "      <td>...</td>\n",
       "      <td>...</td>\n",
       "      <td>...</td>\n",
       "      <td>...</td>\n",
       "      <td>...</td>\n",
       "      <td>...</td>\n",
       "      <td>...</td>\n",
       "    </tr>\n",
       "    <tr>\n",
       "      <th>763</th>\n",
       "      <td>10</td>\n",
       "      <td>101</td>\n",
       "      <td>76</td>\n",
       "      <td>48</td>\n",
       "      <td>180</td>\n",
       "      <td>32.9</td>\n",
       "      <td>0.171</td>\n",
       "      <td>63</td>\n",
       "      <td>0</td>\n",
       "    </tr>\n",
       "    <tr>\n",
       "      <th>764</th>\n",
       "      <td>2</td>\n",
       "      <td>122</td>\n",
       "      <td>70</td>\n",
       "      <td>27</td>\n",
       "      <td>0</td>\n",
       "      <td>36.8</td>\n",
       "      <td>0.340</td>\n",
       "      <td>27</td>\n",
       "      <td>0</td>\n",
       "    </tr>\n",
       "    <tr>\n",
       "      <th>765</th>\n",
       "      <td>5</td>\n",
       "      <td>121</td>\n",
       "      <td>72</td>\n",
       "      <td>23</td>\n",
       "      <td>112</td>\n",
       "      <td>26.2</td>\n",
       "      <td>0.245</td>\n",
       "      <td>30</td>\n",
       "      <td>0</td>\n",
       "    </tr>\n",
       "    <tr>\n",
       "      <th>766</th>\n",
       "      <td>1</td>\n",
       "      <td>126</td>\n",
       "      <td>60</td>\n",
       "      <td>0</td>\n",
       "      <td>0</td>\n",
       "      <td>30.1</td>\n",
       "      <td>0.349</td>\n",
       "      <td>47</td>\n",
       "      <td>1</td>\n",
       "    </tr>\n",
       "    <tr>\n",
       "      <th>767</th>\n",
       "      <td>1</td>\n",
       "      <td>93</td>\n",
       "      <td>70</td>\n",
       "      <td>31</td>\n",
       "      <td>0</td>\n",
       "      <td>30.4</td>\n",
       "      <td>0.315</td>\n",
       "      <td>23</td>\n",
       "      <td>0</td>\n",
       "    </tr>\n",
       "  </tbody>\n",
       "</table>\n",
       "<p>768 rows × 9 columns</p>\n",
       "</div>"
      ],
      "text/plain": [
       "      0    1   2   3    4     5      6   7  8\n",
       "0     6  148  72  35    0  33.6  0.627  50  1\n",
       "1     1   85  66  29    0  26.6  0.351  31  0\n",
       "2     8  183  64   0    0  23.3  0.672  32  1\n",
       "3     1   89  66  23   94  28.1  0.167  21  0\n",
       "4     0  137  40  35  168  43.1  2.288  33  1\n",
       "..   ..  ...  ..  ..  ...   ...    ...  .. ..\n",
       "763  10  101  76  48  180  32.9  0.171  63  0\n",
       "764   2  122  70  27    0  36.8  0.340  27  0\n",
       "765   5  121  72  23  112  26.2  0.245  30  0\n",
       "766   1  126  60   0    0  30.1  0.349  47  1\n",
       "767   1   93  70  31    0  30.4  0.315  23  0\n",
       "\n",
       "[768 rows x 9 columns]"
      ]
     },
     "execution_count": 5,
     "metadata": {},
     "output_type": "execute_result"
    }
   ],
   "source": [
    "df = pd.read_csv('../Data/pima-indians-diabetes.csv', header = None)\n",
    "df"
   ]
  },
  {
   "cell_type": "code",
   "execution_count": 7,
   "id": "a30f3e63",
   "metadata": {},
   "outputs": [
    {
     "name": "stdout",
     "output_type": "stream",
     "text": [
      "<class 'pandas.core.frame.DataFrame'>\n",
      "RangeIndex: 768 entries, 0 to 767\n",
      "Data columns (total 9 columns):\n",
      " #   Column  Non-Null Count  Dtype  \n",
      "---  ------  --------------  -----  \n",
      " 0   0       768 non-null    int64  \n",
      " 1   1       768 non-null    int64  \n",
      " 2   2       768 non-null    int64  \n",
      " 3   3       768 non-null    int64  \n",
      " 4   4       768 non-null    int64  \n",
      " 5   5       768 non-null    float64\n",
      " 6   6       768 non-null    float64\n",
      " 7   7       768 non-null    int64  \n",
      " 8   8       768 non-null    int64  \n",
      "dtypes: float64(2), int64(7)\n",
      "memory usage: 54.1 KB\n"
     ]
    }
   ],
   "source": [
    "df.info()"
   ]
  },
  {
   "cell_type": "code",
   "execution_count": 39,
   "id": "d1b71c9e",
   "metadata": {},
   "outputs": [],
   "source": [
    "y = df.values[:, 8]\n",
    "x = df.values[:, :8]"
   ]
  },
  {
   "cell_type": "code",
   "execution_count": 40,
   "id": "3e14dab7",
   "metadata": {},
   "outputs": [],
   "source": [
    "from sklearn.preprocessing import MinMaxScaler\n",
    "\n",
    "scaler = MinMaxScaler()\n",
    "x_sc = scaler.fit_transform(x)"
   ]
  },
  {
   "cell_type": "code",
   "execution_count": 41,
   "id": "79079d40",
   "metadata": {},
   "outputs": [
    {
     "data": {
      "text/plain": [
       "array([[0.35294118, 0.74371859, 0.59016393, ..., 0.50074516, 0.23441503,\n",
       "        0.48333333],\n",
       "       [0.05882353, 0.42713568, 0.54098361, ..., 0.39642325, 0.11656704,\n",
       "        0.16666667],\n",
       "       [0.47058824, 0.91959799, 0.52459016, ..., 0.34724292, 0.25362938,\n",
       "        0.18333333],\n",
       "       ...,\n",
       "       [0.29411765, 0.6080402 , 0.59016393, ..., 0.390462  , 0.07130658,\n",
       "        0.15      ],\n",
       "       [0.05882353, 0.63316583, 0.49180328, ..., 0.4485842 , 0.11571307,\n",
       "        0.43333333],\n",
       "       [0.05882353, 0.46733668, 0.57377049, ..., 0.45305514, 0.10119556,\n",
       "        0.03333333]])"
      ]
     },
     "execution_count": 41,
     "metadata": {},
     "output_type": "execute_result"
    }
   ],
   "source": [
    "x_sc"
   ]
  },
  {
   "cell_type": "code",
   "execution_count": 42,
   "id": "7a74025c",
   "metadata": {},
   "outputs": [
    {
     "name": "stdout",
     "output_type": "stream",
     "text": [
      "(768, 8)\n",
      "(768,)\n"
     ]
    }
   ],
   "source": [
    "print(x_sc.shape)\n",
    "print(y.shape)"
   ]
  },
  {
   "cell_type": "code",
   "execution_count": 43,
   "id": "237a7800",
   "metadata": {},
   "outputs": [
    {
     "name": "stdout",
     "output_type": "stream",
     "text": [
      "Model: \"sequential_4\"\n",
      "_________________________________________________________________\n",
      " Layer (type)                Output Shape              Param #   \n",
      "=================================================================\n",
      " dense_12 (Dense)            (None, 128)               1152      \n",
      "                                                                 \n",
      " dense_13 (Dense)            (None, 86)                11094     \n",
      "                                                                 \n",
      " dropout_2 (Dropout)         (None, 86)                0         \n",
      "                                                                 \n",
      " dense_14 (Dense)            (None, 48)                4176      \n",
      "                                                                 \n",
      " dropout_3 (Dropout)         (None, 48)                0         \n",
      "                                                                 \n",
      " dense_15 (Dense)            (None, 1)                 49        \n",
      "                                                                 \n",
      "=================================================================\n",
      "Total params: 16,471\n",
      "Trainable params: 16,471\n",
      "Non-trainable params: 0\n",
      "_________________________________________________________________\n"
     ]
    }
   ],
   "source": [
    "model = Sequential()\n",
    "model.add(Dense(128, input_dim = 8, activation = 'relu'))\n",
    "model.add(Dense(86, activation = 'relu'))\n",
    "model.add(Dropout(0.3))\n",
    "model.add(Dense(48, activation = 'relu'))\n",
    "model.add(Dropout(0.3))\n",
    "model.add(Dense(1, activation = 'sigmoid'))\n",
    "model.summary()"
   ]
  },
  {
   "cell_type": "code",
   "execution_count": 44,
   "id": "490ec351",
   "metadata": {},
   "outputs": [],
   "source": [
    "model.compile(loss = 'binary_crossentropy', metrics = ['accuracy'], optimizer = 'adam')"
   ]
  },
  {
   "cell_type": "code",
   "execution_count": 45,
   "id": "02699d90",
   "metadata": {},
   "outputs": [
    {
     "name": "stdout",
     "output_type": "stream",
     "text": [
      "Epoch 1/100\n",
      "31/31 [==============================] - 0s 4ms/step - loss: 0.6637 - accuracy: 0.6384 - val_loss: 0.6539 - val_accuracy: 0.6429\n",
      "Epoch 2/100\n",
      "31/31 [==============================] - 0s 2ms/step - loss: 0.6470 - accuracy: 0.6596 - val_loss: 0.6336 - val_accuracy: 0.6299\n",
      "Epoch 3/100\n",
      "31/31 [==============================] - 0s 2ms/step - loss: 0.6245 - accuracy: 0.6710 - val_loss: 0.6081 - val_accuracy: 0.6364\n",
      "Epoch 4/100\n",
      "31/31 [==============================] - 0s 2ms/step - loss: 0.5840 - accuracy: 0.7134 - val_loss: 0.5587 - val_accuracy: 0.7857\n",
      "Epoch 5/100\n",
      "31/31 [==============================] - 0s 2ms/step - loss: 0.5590 - accuracy: 0.7296 - val_loss: 0.5468 - val_accuracy: 0.6494\n",
      "Epoch 6/100\n",
      "31/31 [==============================] - 0s 1ms/step - loss: 0.5334 - accuracy: 0.7345 - val_loss: 0.5109 - val_accuracy: 0.7208\n",
      "Epoch 7/100\n",
      "31/31 [==============================] - 0s 2ms/step - loss: 0.5277 - accuracy: 0.7264 - val_loss: 0.5169 - val_accuracy: 0.7013\n",
      "Epoch 8/100\n",
      "31/31 [==============================] - 0s 2ms/step - loss: 0.5133 - accuracy: 0.7704 - val_loss: 0.4977 - val_accuracy: 0.7273\n",
      "Epoch 9/100\n",
      "31/31 [==============================] - 0s 2ms/step - loss: 0.5030 - accuracy: 0.7671 - val_loss: 0.4879 - val_accuracy: 0.8117\n",
      "Epoch 10/100\n",
      "31/31 [==============================] - 0s 2ms/step - loss: 0.4845 - accuracy: 0.7590 - val_loss: 0.5111 - val_accuracy: 0.7208\n",
      "Epoch 11/100\n",
      "31/31 [==============================] - 0s 2ms/step - loss: 0.4706 - accuracy: 0.7704 - val_loss: 0.4704 - val_accuracy: 0.8052\n",
      "Epoch 12/100\n",
      "31/31 [==============================] - 0s 2ms/step - loss: 0.4957 - accuracy: 0.7671 - val_loss: 0.4971 - val_accuracy: 0.7403\n",
      "Epoch 13/100\n",
      "31/31 [==============================] - 0s 2ms/step - loss: 0.4807 - accuracy: 0.7834 - val_loss: 0.4605 - val_accuracy: 0.7792\n",
      "Epoch 14/100\n",
      "31/31 [==============================] - 0s 2ms/step - loss: 0.4750 - accuracy: 0.7606 - val_loss: 0.4734 - val_accuracy: 0.7662\n",
      "Epoch 15/100\n",
      "31/31 [==============================] - 0s 2ms/step - loss: 0.4661 - accuracy: 0.7769 - val_loss: 0.4661 - val_accuracy: 0.7727\n",
      "Epoch 16/100\n",
      "31/31 [==============================] - 0s 2ms/step - loss: 0.4528 - accuracy: 0.7818 - val_loss: 0.4651 - val_accuracy: 0.7987\n",
      "Epoch 17/100\n",
      "31/31 [==============================] - 0s 2ms/step - loss: 0.4561 - accuracy: 0.7866 - val_loss: 0.4511 - val_accuracy: 0.8117\n",
      "Epoch 18/100\n",
      "31/31 [==============================] - 0s 2ms/step - loss: 0.4437 - accuracy: 0.8013 - val_loss: 0.4557 - val_accuracy: 0.8182\n",
      "Epoch 19/100\n",
      "31/31 [==============================] - 0s 2ms/step - loss: 0.4495 - accuracy: 0.7769 - val_loss: 0.4641 - val_accuracy: 0.7597\n",
      "Epoch 20/100\n",
      "31/31 [==============================] - 0s 2ms/step - loss: 0.4622 - accuracy: 0.7752 - val_loss: 0.4562 - val_accuracy: 0.7857\n",
      "Epoch 21/100\n",
      "31/31 [==============================] - 0s 2ms/step - loss: 0.4527 - accuracy: 0.7736 - val_loss: 0.4599 - val_accuracy: 0.7857\n",
      "Epoch 22/100\n",
      "31/31 [==============================] - 0s 2ms/step - loss: 0.4469 - accuracy: 0.7883 - val_loss: 0.4481 - val_accuracy: 0.7987\n",
      "Epoch 23/100\n",
      "31/31 [==============================] - 0s 2ms/step - loss: 0.4550 - accuracy: 0.7899 - val_loss: 0.4784 - val_accuracy: 0.8117\n",
      "Epoch 24/100\n",
      "31/31 [==============================] - 0s 2ms/step - loss: 0.4408 - accuracy: 0.7899 - val_loss: 0.4507 - val_accuracy: 0.7987\n",
      "Epoch 25/100\n",
      "31/31 [==============================] - 0s 2ms/step - loss: 0.4395 - accuracy: 0.8013 - val_loss: 0.4530 - val_accuracy: 0.8182\n",
      "Epoch 26/100\n",
      "31/31 [==============================] - 0s 2ms/step - loss: 0.4354 - accuracy: 0.8078 - val_loss: 0.4696 - val_accuracy: 0.7857\n",
      "Epoch 27/100\n",
      "31/31 [==============================] - 0s 2ms/step - loss: 0.4459 - accuracy: 0.7883 - val_loss: 0.4941 - val_accuracy: 0.7597\n",
      "Epoch 28/100\n",
      "31/31 [==============================] - 0s 2ms/step - loss: 0.4413 - accuracy: 0.7834 - val_loss: 0.4629 - val_accuracy: 0.7922\n",
      "Epoch 29/100\n",
      "31/31 [==============================] - 0s 2ms/step - loss: 0.4271 - accuracy: 0.8111 - val_loss: 0.4509 - val_accuracy: 0.8182\n",
      "Epoch 30/100\n",
      "31/31 [==============================] - 0s 2ms/step - loss: 0.4279 - accuracy: 0.7915 - val_loss: 0.4816 - val_accuracy: 0.7987\n",
      "Epoch 31/100\n",
      "31/31 [==============================] - 0s 2ms/step - loss: 0.4316 - accuracy: 0.8062 - val_loss: 0.4602 - val_accuracy: 0.7987\n",
      "Epoch 32/100\n",
      "31/31 [==============================] - 0s 2ms/step - loss: 0.4294 - accuracy: 0.7834 - val_loss: 0.4658 - val_accuracy: 0.8182\n",
      "Epoch 33/100\n",
      "31/31 [==============================] - 0s 2ms/step - loss: 0.4233 - accuracy: 0.7948 - val_loss: 0.4622 - val_accuracy: 0.8052\n",
      "Epoch 34/100\n",
      "31/31 [==============================] - 0s 2ms/step - loss: 0.4185 - accuracy: 0.8013 - val_loss: 0.5001 - val_accuracy: 0.7662\n",
      "Epoch 35/100\n",
      "31/31 [==============================] - 0s 2ms/step - loss: 0.4368 - accuracy: 0.8013 - val_loss: 0.4617 - val_accuracy: 0.8117\n",
      "Epoch 36/100\n",
      "31/31 [==============================] - 0s 2ms/step - loss: 0.4134 - accuracy: 0.8062 - val_loss: 0.4633 - val_accuracy: 0.8247\n",
      "Epoch 37/100\n",
      "31/31 [==============================] - 0s 2ms/step - loss: 0.4171 - accuracy: 0.7818 - val_loss: 0.4988 - val_accuracy: 0.7662\n",
      "Epoch 38/100\n",
      "31/31 [==============================] - 0s 2ms/step - loss: 0.4147 - accuracy: 0.8192 - val_loss: 0.4674 - val_accuracy: 0.8182\n",
      "Epoch 39/100\n",
      "31/31 [==============================] - 0s 2ms/step - loss: 0.4103 - accuracy: 0.8013 - val_loss: 0.4883 - val_accuracy: 0.7662\n",
      "Epoch 40/100\n",
      "31/31 [==============================] - 0s 2ms/step - loss: 0.4098 - accuracy: 0.8160 - val_loss: 0.4700 - val_accuracy: 0.8182\n",
      "Epoch 41/100\n",
      "31/31 [==============================] - 0s 2ms/step - loss: 0.4107 - accuracy: 0.8046 - val_loss: 0.4882 - val_accuracy: 0.8247\n",
      "Epoch 42/100\n",
      "31/31 [==============================] - 0s 2ms/step - loss: 0.4019 - accuracy: 0.8111 - val_loss: 0.4980 - val_accuracy: 0.8052\n",
      "Epoch 43/100\n",
      "31/31 [==============================] - 0s 2ms/step - loss: 0.4144 - accuracy: 0.8062 - val_loss: 0.4760 - val_accuracy: 0.7987\n",
      "Epoch 44/100\n",
      "31/31 [==============================] - 0s 2ms/step - loss: 0.3988 - accuracy: 0.8111 - val_loss: 0.4890 - val_accuracy: 0.8117\n",
      "Epoch 45/100\n",
      "31/31 [==============================] - 0s 2ms/step - loss: 0.4101 - accuracy: 0.8046 - val_loss: 0.5046 - val_accuracy: 0.7792\n",
      "Epoch 46/100\n",
      "31/31 [==============================] - 0s 2ms/step - loss: 0.4245 - accuracy: 0.8111 - val_loss: 0.4801 - val_accuracy: 0.8117\n",
      "Epoch 47/100\n",
      "31/31 [==============================] - 0s 2ms/step - loss: 0.3960 - accuracy: 0.8192 - val_loss: 0.4839 - val_accuracy: 0.8117\n",
      "Epoch 48/100\n",
      "31/31 [==============================] - 0s 2ms/step - loss: 0.3898 - accuracy: 0.8160 - val_loss: 0.5024 - val_accuracy: 0.8052\n",
      "Epoch 49/100\n",
      "31/31 [==============================] - 0s 2ms/step - loss: 0.4067 - accuracy: 0.8046 - val_loss: 0.4977 - val_accuracy: 0.7857\n",
      "Epoch 50/100\n",
      "31/31 [==============================] - 0s 2ms/step - loss: 0.4008 - accuracy: 0.8176 - val_loss: 0.4768 - val_accuracy: 0.7987\n",
      "Epoch 51/100\n",
      "31/31 [==============================] - 0s 2ms/step - loss: 0.3945 - accuracy: 0.8160 - val_loss: 0.4916 - val_accuracy: 0.7922\n",
      "Epoch 52/100\n",
      "31/31 [==============================] - 0s 2ms/step - loss: 0.4063 - accuracy: 0.7964 - val_loss: 0.4852 - val_accuracy: 0.8117\n",
      "Epoch 53/100\n",
      "31/31 [==============================] - 0s 2ms/step - loss: 0.3907 - accuracy: 0.8257 - val_loss: 0.4915 - val_accuracy: 0.8247\n",
      "Epoch 54/100\n",
      "31/31 [==============================] - 0s 1ms/step - loss: 0.3864 - accuracy: 0.8290 - val_loss: 0.5024 - val_accuracy: 0.7987\n",
      "Epoch 55/100\n",
      "31/31 [==============================] - 0s 2ms/step - loss: 0.3812 - accuracy: 0.8111 - val_loss: 0.4984 - val_accuracy: 0.7987\n",
      "Epoch 56/100\n",
      "31/31 [==============================] - 0s 2ms/step - loss: 0.3819 - accuracy: 0.8208 - val_loss: 0.5137 - val_accuracy: 0.7987\n",
      "Epoch 57/100\n",
      "31/31 [==============================] - 0s 2ms/step - loss: 0.3871 - accuracy: 0.8127 - val_loss: 0.5115 - val_accuracy: 0.8117\n",
      "Epoch 58/100\n",
      "31/31 [==============================] - 0s 2ms/step - loss: 0.3883 - accuracy: 0.8306 - val_loss: 0.5100 - val_accuracy: 0.7987\n"
     ]
    },
    {
     "name": "stdout",
     "output_type": "stream",
     "text": [
      "Epoch 59/100\n",
      "31/31 [==============================] - 0s 2ms/step - loss: 0.3717 - accuracy: 0.8241 - val_loss: 0.5065 - val_accuracy: 0.7987\n",
      "Epoch 60/100\n",
      "31/31 [==============================] - 0s 2ms/step - loss: 0.3728 - accuracy: 0.8192 - val_loss: 0.5170 - val_accuracy: 0.7987\n",
      "Epoch 61/100\n",
      "31/31 [==============================] - 0s 2ms/step - loss: 0.3900 - accuracy: 0.8225 - val_loss: 0.5138 - val_accuracy: 0.8052\n",
      "Epoch 62/100\n",
      "31/31 [==============================] - 0s 2ms/step - loss: 0.3782 - accuracy: 0.8225 - val_loss: 0.5077 - val_accuracy: 0.8117\n",
      "Epoch 63/100\n",
      "31/31 [==============================] - 0s 2ms/step - loss: 0.3710 - accuracy: 0.8306 - val_loss: 0.5150 - val_accuracy: 0.8117\n",
      "Epoch 64/100\n",
      "31/31 [==============================] - 0s 2ms/step - loss: 0.3691 - accuracy: 0.8257 - val_loss: 0.5110 - val_accuracy: 0.8117\n",
      "Epoch 65/100\n",
      "31/31 [==============================] - 0s 2ms/step - loss: 0.3669 - accuracy: 0.8355 - val_loss: 0.5228 - val_accuracy: 0.7987\n",
      "Epoch 66/100\n",
      "31/31 [==============================] - 0s 2ms/step - loss: 0.3712 - accuracy: 0.8371 - val_loss: 0.5158 - val_accuracy: 0.7987\n",
      "Epoch 67/100\n",
      "31/31 [==============================] - 0s 2ms/step - loss: 0.3618 - accuracy: 0.8306 - val_loss: 0.5429 - val_accuracy: 0.8182\n",
      "Epoch 68/100\n",
      "31/31 [==============================] - 0s 2ms/step - loss: 0.3593 - accuracy: 0.8257 - val_loss: 0.5269 - val_accuracy: 0.8117\n",
      "Epoch 69/100\n",
      "31/31 [==============================] - 0s 2ms/step - loss: 0.3705 - accuracy: 0.8257 - val_loss: 0.5134 - val_accuracy: 0.7987\n",
      "Epoch 70/100\n",
      "31/31 [==============================] - 0s 2ms/step - loss: 0.3630 - accuracy: 0.8469 - val_loss: 0.5399 - val_accuracy: 0.8182\n",
      "Epoch 71/100\n",
      "31/31 [==============================] - 0s 2ms/step - loss: 0.3616 - accuracy: 0.8306 - val_loss: 0.5231 - val_accuracy: 0.7987\n",
      "Epoch 72/100\n",
      "31/31 [==============================] - 0s 2ms/step - loss: 0.3649 - accuracy: 0.8355 - val_loss: 0.5201 - val_accuracy: 0.7922\n",
      "Epoch 73/100\n",
      "31/31 [==============================] - 0s 2ms/step - loss: 0.3684 - accuracy: 0.8339 - val_loss: 0.5628 - val_accuracy: 0.7792\n",
      "Epoch 74/100\n",
      "31/31 [==============================] - 0s 2ms/step - loss: 0.3469 - accuracy: 0.8550 - val_loss: 0.5400 - val_accuracy: 0.7922\n",
      "Epoch 75/100\n",
      "31/31 [==============================] - 0s 2ms/step - loss: 0.3370 - accuracy: 0.8453 - val_loss: 0.5443 - val_accuracy: 0.7922\n",
      "Epoch 76/100\n",
      "31/31 [==============================] - 0s 2ms/step - loss: 0.3531 - accuracy: 0.8485 - val_loss: 0.5331 - val_accuracy: 0.7792\n",
      "Epoch 77/100\n",
      "31/31 [==============================] - 0s 2ms/step - loss: 0.3657 - accuracy: 0.8306 - val_loss: 0.5307 - val_accuracy: 0.7922\n",
      "Epoch 78/100\n",
      "31/31 [==============================] - 0s 2ms/step - loss: 0.3572 - accuracy: 0.8257 - val_loss: 0.5481 - val_accuracy: 0.8117\n",
      "Epoch 79/100\n",
      "31/31 [==============================] - 0s 2ms/step - loss: 0.3372 - accuracy: 0.8469 - val_loss: 0.5796 - val_accuracy: 0.7857\n",
      "Epoch 80/100\n",
      "31/31 [==============================] - 0s 2ms/step - loss: 0.3477 - accuracy: 0.8371 - val_loss: 0.5483 - val_accuracy: 0.8052\n",
      "Epoch 81/100\n",
      "31/31 [==============================] - 0s 2ms/step - loss: 0.3399 - accuracy: 0.8453 - val_loss: 0.5610 - val_accuracy: 0.8052\n",
      "Epoch 82/100\n",
      "31/31 [==============================] - 0s 2ms/step - loss: 0.3350 - accuracy: 0.8518 - val_loss: 0.5865 - val_accuracy: 0.7987\n",
      "Epoch 83/100\n",
      "31/31 [==============================] - 0s 2ms/step - loss: 0.3251 - accuracy: 0.8453 - val_loss: 0.5636 - val_accuracy: 0.7987\n",
      "Epoch 84/100\n",
      "31/31 [==============================] - 0s 2ms/step - loss: 0.3288 - accuracy: 0.8599 - val_loss: 0.5996 - val_accuracy: 0.7987\n",
      "Epoch 85/100\n",
      "31/31 [==============================] - 0s 2ms/step - loss: 0.3508 - accuracy: 0.8355 - val_loss: 0.5872 - val_accuracy: 0.7857\n",
      "Epoch 86/100\n",
      "31/31 [==============================] - 0s 2ms/step - loss: 0.3530 - accuracy: 0.8404 - val_loss: 0.5957 - val_accuracy: 0.8052\n",
      "Epoch 87/100\n",
      "31/31 [==============================] - 0s 2ms/step - loss: 0.3426 - accuracy: 0.8388 - val_loss: 0.5876 - val_accuracy: 0.7922\n",
      "Epoch 88/100\n",
      "31/31 [==============================] - 0s 2ms/step - loss: 0.3305 - accuracy: 0.8502 - val_loss: 0.5868 - val_accuracy: 0.7987\n",
      "Epoch 89/100\n",
      "31/31 [==============================] - 0s 2ms/step - loss: 0.3461 - accuracy: 0.8355 - val_loss: 0.5721 - val_accuracy: 0.7922\n",
      "Epoch 90/100\n",
      "31/31 [==============================] - 0s 2ms/step - loss: 0.3453 - accuracy: 0.8322 - val_loss: 0.5754 - val_accuracy: 0.7987\n",
      "Epoch 91/100\n",
      "31/31 [==============================] - 0s 2ms/step - loss: 0.3302 - accuracy: 0.8550 - val_loss: 0.5708 - val_accuracy: 0.8052\n",
      "Epoch 92/100\n",
      "31/31 [==============================] - 0s 2ms/step - loss: 0.3235 - accuracy: 0.8632 - val_loss: 0.6451 - val_accuracy: 0.7792\n",
      "Epoch 93/100\n",
      "31/31 [==============================] - 0s 2ms/step - loss: 0.3611 - accuracy: 0.8339 - val_loss: 0.5832 - val_accuracy: 0.7727\n",
      "Epoch 94/100\n",
      "31/31 [==============================] - 0s 2ms/step - loss: 0.3266 - accuracy: 0.8453 - val_loss: 0.6038 - val_accuracy: 0.8117\n",
      "Epoch 95/100\n",
      "31/31 [==============================] - 0s 2ms/step - loss: 0.3136 - accuracy: 0.8485 - val_loss: 0.5981 - val_accuracy: 0.8052\n",
      "Epoch 96/100\n",
      "31/31 [==============================] - 0s 2ms/step - loss: 0.3165 - accuracy: 0.8550 - val_loss: 0.6211 - val_accuracy: 0.7857\n",
      "Epoch 97/100\n",
      "31/31 [==============================] - 0s 2ms/step - loss: 0.3375 - accuracy: 0.8453 - val_loss: 0.5844 - val_accuracy: 0.7987\n",
      "Epoch 98/100\n",
      "31/31 [==============================] - 0s 2ms/step - loss: 0.3230 - accuracy: 0.8567 - val_loss: 0.5979 - val_accuracy: 0.7987\n",
      "Epoch 99/100\n",
      "31/31 [==============================] - 0s 2ms/step - loss: 0.3155 - accuracy: 0.8664 - val_loss: 0.6090 - val_accuracy: 0.7922\n",
      "Epoch 100/100\n",
      "31/31 [==============================] - 0s 2ms/step - loss: 0.3229 - accuracy: 0.8502 - val_loss: 0.6111 - val_accuracy: 0.8052\n"
     ]
    }
   ],
   "source": [
    "hist = model.fit(x_sc, y, validation_split=0.2, epochs = 100, batch_size = 20)"
   ]
  },
  {
   "cell_type": "code",
   "execution_count": 46,
   "id": "4a7249ce",
   "metadata": {},
   "outputs": [
    {
     "name": "stdout",
     "output_type": "stream",
     "text": [
      "24/24 [==============================] - 0s 942us/step - loss: 0.3533 - accuracy: 0.8516\n"
     ]
    },
    {
     "data": {
      "text/plain": [
       "[0.3532939851284027, 0.8515625]"
      ]
     },
     "execution_count": 46,
     "metadata": {},
     "output_type": "execute_result"
    }
   ],
   "source": [
    "model.evaluate(x_sc, y)"
   ]
  },
  {
   "cell_type": "code",
   "execution_count": 47,
   "id": "9ff3118c",
   "metadata": {},
   "outputs": [
    {
     "data": {
      "text/plain": [
       "[<matplotlib.lines.Line2D at 0x17da96c6a90>]"
      ]
     },
     "execution_count": 47,
     "metadata": {},
     "output_type": "execute_result"
    },
    {
     "data": {
      "image/png": "[encoded data removed]",
      "text/plain": [
       "<Figure size 432x288 with 1 Axes>"
      ]
     },
     "metadata": {
      "needs_background": "light"
     },
     "output_type": "display_data"
    }
   ],
   "source": [
    "plt.plot(hist.history['loss'])\n",
    "plt.plot(hist.history['val_loss'])"
   ]
  },
  {
   "cell_type": "code",
   "execution_count": null,
   "id": "913868aa",
   "metadata": {},
   "outputs": [],
   "source": [
    "\n"
   ]
  }
 ],
 "metadata": {
  "kernelspec": {
   "display_name": "Python 3 (ipykernel)",
   "language": "python",
   "name": "python3"
  },
  "language_info": {
   "codemirror_mode": {
    "name": "ipython",
    "version": 3
   },
   "file_extension": ".py",
   "mimetype": "text/x-python",
   "name": "python",
   "nbconvert_exporter": "python",
   "pygments_lexer": "ipython3",
   "version": "3.9.7"
  }
 },
 "nbformat": 4,
 "nbformat_minor": 5
}
