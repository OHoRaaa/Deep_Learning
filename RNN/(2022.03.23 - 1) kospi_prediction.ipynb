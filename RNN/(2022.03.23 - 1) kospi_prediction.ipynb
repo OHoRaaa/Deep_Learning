{
 "cells": [
  {
   "cell_type": "code",
   "execution_count": 1,
   "id": "ab710f5d",
   "metadata": {
    "id": "ab710f5d"
   },
   "outputs": [],
   "source": [
    "import pandas as pd\n",
    "import numpy as np\n",
    "import matplotlib.pyplot as plt\n",
    "import seaborn as sns"
   ]
  },
  {
   "cell_type": "code",
   "execution_count": 2,
   "id": "a90835d2",
   "metadata": {
    "id": "a90835d2"
   },
   "outputs": [],
   "source": [
    "import requests\n",
    "from tensorflow.keras.layers import *\n",
    "from tensorflow.keras.models import *\n",
    "from datetime import datetime\n",
    "from sklearn.preprocessing import MinMaxScaler\n"
   ]
  },
  {
   "cell_type": "code",
   "execution_count": 3,
   "id": "0e0470e8",
   "metadata": {
    "colab": {
     "base_uri": "https://localhost:8080/"
    },
    "id": "0e0470e8",
    "outputId": "bef94c77-68ce-419d-f92f-b32cf1fb4d60"
   },
   "outputs": [
    {
     "name": "stdout",
     "output_type": "stream",
     "text": [
      "Requirement already satisfied: finance-datareader in c:\\users\\bitcamp\\anaconda3\\lib\\site-packages (0.9.33)\n",
      "Requirement already satisfied: requests>=2.3.0 in c:\\users\\bitcamp\\anaconda3\\lib\\site-packages (from finance-datareader) (2.26.0)\n",
      "Requirement already satisfied: pandas>=0.19.2 in c:\\users\\bitcamp\\anaconda3\\lib\\site-packages (from finance-datareader) (1.3.4)\n",
      "Requirement already satisfied: tqdm in c:\\users\\bitcamp\\anaconda3\\lib\\site-packages (from finance-datareader) (4.62.3)\n",
      "Requirement already satisfied: requests-file in c:\\users\\bitcamp\\anaconda3\\lib\\site-packages (from finance-datareader) (1.5.1)\n",
      "Requirement already satisfied: lxml in c:\\users\\bitcamp\\anaconda3\\lib\\site-packages (from finance-datareader) (4.6.3)\n",
      "Requirement already satisfied: numpy>=1.17.3 in c:\\users\\bitcamp\\anaconda3\\lib\\site-packages (from pandas>=0.19.2->finance-datareader) (1.20.3)\n",
      "Requirement already satisfied: pytz>=2017.3 in c:\\users\\bitcamp\\anaconda3\\lib\\site-packages (from pandas>=0.19.2->finance-datareader) (2021.3)\n",
      "Requirement already satisfied: python-dateutil>=2.7.3 in c:\\users\\bitcamp\\anaconda3\\lib\\site-packages (from pandas>=0.19.2->finance-datareader) (2.8.2)\n",
      "Requirement already satisfied: six>=1.5 in c:\\users\\bitcamp\\anaconda3\\lib\\site-packages (from python-dateutil>=2.7.3->pandas>=0.19.2->finance-datareader) (1.16.0)\n",
      "Requirement already satisfied: urllib3<1.27,>=1.21.1 in c:\\users\\bitcamp\\anaconda3\\lib\\site-packages (from requests>=2.3.0->finance-datareader) (1.26.7)\n",
      "Requirement already satisfied: charset-normalizer~=2.0.0 in c:\\users\\bitcamp\\anaconda3\\lib\\site-packages (from requests>=2.3.0->finance-datareader) (2.0.4)\n",
      "Requirement already satisfied: certifi>=2017.4.17 in c:\\users\\bitcamp\\anaconda3\\lib\\site-packages (from requests>=2.3.0->finance-datareader) (2021.10.8)\n",
      "Requirement already satisfied: idna<4,>=2.5 in c:\\users\\bitcamp\\anaconda3\\lib\\site-packages (from requests>=2.3.0->finance-datareader) (3.2)\n",
      "Requirement already satisfied: colorama in c:\\users\\bitcamp\\anaconda3\\lib\\site-packages (from tqdm->finance-datareader) (0.4.4)\n"
     ]
    }
   ],
   "source": [
    "!pip install finance-datareader"
   ]
  },
  {
   "cell_type": "code",
   "execution_count": 4,
   "id": "d81cc6a5",
   "metadata": {
    "id": "d81cc6a5"
   },
   "outputs": [
    {
     "ename": "AttributeError",
     "evalue": "module 'html5lib.treebuilders' has no attribute '_base'",
     "output_type": "error",
     "traceback": [
      "\u001b[1;31m---------------------------------------------------------------------------\u001b[0m",
      "\u001b[1;31mAttributeError\u001b[0m                            Traceback (most recent call last)",
      "\u001b[1;32m~\\AppData\\Local\\Temp/ipykernel_14040/1153866134.py\u001b[0m in \u001b[0;36m<module>\u001b[1;34m\u001b[0m\n\u001b[1;32m----> 1\u001b[1;33m \u001b[1;32mimport\u001b[0m \u001b[0mFinanceDataReader\u001b[0m \u001b[1;32mas\u001b[0m \u001b[0mfdr\u001b[0m\u001b[1;33m\u001b[0m\u001b[1;33m\u001b[0m\u001b[0m\n\u001b[0m",
      "\u001b[1;32m~\\anaconda3\\lib\\site-packages\\FinanceDataReader\\__init__.py\u001b[0m in \u001b[0;36m<module>\u001b[1;34m\u001b[0m\n\u001b[1;32m----> 1\u001b[1;33m \u001b[1;32mfrom\u001b[0m \u001b[1;33m.\u001b[0m\u001b[0mdata\u001b[0m \u001b[1;32mimport\u001b[0m \u001b[1;33m(\u001b[0m\u001b[0mDataReader\u001b[0m\u001b[1;33m)\u001b[0m\u001b[1;33m\u001b[0m\u001b[1;33m\u001b[0m\u001b[0m\n\u001b[0m\u001b[0;32m      2\u001b[0m \u001b[1;32mfrom\u001b[0m \u001b[1;33m.\u001b[0m\u001b[0mdata\u001b[0m \u001b[1;32mimport\u001b[0m \u001b[1;33m(\u001b[0m\u001b[0mStockListing\u001b[0m\u001b[1;33m)\u001b[0m\u001b[1;33m\u001b[0m\u001b[1;33m\u001b[0m\u001b[0m\n\u001b[0;32m      3\u001b[0m \u001b[1;32mfrom\u001b[0m \u001b[1;33m.\u001b[0m\u001b[0mdata\u001b[0m \u001b[1;32mimport\u001b[0m \u001b[1;33m(\u001b[0m\u001b[0mEtfListing\u001b[0m\u001b[1;33m)\u001b[0m\u001b[1;33m\u001b[0m\u001b[1;33m\u001b[0m\u001b[0m\n\u001b[0;32m      4\u001b[0m \u001b[1;32mfrom\u001b[0m \u001b[1;33m.\u001b[0m \u001b[1;32mimport\u001b[0m \u001b[1;33m(\u001b[0m\u001b[0mchart\u001b[0m\u001b[1;33m)\u001b[0m\u001b[1;33m\u001b[0m\u001b[1;33m\u001b[0m\u001b[0m\n\u001b[0;32m      5\u001b[0m \u001b[1;33m\u001b[0m\u001b[0m\n",
      "\u001b[1;32m~\\anaconda3\\lib\\site-packages\\FinanceDataReader\\data.py\u001b[0m in \u001b[0;36m<module>\u001b[1;34m\u001b[0m\n\u001b[0;32m      6\u001b[0m \u001b[1;32mfrom\u001b[0m \u001b[0mFinanceDataReader\u001b[0m\u001b[1;33m.\u001b[0m\u001b[0mkrx\u001b[0m\u001b[1;33m.\u001b[0m\u001b[0mlisting\u001b[0m \u001b[1;32mimport\u001b[0m \u001b[1;33m(\u001b[0m\u001b[0mKrxStockListing\u001b[0m\u001b[1;33m,\u001b[0m \u001b[0mKrxDelisting\u001b[0m\u001b[1;33m,\u001b[0m \u001b[0mKrxMarcapListing\u001b[0m\u001b[1;33m,\u001b[0m \u001b[0mKrxAdministrative\u001b[0m\u001b[1;33m)\u001b[0m\u001b[1;33m\u001b[0m\u001b[1;33m\u001b[0m\u001b[0m\n\u001b[0;32m      7\u001b[0m \u001b[1;32mfrom\u001b[0m \u001b[0mFinanceDataReader\u001b[0m\u001b[1;33m.\u001b[0m\u001b[0mwikipedia\u001b[0m\u001b[1;33m.\u001b[0m\u001b[0mlisting\u001b[0m \u001b[1;32mimport\u001b[0m \u001b[1;33m(\u001b[0m\u001b[0mWikipediaStockListing\u001b[0m\u001b[1;33m)\u001b[0m\u001b[1;33m\u001b[0m\u001b[1;33m\u001b[0m\u001b[0m\n\u001b[1;32m----> 8\u001b[1;33m \u001b[1;32mfrom\u001b[0m \u001b[0mFinanceDataReader\u001b[0m\u001b[1;33m.\u001b[0m\u001b[0minvesting\u001b[0m\u001b[1;33m.\u001b[0m\u001b[0mlisting\u001b[0m \u001b[1;32mimport\u001b[0m \u001b[1;33m(\u001b[0m\u001b[0mInvestingEtfListing\u001b[0m\u001b[1;33m)\u001b[0m\u001b[1;33m\u001b[0m\u001b[1;33m\u001b[0m\u001b[0m\n\u001b[0m\u001b[0;32m      9\u001b[0m \u001b[1;32mfrom\u001b[0m \u001b[0mFinanceDataReader\u001b[0m\u001b[1;33m.\u001b[0m\u001b[0mnaver\u001b[0m\u001b[1;33m.\u001b[0m\u001b[0mlisting\u001b[0m \u001b[1;32mimport\u001b[0m \u001b[1;33m(\u001b[0m\u001b[0mNaverStockListing\u001b[0m\u001b[1;33m,\u001b[0m \u001b[0mNaverEtfListing\u001b[0m\u001b[1;33m)\u001b[0m\u001b[1;33m\u001b[0m\u001b[1;33m\u001b[0m\u001b[0m\n\u001b[0;32m     10\u001b[0m \u001b[1;32mfrom\u001b[0m \u001b[0mFinanceDataReader\u001b[0m\u001b[1;33m.\u001b[0m\u001b[0m_utils\u001b[0m \u001b[1;32mimport\u001b[0m \u001b[1;33m(\u001b[0m\u001b[0m_convert_letter_to_num\u001b[0m\u001b[1;33m,\u001b[0m \u001b[0m_validate_dates\u001b[0m\u001b[1;33m)\u001b[0m\u001b[1;33m\u001b[0m\u001b[1;33m\u001b[0m\u001b[0m\n",
      "\u001b[1;32m~\\anaconda3\\lib\\site-packages\\FinanceDataReader\\investing\\listing.py\u001b[0m in \u001b[0;36m<module>\u001b[1;34m\u001b[0m\n\u001b[0;32m      1\u001b[0m \u001b[1;32mimport\u001b[0m \u001b[0mpandas\u001b[0m \u001b[1;32mas\u001b[0m \u001b[0mpd\u001b[0m\u001b[1;33m\u001b[0m\u001b[1;33m\u001b[0m\u001b[0m\n\u001b[0;32m      2\u001b[0m \u001b[1;32mimport\u001b[0m \u001b[0mrequests\u001b[0m\u001b[1;33m\u001b[0m\u001b[1;33m\u001b[0m\u001b[0m\n\u001b[1;32m----> 3\u001b[1;33m \u001b[1;32mfrom\u001b[0m \u001b[0mbs4\u001b[0m \u001b[1;32mimport\u001b[0m \u001b[0mBeautifulSoup\u001b[0m\u001b[1;33m\u001b[0m\u001b[1;33m\u001b[0m\u001b[0m\n\u001b[0m\u001b[0;32m      4\u001b[0m \u001b[1;33m\u001b[0m\u001b[0m\n\u001b[0;32m      5\u001b[0m \u001b[1;32mfrom\u001b[0m \u001b[0mFinanceDataReader\u001b[0m\u001b[1;33m.\u001b[0m\u001b[0m_utils\u001b[0m \u001b[1;32mimport\u001b[0m \u001b[1;33m(\u001b[0m\u001b[0m_convert_letter_to_num\u001b[0m\u001b[1;33m,\u001b[0m \u001b[0m_validate_dates\u001b[0m\u001b[1;33m)\u001b[0m\u001b[1;33m\u001b[0m\u001b[1;33m\u001b[0m\u001b[0m\n",
      "\u001b[1;32m~\\anaconda3\\lib\\site-packages\\bs4\\__init__.py\u001b[0m in \u001b[0;36m<module>\u001b[1;34m\u001b[0m\n\u001b[0;32m     28\u001b[0m \u001b[1;32mimport\u001b[0m \u001b[0mwarnings\u001b[0m\u001b[1;33m\u001b[0m\u001b[1;33m\u001b[0m\u001b[0m\n\u001b[0;32m     29\u001b[0m \u001b[1;33m\u001b[0m\u001b[0m\n\u001b[1;32m---> 30\u001b[1;33m \u001b[1;32mfrom\u001b[0m \u001b[1;33m.\u001b[0m\u001b[0mbuilder\u001b[0m \u001b[1;32mimport\u001b[0m \u001b[0mbuilder_registry\u001b[0m\u001b[1;33m,\u001b[0m \u001b[0mParserRejectedMarkup\u001b[0m\u001b[1;33m\u001b[0m\u001b[1;33m\u001b[0m\u001b[0m\n\u001b[0m\u001b[0;32m     31\u001b[0m \u001b[1;32mfrom\u001b[0m \u001b[1;33m.\u001b[0m\u001b[0mdammit\u001b[0m \u001b[1;32mimport\u001b[0m \u001b[0mUnicodeDammit\u001b[0m\u001b[1;33m\u001b[0m\u001b[1;33m\u001b[0m\u001b[0m\n\u001b[0;32m     32\u001b[0m from .element import (\n",
      "\u001b[1;32m~\\anaconda3\\lib\\site-packages\\bs4\\builder\\__init__.py\u001b[0m in \u001b[0;36m<module>\u001b[1;34m\u001b[0m\n\u001b[0;32m    312\u001b[0m \u001b[0mregister_treebuilders_from\u001b[0m\u001b[1;33m(\u001b[0m\u001b[0m_htmlparser\u001b[0m\u001b[1;33m)\u001b[0m\u001b[1;33m\u001b[0m\u001b[1;33m\u001b[0m\u001b[0m\n\u001b[0;32m    313\u001b[0m \u001b[1;32mtry\u001b[0m\u001b[1;33m:\u001b[0m\u001b[1;33m\u001b[0m\u001b[1;33m\u001b[0m\u001b[0m\n\u001b[1;32m--> 314\u001b[1;33m     \u001b[1;32mfrom\u001b[0m \u001b[1;33m.\u001b[0m \u001b[1;32mimport\u001b[0m \u001b[0m_html5lib\u001b[0m\u001b[1;33m\u001b[0m\u001b[1;33m\u001b[0m\u001b[0m\n\u001b[0m\u001b[0;32m    315\u001b[0m     \u001b[0mregister_treebuilders_from\u001b[0m\u001b[1;33m(\u001b[0m\u001b[0m_html5lib\u001b[0m\u001b[1;33m)\u001b[0m\u001b[1;33m\u001b[0m\u001b[1;33m\u001b[0m\u001b[0m\n\u001b[0;32m    316\u001b[0m \u001b[1;32mexcept\u001b[0m \u001b[0mImportError\u001b[0m\u001b[1;33m:\u001b[0m\u001b[1;33m\u001b[0m\u001b[1;33m\u001b[0m\u001b[0m\n",
      "\u001b[1;32m~\\anaconda3\\lib\\site-packages\\bs4\\builder\\_html5lib.py\u001b[0m in \u001b[0;36m<module>\u001b[1;34m\u001b[0m\n\u001b[0;32m     68\u001b[0m \u001b[1;33m\u001b[0m\u001b[0m\n\u001b[0;32m     69\u001b[0m \u001b[1;33m\u001b[0m\u001b[0m\n\u001b[1;32m---> 70\u001b[1;33m \u001b[1;32mclass\u001b[0m \u001b[0mTreeBuilderForHtml5lib\u001b[0m\u001b[1;33m(\u001b[0m\u001b[0mhtml5lib\u001b[0m\u001b[1;33m.\u001b[0m\u001b[0mtreebuilders\u001b[0m\u001b[1;33m.\u001b[0m\u001b[0m_base\u001b[0m\u001b[1;33m.\u001b[0m\u001b[0mTreeBuilder\u001b[0m\u001b[1;33m)\u001b[0m\u001b[1;33m:\u001b[0m\u001b[1;33m\u001b[0m\u001b[1;33m\u001b[0m\u001b[0m\n\u001b[0m\u001b[0;32m     71\u001b[0m \u001b[1;33m\u001b[0m\u001b[0m\n\u001b[0;32m     72\u001b[0m     \u001b[1;32mdef\u001b[0m \u001b[0m__init__\u001b[0m\u001b[1;33m(\u001b[0m\u001b[0mself\u001b[0m\u001b[1;33m,\u001b[0m \u001b[0msoup\u001b[0m\u001b[1;33m,\u001b[0m \u001b[0mnamespaceHTMLElements\u001b[0m\u001b[1;33m)\u001b[0m\u001b[1;33m:\u001b[0m\u001b[1;33m\u001b[0m\u001b[1;33m\u001b[0m\u001b[0m\n",
      "\u001b[1;31mAttributeError\u001b[0m: module 'html5lib.treebuilders' has no attribute '_base'"
     ]
    }
   ],
   "source": [
    "import FinanceDataReader as fdr"
   ]
  },
  {
   "cell_type": "code",
   "execution_count": 6,
   "id": "5d63e5b2",
   "metadata": {
    "colab": {
     "base_uri": "https://localhost:8080/",
     "height": 238
    },
    "id": "5d63e5b2",
    "outputId": "5c02452a-71f0-4fcd-dae2-f0903497cfa0"
   },
   "outputs": [
    {
     "data": {
      "text/html": [
       "\n",
       "  <div id=\"df-41db7ee4-a2b8-4762-bbb3-594a5f213087\">\n",
       "    <div class=\"colab-df-container\">\n",
       "      <div>\n",
       "<style scoped>\n",
       "    .dataframe tbody tr th:only-of-type {\n",
       "        vertical-align: middle;\n",
       "    }\n",
       "\n",
       "    .dataframe tbody tr th {\n",
       "        vertical-align: top;\n",
       "    }\n",
       "\n",
       "    .dataframe thead th {\n",
       "        text-align: right;\n",
       "    }\n",
       "</style>\n",
       "<table border=\"1\" class=\"dataframe\">\n",
       "  <thead>\n",
       "    <tr style=\"text-align: right;\">\n",
       "      <th></th>\n",
       "      <th>Close</th>\n",
       "      <th>Open</th>\n",
       "      <th>High</th>\n",
       "      <th>Low</th>\n",
       "      <th>Volume</th>\n",
       "      <th>Change</th>\n",
       "    </tr>\n",
       "    <tr>\n",
       "      <th>Date</th>\n",
       "      <th></th>\n",
       "      <th></th>\n",
       "      <th></th>\n",
       "      <th></th>\n",
       "      <th></th>\n",
       "      <th></th>\n",
       "    </tr>\n",
       "  </thead>\n",
       "  <tbody>\n",
       "    <tr>\n",
       "      <th>2022-03-14</th>\n",
       "      <td>150.62</td>\n",
       "      <td>151.45</td>\n",
       "      <td>154.12</td>\n",
       "      <td>150.10</td>\n",
       "      <td>108730000.0</td>\n",
       "      <td>-0.0266</td>\n",
       "    </tr>\n",
       "    <tr>\n",
       "      <th>2022-03-15</th>\n",
       "      <td>155.09</td>\n",
       "      <td>150.90</td>\n",
       "      <td>155.57</td>\n",
       "      <td>150.38</td>\n",
       "      <td>91850000.0</td>\n",
       "      <td>0.0297</td>\n",
       "    </tr>\n",
       "    <tr>\n",
       "      <th>2022-03-16</th>\n",
       "      <td>159.59</td>\n",
       "      <td>157.05</td>\n",
       "      <td>160.00</td>\n",
       "      <td>154.46</td>\n",
       "      <td>101040000.0</td>\n",
       "      <td>0.0290</td>\n",
       "    </tr>\n",
       "    <tr>\n",
       "      <th>2022-03-17</th>\n",
       "      <td>160.62</td>\n",
       "      <td>158.61</td>\n",
       "      <td>161.00</td>\n",
       "      <td>157.63</td>\n",
       "      <td>75330000.0</td>\n",
       "      <td>0.0065</td>\n",
       "    </tr>\n",
       "    <tr>\n",
       "      <th>2022-03-18</th>\n",
       "      <td>163.98</td>\n",
       "      <td>160.51</td>\n",
       "      <td>164.48</td>\n",
       "      <td>159.76</td>\n",
       "      <td>123510000.0</td>\n",
       "      <td>0.0209</td>\n",
       "    </tr>\n",
       "  </tbody>\n",
       "</table>\n",
       "</div>\n",
       "      <button class=\"colab-df-convert\" onclick=\"convertToInteractive('df-41db7ee4-a2b8-4762-bbb3-594a5f213087')\"\n",
       "              title=\"Convert this dataframe to an interactive table.\"\n",
       "              style=\"display:none;\">\n",
       "        \n",
       "  <svg xmlns=\"http://www.w3.org/2000/svg\" height=\"24px\"viewBox=\"0 0 24 24\"\n",
       "       width=\"24px\">\n",
       "    <path d=\"M0 0h24v24H0V0z\" fill=\"none\"/>\n",
       "    <path d=\"M18.56 5.44l.94 2.06.94-2.06 2.06-.94-2.06-.94-.94-2.06-.94 2.06-2.06.94zm-11 1L8.5 8.5l.94-2.06 2.06-.94-2.06-.94L8.5 2.5l-.94 2.06-2.06.94zm10 10l.94 2.06.94-2.06 2.06-.94-2.06-.94-.94-2.06-.94 2.06-2.06.94z\"/><path d=\"M17.41 7.96l-1.37-1.37c-.4-.4-.92-.59-1.43-.59-.52 0-1.04.2-1.43.59L10.3 9.45l-7.72 7.72c-.78.78-.78 2.05 0 2.83L4 21.41c.39.39.9.59 1.41.59.51 0 1.02-.2 1.41-.59l7.78-7.78 2.81-2.81c.8-.78.8-2.07 0-2.86zM5.41 20L4 18.59l7.72-7.72 1.47 1.35L5.41 20z\"/>\n",
       "  </svg>\n",
       "      </button>\n",
       "      \n",
       "  <style>\n",
       "    .colab-df-container {\n",
       "      display:flex;\n",
       "      flex-wrap:wrap;\n",
       "      gap: 12px;\n",
       "    }\n",
       "\n",
       "    .colab-df-convert {\n",
       "      background-color: #E8F0FE;\n",
       "      border: none;\n",
       "      border-radius: 50%;\n",
       "      cursor: pointer;\n",
       "      display: none;\n",
       "      fill: #1967D2;\n",
       "      height: 32px;\n",
       "      padding: 0 0 0 0;\n",
       "      width: 32px;\n",
       "    }\n",
       "\n",
       "    .colab-df-convert:hover {\n",
       "      background-color: #E2EBFA;\n",
       "      box-shadow: 0px 1px 2px rgba(60, 64, 67, 0.3), 0px 1px 3px 1px rgba(60, 64, 67, 0.15);\n",
       "      fill: #174EA6;\n",
       "    }\n",
       "\n",
       "    [theme=dark] .colab-df-convert {\n",
       "      background-color: #3B4455;\n",
       "      fill: #D2E3FC;\n",
       "    }\n",
       "\n",
       "    [theme=dark] .colab-df-convert:hover {\n",
       "      background-color: #434B5C;\n",
       "      box-shadow: 0px 1px 3px 1px rgba(0, 0, 0, 0.15);\n",
       "      filter: drop-shadow(0px 1px 2px rgba(0, 0, 0, 0.3));\n",
       "      fill: #FFFFFF;\n",
       "    }\n",
       "  </style>\n",
       "\n",
       "      <script>\n",
       "        const buttonEl =\n",
       "          document.querySelector('#df-41db7ee4-a2b8-4762-bbb3-594a5f213087 button.colab-df-convert');\n",
       "        buttonEl.style.display =\n",
       "          google.colab.kernel.accessAllowed ? 'block' : 'none';\n",
       "\n",
       "        async function convertToInteractive(key) {\n",
       "          const element = document.querySelector('#df-41db7ee4-a2b8-4762-bbb3-594a5f213087');\n",
       "          const dataTable =\n",
       "            await google.colab.kernel.invokeFunction('convertToInteractive',\n",
       "                                                     [key], {});\n",
       "          if (!dataTable) return;\n",
       "\n",
       "          const docLinkHtml = 'Like what you see? Visit the ' +\n",
       "            '<a target=\"_blank\" href=https://colab.research.google.com/notebooks/data_table.ipynb>data table notebook</a>'\n",
       "            + ' to learn more about interactive tables.';\n",
       "          element.innerHTML = '';\n",
       "          dataTable['output_type'] = 'display_data';\n",
       "          await google.colab.output.renderOutput(dataTable, element);\n",
       "          const docLink = document.createElement('div');\n",
       "          docLink.innerHTML = docLinkHtml;\n",
       "          element.appendChild(docLink);\n",
       "        }\n",
       "      </script>\n",
       "    </div>\n",
       "  </div>\n",
       "  "
      ],
      "text/plain": [
       "             Close    Open    High     Low       Volume  Change\n",
       "Date                                                           \n",
       "2022-03-14  150.62  151.45  154.12  150.10  108730000.0 -0.0266\n",
       "2022-03-15  155.09  150.90  155.57  150.38   91850000.0  0.0297\n",
       "2022-03-16  159.59  157.05  160.00  154.46  101040000.0  0.0290\n",
       "2022-03-17  160.62  158.61  161.00  157.63   75330000.0  0.0065\n",
       "2022-03-18  163.98  160.51  164.48  159.76  123510000.0  0.0209"
      ]
     },
     "execution_count": 6,
     "metadata": {},
     "output_type": "execute_result"
    }
   ],
   "source": [
    "df = fdr.DataReader('AAPL', '2018-01-01', '2022-03-20')\n",
    "df.tail()"
   ]
  },
  {
   "cell_type": "code",
   "execution_count": null,
   "id": "PZIANZiIbCBX",
   "metadata": {
    "id": "PZIANZiIbCBX"
   },
   "outputs": [],
   "source": []
  },
  {
   "cell_type": "code",
   "execution_count": 7,
   "id": "E-HCSYw0bF0a",
   "metadata": {
    "colab": {
     "base_uri": "https://localhost:8080/",
     "height": 708
    },
    "id": "E-HCSYw0bF0a",
    "outputId": "5a548175-60a5-4573-dd2e-907d27927743"
   },
   "outputs": [
    {
     "data": {
      "text/html": [
       "\n",
       "  <div id=\"df-584c748c-c06b-4690-b7b8-72709867f21d\">\n",
       "    <div class=\"colab-df-container\">\n",
       "      <div>\n",
       "<style scoped>\n",
       "    .dataframe tbody tr th:only-of-type {\n",
       "        vertical-align: middle;\n",
       "    }\n",
       "\n",
       "    .dataframe tbody tr th {\n",
       "        vertical-align: top;\n",
       "    }\n",
       "\n",
       "    .dataframe thead th {\n",
       "        text-align: right;\n",
       "    }\n",
       "</style>\n",
       "<table border=\"1\" class=\"dataframe\">\n",
       "  <thead>\n",
       "    <tr style=\"text-align: right;\">\n",
       "      <th></th>\n",
       "      <th>Close</th>\n",
       "      <th>Open</th>\n",
       "      <th>High</th>\n",
       "      <th>Low</th>\n",
       "      <th>Volume</th>\n",
       "      <th>Change</th>\n",
       "    </tr>\n",
       "    <tr>\n",
       "      <th>Date</th>\n",
       "      <th></th>\n",
       "      <th></th>\n",
       "      <th></th>\n",
       "      <th></th>\n",
       "      <th></th>\n",
       "      <th></th>\n",
       "    </tr>\n",
       "  </thead>\n",
       "  <tbody>\n",
       "    <tr>\n",
       "      <th>2018-01-02</th>\n",
       "      <td>43.06</td>\n",
       "      <td>42.54</td>\n",
       "      <td>43.08</td>\n",
       "      <td>42.31</td>\n",
       "      <td>102220000.0</td>\n",
       "      <td>0.0177</td>\n",
       "    </tr>\n",
       "    <tr>\n",
       "      <th>2018-01-03</th>\n",
       "      <td>43.06</td>\n",
       "      <td>43.13</td>\n",
       "      <td>43.64</td>\n",
       "      <td>42.99</td>\n",
       "      <td>118070000.0</td>\n",
       "      <td>0.0000</td>\n",
       "    </tr>\n",
       "    <tr>\n",
       "      <th>2018-01-04</th>\n",
       "      <td>43.26</td>\n",
       "      <td>43.13</td>\n",
       "      <td>43.37</td>\n",
       "      <td>43.02</td>\n",
       "      <td>89740000.0</td>\n",
       "      <td>0.0046</td>\n",
       "    </tr>\n",
       "    <tr>\n",
       "      <th>2018-01-05</th>\n",
       "      <td>43.75</td>\n",
       "      <td>43.36</td>\n",
       "      <td>43.84</td>\n",
       "      <td>43.26</td>\n",
       "      <td>94640000.0</td>\n",
       "      <td>0.0113</td>\n",
       "    </tr>\n",
       "    <tr>\n",
       "      <th>2018-01-08</th>\n",
       "      <td>43.59</td>\n",
       "      <td>43.59</td>\n",
       "      <td>43.90</td>\n",
       "      <td>43.48</td>\n",
       "      <td>82270000.0</td>\n",
       "      <td>-0.0037</td>\n",
       "    </tr>\n",
       "    <tr>\n",
       "      <th>2018-01-09</th>\n",
       "      <td>43.58</td>\n",
       "      <td>43.64</td>\n",
       "      <td>43.77</td>\n",
       "      <td>43.35</td>\n",
       "      <td>86340000.0</td>\n",
       "      <td>-0.0002</td>\n",
       "    </tr>\n",
       "    <tr>\n",
       "      <th>2018-01-10</th>\n",
       "      <td>43.57</td>\n",
       "      <td>43.29</td>\n",
       "      <td>43.58</td>\n",
       "      <td>43.25</td>\n",
       "      <td>95840000.0</td>\n",
       "      <td>-0.0002</td>\n",
       "    </tr>\n",
       "    <tr>\n",
       "      <th>2018-01-11</th>\n",
       "      <td>43.82</td>\n",
       "      <td>43.65</td>\n",
       "      <td>43.87</td>\n",
       "      <td>43.62</td>\n",
       "      <td>74670000.0</td>\n",
       "      <td>0.0057</td>\n",
       "    </tr>\n",
       "    <tr>\n",
       "      <th>2018-01-12</th>\n",
       "      <td>44.27</td>\n",
       "      <td>44.05</td>\n",
       "      <td>44.34</td>\n",
       "      <td>43.91</td>\n",
       "      <td>101670000.0</td>\n",
       "      <td>0.0103</td>\n",
       "    </tr>\n",
       "    <tr>\n",
       "      <th>2018-01-16</th>\n",
       "      <td>44.05</td>\n",
       "      <td>44.48</td>\n",
       "      <td>44.85</td>\n",
       "      <td>44.03</td>\n",
       "      <td>118260000.0</td>\n",
       "      <td>-0.0050</td>\n",
       "    </tr>\n",
       "    <tr>\n",
       "      <th>2018-01-17</th>\n",
       "      <td>44.77</td>\n",
       "      <td>44.04</td>\n",
       "      <td>44.81</td>\n",
       "      <td>43.77</td>\n",
       "      <td>137550000.0</td>\n",
       "      <td>0.0163</td>\n",
       "    </tr>\n",
       "    <tr>\n",
       "      <th>2018-01-18</th>\n",
       "      <td>44.81</td>\n",
       "      <td>44.84</td>\n",
       "      <td>45.02</td>\n",
       "      <td>44.56</td>\n",
       "      <td>124770000.0</td>\n",
       "      <td>0.0009</td>\n",
       "    </tr>\n",
       "    <tr>\n",
       "      <th>2018-01-19</th>\n",
       "      <td>44.62</td>\n",
       "      <td>44.65</td>\n",
       "      <td>44.90</td>\n",
       "      <td>44.35</td>\n",
       "      <td>129700000.0</td>\n",
       "      <td>-0.0042</td>\n",
       "    </tr>\n",
       "    <tr>\n",
       "      <th>2018-01-22</th>\n",
       "      <td>44.25</td>\n",
       "      <td>44.33</td>\n",
       "      <td>44.45</td>\n",
       "      <td>44.15</td>\n",
       "      <td>108430000.0</td>\n",
       "      <td>-0.0083</td>\n",
       "    </tr>\n",
       "    <tr>\n",
       "      <th>2018-01-23</th>\n",
       "      <td>44.26</td>\n",
       "      <td>44.33</td>\n",
       "      <td>44.86</td>\n",
       "      <td>44.20</td>\n",
       "      <td>130760000.0</td>\n",
       "      <td>0.0002</td>\n",
       "    </tr>\n",
       "    <tr>\n",
       "      <th>2018-01-24</th>\n",
       "      <td>43.55</td>\n",
       "      <td>44.31</td>\n",
       "      <td>44.33</td>\n",
       "      <td>43.30</td>\n",
       "      <td>204420000.0</td>\n",
       "      <td>-0.0160</td>\n",
       "    </tr>\n",
       "    <tr>\n",
       "      <th>2018-01-25</th>\n",
       "      <td>42.78</td>\n",
       "      <td>43.63</td>\n",
       "      <td>43.74</td>\n",
       "      <td>42.63</td>\n",
       "      <td>166120000.0</td>\n",
       "      <td>-0.0177</td>\n",
       "    </tr>\n",
       "    <tr>\n",
       "      <th>2018-01-26</th>\n",
       "      <td>42.88</td>\n",
       "      <td>43.00</td>\n",
       "      <td>43.00</td>\n",
       "      <td>42.52</td>\n",
       "      <td>156570000.0</td>\n",
       "      <td>0.0023</td>\n",
       "    </tr>\n",
       "    <tr>\n",
       "      <th>2018-01-29</th>\n",
       "      <td>41.99</td>\n",
       "      <td>42.54</td>\n",
       "      <td>42.54</td>\n",
       "      <td>41.77</td>\n",
       "      <td>202560000.0</td>\n",
       "      <td>-0.0208</td>\n",
       "    </tr>\n",
       "    <tr>\n",
       "      <th>2018-01-30</th>\n",
       "      <td>41.74</td>\n",
       "      <td>41.38</td>\n",
       "      <td>41.84</td>\n",
       "      <td>41.17</td>\n",
       "      <td>184190000.0</td>\n",
       "      <td>-0.0060</td>\n",
       "    </tr>\n",
       "  </tbody>\n",
       "</table>\n",
       "</div>\n",
       "      <button class=\"colab-df-convert\" onclick=\"convertToInteractive('df-584c748c-c06b-4690-b7b8-72709867f21d')\"\n",
       "              title=\"Convert this dataframe to an interactive table.\"\n",
       "              style=\"display:none;\">\n",
       "        \n",
       "  <svg xmlns=\"http://www.w3.org/2000/svg\" height=\"24px\"viewBox=\"0 0 24 24\"\n",
       "       width=\"24px\">\n",
       "    <path d=\"M0 0h24v24H0V0z\" fill=\"none\"/>\n",
       "    <path d=\"M18.56 5.44l.94 2.06.94-2.06 2.06-.94-2.06-.94-.94-2.06-.94 2.06-2.06.94zm-11 1L8.5 8.5l.94-2.06 2.06-.94-2.06-.94L8.5 2.5l-.94 2.06-2.06.94zm10 10l.94 2.06.94-2.06 2.06-.94-2.06-.94-.94-2.06-.94 2.06-2.06.94z\"/><path d=\"M17.41 7.96l-1.37-1.37c-.4-.4-.92-.59-1.43-.59-.52 0-1.04.2-1.43.59L10.3 9.45l-7.72 7.72c-.78.78-.78 2.05 0 2.83L4 21.41c.39.39.9.59 1.41.59.51 0 1.02-.2 1.41-.59l7.78-7.78 2.81-2.81c.8-.78.8-2.07 0-2.86zM5.41 20L4 18.59l7.72-7.72 1.47 1.35L5.41 20z\"/>\n",
       "  </svg>\n",
       "      </button>\n",
       "      \n",
       "  <style>\n",
       "    .colab-df-container {\n",
       "      display:flex;\n",
       "      flex-wrap:wrap;\n",
       "      gap: 12px;\n",
       "    }\n",
       "\n",
       "    .colab-df-convert {\n",
       "      background-color: #E8F0FE;\n",
       "      border: none;\n",
       "      border-radius: 50%;\n",
       "      cursor: pointer;\n",
       "      display: none;\n",
       "      fill: #1967D2;\n",
       "      height: 32px;\n",
       "      padding: 0 0 0 0;\n",
       "      width: 32px;\n",
       "    }\n",
       "\n",
       "    .colab-df-convert:hover {\n",
       "      background-color: #E2EBFA;\n",
       "      box-shadow: 0px 1px 2px rgba(60, 64, 67, 0.3), 0px 1px 3px 1px rgba(60, 64, 67, 0.15);\n",
       "      fill: #174EA6;\n",
       "    }\n",
       "\n",
       "    [theme=dark] .colab-df-convert {\n",
       "      background-color: #3B4455;\n",
       "      fill: #D2E3FC;\n",
       "    }\n",
       "\n",
       "    [theme=dark] .colab-df-convert:hover {\n",
       "      background-color: #434B5C;\n",
       "      box-shadow: 0px 1px 3px 1px rgba(0, 0, 0, 0.15);\n",
       "      filter: drop-shadow(0px 1px 2px rgba(0, 0, 0, 0.3));\n",
       "      fill: #FFFFFF;\n",
       "    }\n",
       "  </style>\n",
       "\n",
       "      <script>\n",
       "        const buttonEl =\n",
       "          document.querySelector('#df-584c748c-c06b-4690-b7b8-72709867f21d button.colab-df-convert');\n",
       "        buttonEl.style.display =\n",
       "          google.colab.kernel.accessAllowed ? 'block' : 'none';\n",
       "\n",
       "        async function convertToInteractive(key) {\n",
       "          const element = document.querySelector('#df-584c748c-c06b-4690-b7b8-72709867f21d');\n",
       "          const dataTable =\n",
       "            await google.colab.kernel.invokeFunction('convertToInteractive',\n",
       "                                                     [key], {});\n",
       "          if (!dataTable) return;\n",
       "\n",
       "          const docLinkHtml = 'Like what you see? Visit the ' +\n",
       "            '<a target=\"_blank\" href=https://colab.research.google.com/notebooks/data_table.ipynb>data table notebook</a>'\n",
       "            + ' to learn more about interactive tables.';\n",
       "          element.innerHTML = '';\n",
       "          dataTable['output_type'] = 'display_data';\n",
       "          await google.colab.output.renderOutput(dataTable, element);\n",
       "          const docLink = document.createElement('div');\n",
       "          docLink.innerHTML = docLinkHtml;\n",
       "          element.appendChild(docLink);\n",
       "        }\n",
       "      </script>\n",
       "    </div>\n",
       "  </div>\n",
       "  "
      ],
      "text/plain": [
       "            Close   Open   High    Low       Volume  Change\n",
       "Date                                                       \n",
       "2018-01-02  43.06  42.54  43.08  42.31  102220000.0  0.0177\n",
       "2018-01-03  43.06  43.13  43.64  42.99  118070000.0  0.0000\n",
       "2018-01-04  43.26  43.13  43.37  43.02   89740000.0  0.0046\n",
       "2018-01-05  43.75  43.36  43.84  43.26   94640000.0  0.0113\n",
       "2018-01-08  43.59  43.59  43.90  43.48   82270000.0 -0.0037\n",
       "2018-01-09  43.58  43.64  43.77  43.35   86340000.0 -0.0002\n",
       "2018-01-10  43.57  43.29  43.58  43.25   95840000.0 -0.0002\n",
       "2018-01-11  43.82  43.65  43.87  43.62   74670000.0  0.0057\n",
       "2018-01-12  44.27  44.05  44.34  43.91  101670000.0  0.0103\n",
       "2018-01-16  44.05  44.48  44.85  44.03  118260000.0 -0.0050\n",
       "2018-01-17  44.77  44.04  44.81  43.77  137550000.0  0.0163\n",
       "2018-01-18  44.81  44.84  45.02  44.56  124770000.0  0.0009\n",
       "2018-01-19  44.62  44.65  44.90  44.35  129700000.0 -0.0042\n",
       "2018-01-22  44.25  44.33  44.45  44.15  108430000.0 -0.0083\n",
       "2018-01-23  44.26  44.33  44.86  44.20  130760000.0  0.0002\n",
       "2018-01-24  43.55  44.31  44.33  43.30  204420000.0 -0.0160\n",
       "2018-01-25  42.78  43.63  43.74  42.63  166120000.0 -0.0177\n",
       "2018-01-26  42.88  43.00  43.00  42.52  156570000.0  0.0023\n",
       "2018-01-29  41.99  42.54  42.54  41.77  202560000.0 -0.0208\n",
       "2018-01-30  41.74  41.38  41.84  41.17  184190000.0 -0.0060"
      ]
     },
     "execution_count": 7,
     "metadata": {},
     "output_type": "execute_result"
    }
   ],
   "source": [
    "df.head(20)"
   ]
  },
  {
   "cell_type": "code",
   "execution_count": null,
   "id": "Dl1IpPK5bHB5",
   "metadata": {
    "id": "Dl1IpPK5bHB5"
   },
   "outputs": [],
   "source": []
  },
  {
   "cell_type": "code",
   "execution_count": 9,
   "id": "JgC9rXstbLMy",
   "metadata": {
    "colab": {
     "base_uri": "https://localhost:8080/"
    },
    "id": "JgC9rXstbLMy",
    "outputId": "5ec9a951-c91b-4d1f-b35b-d1188961e4ca"
   },
   "outputs": [
    {
     "data": {
      "text/plain": [
       "array([[0.0512768 , 0.04466721, 0.04538939, 0.04741679, 0.15926041,\n",
       "        0.5889694 ],\n",
       "       [0.0512768 , 0.04869067, 0.04921166, 0.05215151, 0.20030557,\n",
       "        0.51771337],\n",
       "       [0.05264236, 0.04869067, 0.04736878, 0.0523604 , 0.1269422 ,\n",
       "        0.53623188],\n",
       "       ...,\n",
       "       [0.84692066, 0.82555919, 0.84342366, 0.82829689, 0.15620468,\n",
       "        0.63446055],\n",
       "       [0.8539533 , 0.83619749, 0.85024913, 0.85036903, 0.08962606,\n",
       "        0.54388084],\n",
       "       [0.87689472, 0.84915439, 0.87400177, 0.86519983, 0.214393  ,\n",
       "        0.60185185]])"
      ]
     },
     "execution_count": 9,
     "metadata": {},
     "output_type": "execute_result"
    }
   ],
   "source": [
    "scaler = MinMaxScaler()\n",
    "price = scaler.fit_transform(df)\n",
    "price"
   ]
  },
  {
   "cell_type": "code",
   "execution_count": 12,
   "id": "-CcBA-YlbQTp",
   "metadata": {
    "id": "-CcBA-YlbQTp"
   },
   "outputs": [],
   "source": [
    "window_size = 10\n",
    "X = []\n",
    "Y = []\n",
    "\n",
    "for i in range(len(price) - window_size):\n",
    "  X.append([price[i+j] for j in range(window_size)])\n",
    "  Y.append(price[window_size + i][0])"
   ]
  },
  {
   "cell_type": "code",
   "execution_count": 13,
   "id": "5yuWVSQSbmRB",
   "metadata": {
    "id": "5yuWVSQSbmRB"
   },
   "outputs": [],
   "source": [
    "X = np.array(X)\n",
    "Y = np.array(Y)"
   ]
  },
  {
   "cell_type": "code",
   "execution_count": 14,
   "id": "gGIZJ_o0cYsh",
   "metadata": {
    "colab": {
     "base_uri": "https://localhost:8080/"
    },
    "id": "gGIZJ_o0cYsh",
    "outputId": "2afe6f0c-73dc-4b25-82b1-0df11f32ad21"
   },
   "outputs": [
    {
     "data": {
      "text/plain": [
       "(1051, 10, 6)"
      ]
     },
     "execution_count": 14,
     "metadata": {},
     "output_type": "execute_result"
    }
   ],
   "source": [
    "X.shape"
   ]
  },
  {
   "cell_type": "code",
   "execution_count": 15,
   "id": "VhFVv70-cZoQ",
   "metadata": {
    "colab": {
     "base_uri": "https://localhost:8080/"
    },
    "id": "VhFVv70-cZoQ",
    "outputId": "f7dab307-5125-4d5f-9bd4-6e88c4590140"
   },
   "outputs": [
    {
     "data": {
      "text/plain": [
       "(1051,)"
      ]
     },
     "execution_count": 15,
     "metadata": {},
     "output_type": "execute_result"
    }
   ],
   "source": [
    "Y.shape"
   ]
  },
  {
   "cell_type": "code",
   "execution_count": 16,
   "id": "hiatoUtgcc2A",
   "metadata": {
    "id": "hiatoUtgcc2A"
   },
   "outputs": [],
   "source": [
    "tt_split = 800\n",
    "\n",
    "x_train = X[:tt_split]\n",
    "y_train = Y[:tt_split]\n",
    "\n",
    "x_test = X[tt_split:]\n",
    "y_test = Y[tt_split:]\n"
   ]
  },
  {
   "cell_type": "code",
   "execution_count": 17,
   "id": "OVyllPkadFz4",
   "metadata": {
    "colab": {
     "base_uri": "https://localhost:8080/"
    },
    "id": "OVyllPkadFz4",
    "outputId": "6f3c5e41-6acd-48cf-f801-9da8fbccd80f"
   },
   "outputs": [
    {
     "data": {
      "text/plain": [
       "(800, 10, 6)"
      ]
     },
     "execution_count": 17,
     "metadata": {},
     "output_type": "execute_result"
    }
   ],
   "source": [
    "x_train.shape"
   ]
  },
  {
   "cell_type": "code",
   "execution_count": 19,
   "id": "VYH2BWCZdHEQ",
   "metadata": {
    "colab": {
     "base_uri": "https://localhost:8080/"
    },
    "id": "VYH2BWCZdHEQ",
    "outputId": "726e333f-7507-4f0f-ad78-2c2b99037737"
   },
   "outputs": [
    {
     "name": "stdout",
     "output_type": "stream",
     "text": [
      "Model: \"sequential_1\"\n",
      "_________________________________________________________________\n",
      " Layer (type)                Output Shape              Param #   \n",
      "=================================================================\n",
      " lstm_1 (LSTM)               (None, 100)               42800     \n",
      "                                                                 \n",
      " dropout_1 (Dropout)         (None, 100)               0         \n",
      "                                                                 \n",
      " dense_1 (Dense)             (None, 1)                 101       \n",
      "                                                                 \n",
      "=================================================================\n",
      "Total params: 42,901\n",
      "Trainable params: 42,901\n",
      "Non-trainable params: 0\n",
      "_________________________________________________________________\n"
     ]
    }
   ],
   "source": [
    "model = Sequential()\n",
    "model.add(LSTM(100, input_shape = (10, 6)))\n",
    "model.add(Dropout(0.2))\n",
    "model.add(Dense(1, activation = 'linear'))\n",
    "model.summary()"
   ]
  },
  {
   "cell_type": "code",
   "execution_count": 20,
   "id": "5_jLc2PUdY2I",
   "metadata": {
    "id": "5_jLc2PUdY2I"
   },
   "outputs": [],
   "source": [
    "model.compile(loss = 'mse', optimizer = 'adam')"
   ]
  },
  {
   "cell_type": "code",
   "execution_count": 22,
   "id": "VbpFLnMVde0h",
   "metadata": {
    "colab": {
     "base_uri": "https://localhost:8080/"
    },
    "id": "VbpFLnMVde0h",
    "outputId": "08077d1b-490d-46ca-8deb-2271ef4121a5"
   },
   "outputs": [
    {
     "name": "stdout",
     "output_type": "stream",
     "text": [
      "Epoch 1/20\n",
      "25/25 [==============================] - 3s 34ms/step - loss: 0.0111 - val_loss: 0.0068\n",
      "Epoch 2/20\n",
      "25/25 [==============================] - 0s 11ms/step - loss: 0.0019 - val_loss: 6.9697e-04\n",
      "Epoch 3/20\n",
      "25/25 [==============================] - 0s 11ms/step - loss: 0.0014 - val_loss: 0.0013\n",
      "Epoch 4/20\n",
      "25/25 [==============================] - 0s 12ms/step - loss: 0.0014 - val_loss: 0.0013\n",
      "Epoch 5/20\n",
      "25/25 [==============================] - 0s 11ms/step - loss: 0.0011 - val_loss: 6.8016e-04\n",
      "Epoch 6/20\n",
      "25/25 [==============================] - 0s 11ms/step - loss: 0.0011 - val_loss: 0.0010\n",
      "Epoch 7/20\n",
      "25/25 [==============================] - 0s 11ms/step - loss: 8.9661e-04 - val_loss: 9.2723e-04\n",
      "Epoch 8/20\n",
      "25/25 [==============================] - 0s 11ms/step - loss: 9.1835e-04 - val_loss: 0.0015\n",
      "Epoch 9/20\n",
      "25/25 [==============================] - 0s 11ms/step - loss: 9.0129e-04 - val_loss: 7.6818e-04\n",
      "Epoch 10/20\n",
      "25/25 [==============================] - 0s 11ms/step - loss: 7.6305e-04 - val_loss: 0.0018\n",
      "Epoch 11/20\n",
      "25/25 [==============================] - 0s 12ms/step - loss: 8.2743e-04 - val_loss: 0.0023\n",
      "Epoch 12/20\n",
      "25/25 [==============================] - 0s 11ms/step - loss: 7.7009e-04 - val_loss: 6.2455e-04\n",
      "Epoch 13/20\n",
      "25/25 [==============================] - 0s 11ms/step - loss: 6.2101e-04 - val_loss: 9.6431e-04\n",
      "Epoch 14/20\n",
      "25/25 [==============================] - 0s 11ms/step - loss: 7.5666e-04 - val_loss: 0.0012\n",
      "Epoch 15/20\n",
      "25/25 [==============================] - 0s 11ms/step - loss: 6.0321e-04 - val_loss: 0.0017\n",
      "Epoch 16/20\n",
      "25/25 [==============================] - 0s 12ms/step - loss: 7.8537e-04 - val_loss: 0.0014\n",
      "Epoch 17/20\n",
      "25/25 [==============================] - 0s 11ms/step - loss: 7.8378e-04 - val_loss: 6.5905e-04\n",
      "Epoch 18/20\n",
      "25/25 [==============================] - 0s 12ms/step - loss: 7.1439e-04 - val_loss: 5.6629e-04\n",
      "Epoch 19/20\n",
      "25/25 [==============================] - 0s 11ms/step - loss: 6.2991e-04 - val_loss: 6.6160e-04\n",
      "Epoch 20/20\n",
      "25/25 [==============================] - 0s 13ms/step - loss: 6.1635e-04 - val_loss: 0.0013\n"
     ]
    },
    {
     "data": {
      "text/plain": [
       "<keras.callbacks.History at 0x7fde51511450>"
      ]
     },
     "execution_count": 22,
     "metadata": {},
     "output_type": "execute_result"
    }
   ],
   "source": [
    "model.fit(x_train, y_train, epochs = 20, validation_data=(x_test, y_test))"
   ]
  },
  {
   "cell_type": "code",
   "execution_count": null,
   "id": "eqFJwsZedl_g",
   "metadata": {
    "id": "eqFJwsZedl_g"
   },
   "outputs": [],
   "source": []
  },
  {
   "cell_type": "code",
   "execution_count": 23,
   "id": "J4y9EKTbdvET",
   "metadata": {
    "id": "J4y9EKTbdvET"
   },
   "outputs": [],
   "source": [
    "x_train_pred = model.predict(x_train)\n",
    "x_test_pred = model.predict(x_test)"
   ]
  },
  {
   "cell_type": "code",
   "execution_count": 27,
   "id": "ZEAw8QOad1Rg",
   "metadata": {
    "colab": {
     "base_uri": "https://localhost:8080/",
     "height": 338
    },
    "id": "ZEAw8QOad1Rg",
    "outputId": "03d6cdcc-60f6-4e8c-93b6-24841f437e37"
   },
   "outputs": [
    {
     "data": {
      "text/plain": [
       "[<matplotlib.lines.Line2D at 0x7fde50b46090>]"
      ]
     },
     "execution_count": 27,
     "metadata": {},
     "output_type": "execute_result"
    },
    {
     "data": {
      "image/png": "[encoded data removed]",
      "text/plain": [
       "<Figure size 1080x360 with 1 Axes>"
      ]
     },
     "metadata": {
      "needs_background": "light"
     },
     "output_type": "display_data"
    }
   ],
   "source": [
    "plt.figure(figsize = (15,5))\n",
    "\n",
    "plt.plot(price[-200:, 0], color = 'y')\n",
    "plt.plot(x_test_pred[-200:], color = 'r')"
   ]
  },
  {
   "cell_type": "code",
   "execution_count": null,
   "id": "IYI-bjYzeHmf",
   "metadata": {
    "id": "IYI-bjYzeHmf"
   },
   "outputs": [],
   "source": []
  }
 ],
 "metadata": {
  "accelerator": "GPU",
  "colab": {
   "name": "kospi_prediction.ipynb",
   "provenance": []
  },
  "kernelspec": {
   "display_name": "Python 3 (ipykernel)",
   "language": "python",
   "name": "python3"
  },
  "language_info": {
   "codemirror_mode": {
    "name": "ipython",
    "version": 3
   },
   "file_extension": ".py",
   "mimetype": "text/x-python",
   "name": "python",
   "nbconvert_exporter": "python",
   "pygments_lexer": "ipython3",
   "version": "3.9.7"
  }
 },
 "nbformat": 4,
 "nbformat_minor": 5
}
