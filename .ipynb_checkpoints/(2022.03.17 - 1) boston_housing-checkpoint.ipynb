{
 "cells": [
  {
   "cell_type": "code",
   "execution_count": 1,
   "id": "5ad7a057",
   "metadata": {},
   "outputs": [],
   "source": [
    "import pandas as pd\n",
    "import numpy as np\n",
    "import matplotlib.pyplot as plt\n",
    "import seaborn as sns"
   ]
  },
  {
   "cell_type": "code",
   "execution_count": 2,
   "id": "822972f1",
   "metadata": {},
   "outputs": [],
   "source": [
    "from tensorflow.keras.models import Sequential\n",
    "from tensorflow.keras.layers import Dense\n",
    "from sklearn.model_selection import train_test_split"
   ]
  },
  {
   "cell_type": "code",
   "execution_count": 6,
   "id": "56977609",
   "metadata": {},
   "outputs": [
    {
     "data": {
      "text/html": [
       "<div>\n",
       "<style scoped>\n",
       "    .dataframe tbody tr th:only-of-type {\n",
       "        vertical-align: middle;\n",
       "    }\n",
       "\n",
       "    .dataframe tbody tr th {\n",
       "        vertical-align: top;\n",
       "    }\n",
       "\n",
       "    .dataframe thead th {\n",
       "        text-align: right;\n",
       "    }\n",
       "</style>\n",
       "<table border=\"1\" class=\"dataframe\">\n",
       "  <thead>\n",
       "    <tr style=\"text-align: right;\">\n",
       "      <th></th>\n",
       "      <th>0</th>\n",
       "      <th>1</th>\n",
       "      <th>2</th>\n",
       "      <th>3</th>\n",
       "      <th>4</th>\n",
       "      <th>5</th>\n",
       "      <th>6</th>\n",
       "      <th>7</th>\n",
       "      <th>8</th>\n",
       "      <th>9</th>\n",
       "      <th>10</th>\n",
       "      <th>11</th>\n",
       "      <th>12</th>\n",
       "      <th>13</th>\n",
       "    </tr>\n",
       "  </thead>\n",
       "  <tbody>\n",
       "    <tr>\n",
       "      <th>0</th>\n",
       "      <td>0.00632</td>\n",
       "      <td>18.0</td>\n",
       "      <td>2.31</td>\n",
       "      <td>0</td>\n",
       "      <td>0.538</td>\n",
       "      <td>6.575</td>\n",
       "      <td>65.2</td>\n",
       "      <td>4.0900</td>\n",
       "      <td>1</td>\n",
       "      <td>296.0</td>\n",
       "      <td>15.3</td>\n",
       "      <td>396.90</td>\n",
       "      <td>4.98</td>\n",
       "      <td>24.0</td>\n",
       "    </tr>\n",
       "    <tr>\n",
       "      <th>1</th>\n",
       "      <td>0.02731</td>\n",
       "      <td>0.0</td>\n",
       "      <td>7.07</td>\n",
       "      <td>0</td>\n",
       "      <td>0.469</td>\n",
       "      <td>6.421</td>\n",
       "      <td>78.9</td>\n",
       "      <td>4.9671</td>\n",
       "      <td>2</td>\n",
       "      <td>242.0</td>\n",
       "      <td>17.8</td>\n",
       "      <td>396.90</td>\n",
       "      <td>9.14</td>\n",
       "      <td>21.6</td>\n",
       "    </tr>\n",
       "    <tr>\n",
       "      <th>2</th>\n",
       "      <td>0.02729</td>\n",
       "      <td>0.0</td>\n",
       "      <td>7.07</td>\n",
       "      <td>0</td>\n",
       "      <td>0.469</td>\n",
       "      <td>7.185</td>\n",
       "      <td>61.1</td>\n",
       "      <td>4.9671</td>\n",
       "      <td>2</td>\n",
       "      <td>242.0</td>\n",
       "      <td>17.8</td>\n",
       "      <td>392.83</td>\n",
       "      <td>4.03</td>\n",
       "      <td>34.7</td>\n",
       "    </tr>\n",
       "    <tr>\n",
       "      <th>3</th>\n",
       "      <td>0.03237</td>\n",
       "      <td>0.0</td>\n",
       "      <td>2.18</td>\n",
       "      <td>0</td>\n",
       "      <td>0.458</td>\n",
       "      <td>6.998</td>\n",
       "      <td>45.8</td>\n",
       "      <td>6.0622</td>\n",
       "      <td>3</td>\n",
       "      <td>222.0</td>\n",
       "      <td>18.7</td>\n",
       "      <td>394.63</td>\n",
       "      <td>2.94</td>\n",
       "      <td>33.4</td>\n",
       "    </tr>\n",
       "    <tr>\n",
       "      <th>4</th>\n",
       "      <td>0.06905</td>\n",
       "      <td>0.0</td>\n",
       "      <td>2.18</td>\n",
       "      <td>0</td>\n",
       "      <td>0.458</td>\n",
       "      <td>7.147</td>\n",
       "      <td>54.2</td>\n",
       "      <td>6.0622</td>\n",
       "      <td>3</td>\n",
       "      <td>222.0</td>\n",
       "      <td>18.7</td>\n",
       "      <td>396.90</td>\n",
       "      <td>5.33</td>\n",
       "      <td>36.2</td>\n",
       "    </tr>\n",
       "  </tbody>\n",
       "</table>\n",
       "</div>"
      ],
      "text/plain": [
       "        0     1     2   3      4      5     6       7   8      9     10  \\\n",
       "0  0.00632  18.0  2.31   0  0.538  6.575  65.2  4.0900   1  296.0  15.3   \n",
       "1  0.02731   0.0  7.07   0  0.469  6.421  78.9  4.9671   2  242.0  17.8   \n",
       "2  0.02729   0.0  7.07   0  0.469  7.185  61.1  4.9671   2  242.0  17.8   \n",
       "3  0.03237   0.0  2.18   0  0.458  6.998  45.8  6.0622   3  222.0  18.7   \n",
       "4  0.06905   0.0  2.18   0  0.458  7.147  54.2  6.0622   3  222.0  18.7   \n",
       "\n",
       "       11    12    13  \n",
       "0  396.90  4.98  24.0  \n",
       "1  396.90  9.14  21.6  \n",
       "2  392.83  4.03  34.7  \n",
       "3  394.63  2.94  33.4  \n",
       "4  396.90  5.33  36.2  "
      ]
     },
     "execution_count": 6,
     "metadata": {},
     "output_type": "execute_result"
    }
   ],
   "source": [
    "df = pd.read_csv('./Data/housing.csv', header = None, delim_whitespace=True)\n",
    "df.head()"
   ]
  },
  {
   "cell_type": "code",
   "execution_count": 7,
   "id": "ce8f44e8",
   "metadata": {},
   "outputs": [
    {
     "name": "stdout",
     "output_type": "stream",
     "text": [
      "<class 'pandas.core.frame.DataFrame'>\n",
      "RangeIndex: 506 entries, 0 to 505\n",
      "Data columns (total 14 columns):\n",
      " #   Column  Non-Null Count  Dtype  \n",
      "---  ------  --------------  -----  \n",
      " 0   0       506 non-null    float64\n",
      " 1   1       506 non-null    float64\n",
      " 2   2       506 non-null    float64\n",
      " 3   3       506 non-null    int64  \n",
      " 4   4       506 non-null    float64\n",
      " 5   5       506 non-null    float64\n",
      " 6   6       506 non-null    float64\n",
      " 7   7       506 non-null    float64\n",
      " 8   8       506 non-null    int64  \n",
      " 9   9       506 non-null    float64\n",
      " 10  10      506 non-null    float64\n",
      " 11  11      506 non-null    float64\n",
      " 12  12      506 non-null    float64\n",
      " 13  13      506 non-null    float64\n",
      "dtypes: float64(12), int64(2)\n",
      "memory usage: 55.5 KB\n"
     ]
    }
   ],
   "source": [
    "df.info()"
   ]
  },
  {
   "cell_type": "code",
   "execution_count": null,
   "id": "0e48bdb4",
   "metadata": {},
   "outputs": [],
   "source": []
  },
  {
   "cell_type": "code",
   "execution_count": 10,
   "id": "629b19b9",
   "metadata": {},
   "outputs": [],
   "source": [
    "y = df.values[:, 13]\n",
    "x = df.values[:, :13]"
   ]
  },
  {
   "cell_type": "code",
   "execution_count": 11,
   "id": "22e9ecb6",
   "metadata": {
    "collapsed": true
   },
   "outputs": [
    {
     "data": {
      "text/plain": [
       "array([24. , 21.6, 34.7, 33.4, 36.2, 28.7, 22.9, 27.1, 16.5, 18.9, 15. ,\n",
       "       18.9, 21.7, 20.4, 18.2, 19.9, 23.1, 17.5, 20.2, 18.2, 13.6, 19.6,\n",
       "       15.2, 14.5, 15.6, 13.9, 16.6, 14.8, 18.4, 21. , 12.7, 14.5, 13.2,\n",
       "       13.1, 13.5, 18.9, 20. , 21. , 24.7, 30.8, 34.9, 26.6, 25.3, 24.7,\n",
       "       21.2, 19.3, 20. , 16.6, 14.4, 19.4, 19.7, 20.5, 25. , 23.4, 18.9,\n",
       "       35.4, 24.7, 31.6, 23.3, 19.6, 18.7, 16. , 22.2, 25. , 33. , 23.5,\n",
       "       19.4, 22. , 17.4, 20.9, 24.2, 21.7, 22.8, 23.4, 24.1, 21.4, 20. ,\n",
       "       20.8, 21.2, 20.3, 28. , 23.9, 24.8, 22.9, 23.9, 26.6, 22.5, 22.2,\n",
       "       23.6, 28.7, 22.6, 22. , 22.9, 25. , 20.6, 28.4, 21.4, 38.7, 43.8,\n",
       "       33.2, 27.5, 26.5, 18.6, 19.3, 20.1, 19.5, 19.5, 20.4, 19.8, 19.4,\n",
       "       21.7, 22.8, 18.8, 18.7, 18.5, 18.3, 21.2, 19.2, 20.4, 19.3, 22. ,\n",
       "       20.3, 20.5, 17.3, 18.8, 21.4, 15.7, 16.2, 18. , 14.3, 19.2, 19.6,\n",
       "       23. , 18.4, 15.6, 18.1, 17.4, 17.1, 13.3, 17.8, 14. , 14.4, 13.4,\n",
       "       15.6, 11.8, 13.8, 15.6, 14.6, 17.8, 15.4, 21.5, 19.6, 15.3, 19.4,\n",
       "       17. , 15.6, 13.1, 41.3, 24.3, 23.3, 27. , 50. , 50. , 50. , 22.7,\n",
       "       25. , 50. , 23.8, 23.8, 22.3, 17.4, 19.1, 23.1, 23.6, 22.6, 29.4,\n",
       "       23.2, 24.6, 29.9, 37.2, 39.8, 36.2, 37.9, 32.5, 26.4, 29.6, 50. ,\n",
       "       32. , 29.8, 34.9, 37. , 30.5, 36.4, 31.1, 29.1, 50. , 33.3, 30.3,\n",
       "       34.6, 34.9, 32.9, 24.1, 42.3, 48.5, 50. , 22.6, 24.4, 22.5, 24.4,\n",
       "       20. , 21.7, 19.3, 22.4, 28.1, 23.7, 25. , 23.3, 28.7, 21.5, 23. ,\n",
       "       26.7, 21.7, 27.5, 30.1, 44.8, 50. , 37.6, 31.6, 46.7, 31.5, 24.3,\n",
       "       31.7, 41.7, 48.3, 29. , 24. , 25.1, 31.5, 23.7, 23.3, 22. , 20.1,\n",
       "       22.2, 23.7, 17.6, 18.5, 24.3, 20.5, 24.5, 26.2, 24.4, 24.8, 29.6,\n",
       "       42.8, 21.9, 20.9, 44. , 50. , 36. , 30.1, 33.8, 43.1, 48.8, 31. ,\n",
       "       36.5, 22.8, 30.7, 50. , 43.5, 20.7, 21.1, 25.2, 24.4, 35.2, 32.4,\n",
       "       32. , 33.2, 33.1, 29.1, 35.1, 45.4, 35.4, 46. , 50. , 32.2, 22. ,\n",
       "       20.1, 23.2, 22.3, 24.8, 28.5, 37.3, 27.9, 23.9, 21.7, 28.6, 27.1,\n",
       "       20.3, 22.5, 29. , 24.8, 22. , 26.4, 33.1, 36.1, 28.4, 33.4, 28.2,\n",
       "       22.8, 20.3, 16.1, 22.1, 19.4, 21.6, 23.8, 16.2, 17.8, 19.8, 23.1,\n",
       "       21. , 23.8, 23.1, 20.4, 18.5, 25. , 24.6, 23. , 22.2, 19.3, 22.6,\n",
       "       19.8, 17.1, 19.4, 22.2, 20.7, 21.1, 19.5, 18.5, 20.6, 19. , 18.7,\n",
       "       32.7, 16.5, 23.9, 31.2, 17.5, 17.2, 23.1, 24.5, 26.6, 22.9, 24.1,\n",
       "       18.6, 30.1, 18.2, 20.6, 17.8, 21.7, 22.7, 22.6, 25. , 19.9, 20.8,\n",
       "       16.8, 21.9, 27.5, 21.9, 23.1, 50. , 50. , 50. , 50. , 50. , 13.8,\n",
       "       13.8, 15. , 13.9, 13.3, 13.1, 10.2, 10.4, 10.9, 11.3, 12.3,  8.8,\n",
       "        7.2, 10.5,  7.4, 10.2, 11.5, 15.1, 23.2,  9.7, 13.8, 12.7, 13.1,\n",
       "       12.5,  8.5,  5. ,  6.3,  5.6,  7.2, 12.1,  8.3,  8.5,  5. , 11.9,\n",
       "       27.9, 17.2, 27.5, 15. , 17.2, 17.9, 16.3,  7. ,  7.2,  7.5, 10.4,\n",
       "        8.8,  8.4, 16.7, 14.2, 20.8, 13.4, 11.7,  8.3, 10.2, 10.9, 11. ,\n",
       "        9.5, 14.5, 14.1, 16.1, 14.3, 11.7, 13.4,  9.6,  8.7,  8.4, 12.8,\n",
       "       10.5, 17.1, 18.4, 15.4, 10.8, 11.8, 14.9, 12.6, 14.1, 13. , 13.4,\n",
       "       15.2, 16.1, 17.8, 14.9, 14.1, 12.7, 13.5, 14.9, 20. , 16.4, 17.7,\n",
       "       19.5, 20.2, 21.4, 19.9, 19. , 19.1, 19.1, 20.1, 19.9, 19.6, 23.2,\n",
       "       29.8, 13.8, 13.3, 16.7, 12. , 14.6, 21.4, 23. , 23.7, 25. , 21.8,\n",
       "       20.6, 21.2, 19.1, 20.6, 15.2,  7. ,  8.1, 13.6, 20.1, 21.8, 24.5,\n",
       "       23.1, 19.7, 18.3, 21.2, 17.5, 16.8, 22.4, 20.6, 23.9, 22. , 11.9])"
      ]
     },
     "execution_count": 11,
     "metadata": {},
     "output_type": "execute_result"
    }
   ],
   "source": [
    "y     # continous data => regresion"
   ]
  },
  {
   "cell_type": "code",
   "execution_count": null,
   "id": "a7b33674",
   "metadata": {},
   "outputs": [],
   "source": []
  },
  {
   "cell_type": "code",
   "execution_count": 12,
   "id": "e7c1bab0",
   "metadata": {},
   "outputs": [],
   "source": [
    "x_train, x_test, y_train, y_test = train_test_split(x, y, random_state=111)"
   ]
  },
  {
   "cell_type": "code",
   "execution_count": null,
   "id": "ed1e2fe5",
   "metadata": {},
   "outputs": [],
   "source": []
  },
  {
   "cell_type": "code",
   "execution_count": 13,
   "id": "553b50c3",
   "metadata": {},
   "outputs": [],
   "source": [
    "model = Sequential()\n",
    "model.add(Dense(30, input_dim = 13, activation = 'relu'))\n",
    "model.add(Dense(20, activation = 'relu'))\n",
    "model.add(Dense(10, activation = 'relu'))\n",
    "model.add(Dense(1))                         # regression에서는 output layer에 activation function을 사용하지 않는다\n",
    "\n",
    "# binary cls activation : sigmoid()\n",
    "# multi cls activation : softmax()"
   ]
  },
  {
   "cell_type": "code",
   "execution_count": null,
   "id": "ccdb434f",
   "metadata": {},
   "outputs": [],
   "source": []
  },
  {
   "cell_type": "code",
   "execution_count": 14,
   "id": "91747225",
   "metadata": {},
   "outputs": [],
   "source": [
    "model.compile(loss = 'mean_squared_error', optimizer = 'adam')     # regression 에서는 loss 로 'mean_squared_error' 를 쓴다"
   ]
  },
  {
   "cell_type": "code",
   "execution_count": null,
   "id": "155f104e",
   "metadata": {},
   "outputs": [],
   "source": []
  },
  {
   "cell_type": "code",
   "execution_count": 20,
   "id": "5ed30912",
   "metadata": {},
   "outputs": [
    {
     "name": "stdout",
     "output_type": "stream",
     "text": [
      "Epoch 1/100\n",
      "16/16 [==============================] - 0s 8ms/step - loss: 15.9372 - val_loss: 19.7782\n",
      "Epoch 2/100\n",
      "16/16 [==============================] - 0s 2ms/step - loss: 16.6927 - val_loss: 20.5029\n",
      "Epoch 3/100\n",
      "16/16 [==============================] - 0s 2ms/step - loss: 16.7037 - val_loss: 22.5524\n",
      "Epoch 4/100\n",
      "16/16 [==============================] - 0s 2ms/step - loss: 15.9401 - val_loss: 23.1539\n",
      "Epoch 5/100\n",
      "16/16 [==============================] - 0s 2ms/step - loss: 16.5877 - val_loss: 17.0363\n",
      "Epoch 6/100\n",
      "16/16 [==============================] - 0s 2ms/step - loss: 16.8489 - val_loss: 17.0094\n",
      "Epoch 7/100\n",
      "16/16 [==============================] - 0s 2ms/step - loss: 19.3730 - val_loss: 22.6778\n",
      "Epoch 8/100\n",
      "16/16 [==============================] - 0s 2ms/step - loss: 17.9420 - val_loss: 26.3946\n",
      "Epoch 9/100\n",
      "16/16 [==============================] - 0s 2ms/step - loss: 15.9071 - val_loss: 16.8643\n",
      "Epoch 10/100\n",
      "16/16 [==============================] - 0s 2ms/step - loss: 16.1111 - val_loss: 17.6197\n",
      "Epoch 11/100\n",
      "16/16 [==============================] - 0s 2ms/step - loss: 16.1764 - val_loss: 18.2271\n",
      "Epoch 12/100\n",
      "16/16 [==============================] - 0s 2ms/step - loss: 20.7827 - val_loss: 16.8990\n",
      "Epoch 13/100\n",
      "16/16 [==============================] - 0s 2ms/step - loss: 15.8833 - val_loss: 18.5042\n",
      "Epoch 14/100\n",
      "16/16 [==============================] - 0s 2ms/step - loss: 15.6495 - val_loss: 17.6870\n",
      "Epoch 15/100\n",
      "16/16 [==============================] - 0s 2ms/step - loss: 16.1867 - val_loss: 18.0694\n",
      "Epoch 16/100\n",
      "16/16 [==============================] - 0s 2ms/step - loss: 16.6508 - val_loss: 19.6130\n",
      "Epoch 17/100\n",
      "16/16 [==============================] - 0s 2ms/step - loss: 14.8903 - val_loss: 17.6672\n",
      "Epoch 18/100\n",
      "16/16 [==============================] - 0s 2ms/step - loss: 16.1902 - val_loss: 27.1661\n",
      "Epoch 19/100\n",
      "16/16 [==============================] - 0s 2ms/step - loss: 16.6177 - val_loss: 17.9520\n",
      "Epoch 20/100\n",
      "16/16 [==============================] - 0s 2ms/step - loss: 15.0431 - val_loss: 20.1170\n",
      "Epoch 21/100\n",
      "16/16 [==============================] - 0s 2ms/step - loss: 14.8884 - val_loss: 20.6065\n",
      "Epoch 22/100\n",
      "16/16 [==============================] - 0s 2ms/step - loss: 15.0260 - val_loss: 26.8087\n",
      "Epoch 23/100\n",
      "16/16 [==============================] - 0s 2ms/step - loss: 16.4815 - val_loss: 18.9792\n",
      "Epoch 24/100\n",
      "16/16 [==============================] - 0s 2ms/step - loss: 14.6612 - val_loss: 20.6549\n",
      "Epoch 25/100\n",
      "16/16 [==============================] - 0s 2ms/step - loss: 15.2055 - val_loss: 26.3714\n",
      "Epoch 26/100\n",
      "16/16 [==============================] - 0s 2ms/step - loss: 17.9656 - val_loss: 20.0521\n",
      "Epoch 27/100\n",
      "16/16 [==============================] - 0s 2ms/step - loss: 17.0900 - val_loss: 21.5750\n",
      "Epoch 28/100\n",
      "16/16 [==============================] - 0s 2ms/step - loss: 14.2991 - val_loss: 27.3484\n",
      "Epoch 29/100\n",
      "16/16 [==============================] - 0s 2ms/step - loss: 17.6686 - val_loss: 24.8195\n",
      "Epoch 30/100\n",
      "16/16 [==============================] - 0s 2ms/step - loss: 21.1330 - val_loss: 19.7461\n",
      "Epoch 31/100\n",
      "16/16 [==============================] - 0s 2ms/step - loss: 17.0722 - val_loss: 19.2611\n",
      "Epoch 32/100\n",
      "16/16 [==============================] - 0s 2ms/step - loss: 15.6123 - val_loss: 18.3072\n",
      "Epoch 33/100\n",
      "16/16 [==============================] - 0s 2ms/step - loss: 16.0849 - val_loss: 20.9499\n",
      "Epoch 34/100\n",
      "16/16 [==============================] - 0s 2ms/step - loss: 15.9121 - val_loss: 17.3979\n",
      "Epoch 35/100\n",
      "16/16 [==============================] - 0s 2ms/step - loss: 19.3698 - val_loss: 18.8186\n",
      "Epoch 36/100\n",
      "16/16 [==============================] - 0s 2ms/step - loss: 18.0419 - val_loss: 18.5279\n",
      "Epoch 37/100\n",
      "16/16 [==============================] - 0s 2ms/step - loss: 18.1714 - val_loss: 23.9502\n",
      "Epoch 38/100\n",
      "16/16 [==============================] - 0s 2ms/step - loss: 15.6315 - val_loss: 18.8759\n",
      "Epoch 39/100\n",
      "16/16 [==============================] - 0s 2ms/step - loss: 16.8662 - val_loss: 20.0727\n",
      "Epoch 40/100\n",
      "16/16 [==============================] - 0s 2ms/step - loss: 15.0225 - val_loss: 21.4786\n",
      "Epoch 41/100\n",
      "16/16 [==============================] - 0s 2ms/step - loss: 14.5867 - val_loss: 18.9274\n",
      "Epoch 42/100\n",
      "16/16 [==============================] - 0s 2ms/step - loss: 14.8185 - val_loss: 23.3917\n",
      "Epoch 43/100\n",
      "16/16 [==============================] - 0s 2ms/step - loss: 20.5082 - val_loss: 35.8145\n",
      "Epoch 44/100\n",
      "16/16 [==============================] - 0s 2ms/step - loss: 26.8938 - val_loss: 23.5582\n",
      "Epoch 45/100\n",
      "16/16 [==============================] - 0s 2ms/step - loss: 15.5169 - val_loss: 20.2944\n",
      "Epoch 46/100\n",
      "16/16 [==============================] - 0s 2ms/step - loss: 17.0013 - val_loss: 18.8336\n",
      "Epoch 47/100\n",
      "16/16 [==============================] - 0s 2ms/step - loss: 16.7114 - val_loss: 20.9784\n",
      "Epoch 48/100\n",
      "16/16 [==============================] - 0s 2ms/step - loss: 16.7559 - val_loss: 20.3916\n",
      "Epoch 49/100\n",
      "16/16 [==============================] - 0s 2ms/step - loss: 17.0165 - val_loss: 28.1572\n",
      "Epoch 50/100\n",
      "16/16 [==============================] - 0s 2ms/step - loss: 15.4607 - val_loss: 18.7867\n",
      "Epoch 51/100\n",
      "16/16 [==============================] - 0s 2ms/step - loss: 13.7640 - val_loss: 25.2004\n",
      "Epoch 52/100\n",
      "16/16 [==============================] - 0s 2ms/step - loss: 19.4381 - val_loss: 29.5382\n",
      "Epoch 53/100\n",
      "16/16 [==============================] - 0s 2ms/step - loss: 15.7391 - val_loss: 24.1277\n",
      "Epoch 54/100\n",
      "16/16 [==============================] - 0s 2ms/step - loss: 26.6397 - val_loss: 17.5011\n",
      "Epoch 55/100\n",
      "16/16 [==============================] - 0s 2ms/step - loss: 15.6893 - val_loss: 21.6468\n",
      "Epoch 56/100\n",
      "16/16 [==============================] - 0s 2ms/step - loss: 17.5123 - val_loss: 24.5839\n",
      "Epoch 57/100\n",
      "16/16 [==============================] - 0s 2ms/step - loss: 15.0203 - val_loss: 21.6172\n",
      "Epoch 58/100\n",
      "16/16 [==============================] - 0s 2ms/step - loss: 15.7330 - val_loss: 24.1607\n",
      "Epoch 59/100\n",
      "16/16 [==============================] - 0s 2ms/step - loss: 15.1626 - val_loss: 18.7809\n",
      "Epoch 60/100\n",
      "16/16 [==============================] - 0s 2ms/step - loss: 14.0023 - val_loss: 18.1462\n",
      "Epoch 61/100\n",
      "16/16 [==============================] - 0s 2ms/step - loss: 13.9598 - val_loss: 17.5521\n",
      "Epoch 62/100\n",
      "16/16 [==============================] - 0s 2ms/step - loss: 15.4847 - val_loss: 22.2693\n",
      "Epoch 63/100\n",
      "16/16 [==============================] - 0s 2ms/step - loss: 15.7500 - val_loss: 26.8917\n",
      "Epoch 64/100\n",
      "16/16 [==============================] - 0s 2ms/step - loss: 15.6558 - val_loss: 17.4913\n",
      "Epoch 65/100\n",
      "16/16 [==============================] - 0s 2ms/step - loss: 13.6540 - val_loss: 19.3692\n",
      "Epoch 66/100\n",
      "16/16 [==============================] - 0s 2ms/step - loss: 17.1053 - val_loss: 21.9273\n",
      "Epoch 67/100\n",
      "16/16 [==============================] - 0s 2ms/step - loss: 17.3891 - val_loss: 23.1663\n",
      "Epoch 68/100\n",
      "16/16 [==============================] - 0s 2ms/step - loss: 14.3959 - val_loss: 17.5284\n",
      "Epoch 69/100\n",
      "16/16 [==============================] - 0s 2ms/step - loss: 14.4835 - val_loss: 20.8081\n",
      "Epoch 70/100\n",
      "16/16 [==============================] - 0s 2ms/step - loss: 14.5067 - val_loss: 21.0672\n",
      "Epoch 71/100\n",
      "16/16 [==============================] - 0s 2ms/step - loss: 14.2930 - val_loss: 18.3284\n",
      "Epoch 72/100\n",
      "16/16 [==============================] - 0s 2ms/step - loss: 14.2230 - val_loss: 18.3613\n",
      "Epoch 73/100\n",
      "16/16 [==============================] - 0s 2ms/step - loss: 13.8671 - val_loss: 24.8247\n",
      "Epoch 74/100\n",
      "16/16 [==============================] - 0s 2ms/step - loss: 16.9467 - val_loss: 21.2979\n",
      "Epoch 75/100\n",
      "16/16 [==============================] - 0s 2ms/step - loss: 18.8396 - val_loss: 22.8241\n",
      "Epoch 76/100\n",
      "16/16 [==============================] - 0s 2ms/step - loss: 16.8013 - val_loss: 18.7236\n",
      "Epoch 77/100\n",
      "16/16 [==============================] - 0s 2ms/step - loss: 14.6957 - val_loss: 17.0559\n",
      "Epoch 78/100\n",
      "16/16 [==============================] - 0s 2ms/step - loss: 14.7698 - val_loss: 20.5437\n",
      "Epoch 79/100\n",
      "16/16 [==============================] - 0s 2ms/step - loss: 14.8870 - val_loss: 20.3636\n",
      "Epoch 80/100\n",
      "16/16 [==============================] - 0s 2ms/step - loss: 14.2750 - val_loss: 18.9252\n",
      "Epoch 81/100\n"
     ]
    },
    {
     "name": "stdout",
     "output_type": "stream",
     "text": [
      "16/16 [==============================] - 0s 2ms/step - loss: 14.1770 - val_loss: 21.9775\n",
      "Epoch 82/100\n",
      "16/16 [==============================] - 0s 2ms/step - loss: 15.6263 - val_loss: 19.9020\n",
      "Epoch 83/100\n",
      "16/16 [==============================] - 0s 2ms/step - loss: 14.0874 - val_loss: 17.1469\n",
      "Epoch 84/100\n",
      "16/16 [==============================] - 0s 2ms/step - loss: 14.2784 - val_loss: 18.3125\n",
      "Epoch 85/100\n",
      "16/16 [==============================] - 0s 2ms/step - loss: 14.2281 - val_loss: 18.0618\n",
      "Epoch 86/100\n",
      "16/16 [==============================] - 0s 2ms/step - loss: 13.9025 - val_loss: 19.0957\n",
      "Epoch 87/100\n",
      "16/16 [==============================] - 0s 2ms/step - loss: 12.5913 - val_loss: 26.9856\n",
      "Epoch 88/100\n",
      "16/16 [==============================] - 0s 2ms/step - loss: 14.5772 - val_loss: 18.9314\n",
      "Epoch 89/100\n",
      "16/16 [==============================] - 0s 2ms/step - loss: 13.5242 - val_loss: 18.1782\n",
      "Epoch 90/100\n",
      "16/16 [==============================] - 0s 2ms/step - loss: 13.4173 - val_loss: 26.3959\n",
      "Epoch 91/100\n",
      "16/16 [==============================] - 0s 2ms/step - loss: 26.8902 - val_loss: 44.1898\n",
      "Epoch 92/100\n",
      "16/16 [==============================] - 0s 2ms/step - loss: 20.3106 - val_loss: 20.9951\n",
      "Epoch 93/100\n",
      "16/16 [==============================] - 0s 2ms/step - loss: 14.2416 - val_loss: 18.1031\n",
      "Epoch 94/100\n",
      "16/16 [==============================] - 0s 2ms/step - loss: 14.3428 - val_loss: 17.5257\n",
      "Epoch 95/100\n",
      "16/16 [==============================] - 0s 2ms/step - loss: 14.2643 - val_loss: 25.9038\n",
      "Epoch 96/100\n",
      "16/16 [==============================] - 0s 2ms/step - loss: 15.5342 - val_loss: 24.1732\n",
      "Epoch 97/100\n",
      "16/16 [==============================] - 0s 2ms/step - loss: 15.0254 - val_loss: 18.9536\n",
      "Epoch 98/100\n",
      "16/16 [==============================] - 0s 2ms/step - loss: 13.9588 - val_loss: 19.4418\n",
      "Epoch 99/100\n",
      "16/16 [==============================] - 0s 2ms/step - loss: 13.6662 - val_loss: 17.6113\n",
      "Epoch 100/100\n",
      "16/16 [==============================] - 0s 2ms/step - loss: 13.7135 - val_loss: 20.1609\n"
     ]
    }
   ],
   "source": [
    "hist = model.fit(x_train, y_train, validation_split=0.2, epochs = 100, batch_size = 20)"
   ]
  },
  {
   "cell_type": "code",
   "execution_count": null,
   "id": "184a3393",
   "metadata": {},
   "outputs": [],
   "source": []
  },
  {
   "cell_type": "code",
   "execution_count": 22,
   "id": "8283e0a5",
   "metadata": {},
   "outputs": [
    {
     "data": {
      "text/plain": [
       "[<matplotlib.lines.Line2D at 0x2379d8c2640>]"
      ]
     },
     "execution_count": 22,
     "metadata": {},
     "output_type": "execute_result"
    },
    {
     "data": {
      "image/png": "[encoded data removed]",
      "text/plain": [
       "<Figure size 432x288 with 1 Axes>"
      ]
     },
     "metadata": {
      "needs_background": "light"
     },
     "output_type": "display_data"
    }
   ],
   "source": [
    "plt.plot(hist.history['loss'])\n",
    "plt.plot(hist.history['val_loss'])"
   ]
  },
  {
   "cell_type": "code",
   "execution_count": 23,
   "id": "eeb69106",
   "metadata": {},
   "outputs": [
    {
     "name": "stdout",
     "output_type": "stream",
     "text": [
      "4/4 [==============================] - 0s 665us/step - loss: 25.0895\n"
     ]
    },
    {
     "data": {
      "text/plain": [
       "25.08954429626465"
      ]
     },
     "execution_count": 23,
     "metadata": {},
     "output_type": "execute_result"
    }
   ],
   "source": [
    "model.evaluate(x_test, y_test)"
   ]
  },
  {
   "cell_type": "code",
   "execution_count": null,
   "id": "dc9691f7",
   "metadata": {},
   "outputs": [],
   "source": []
  },
  {
   "cell_type": "code",
   "execution_count": null,
   "id": "77b508a6",
   "metadata": {},
   "outputs": [],
   "source": [
    "# 스케일링"
   ]
  },
  {
   "cell_type": "code",
   "execution_count": 24,
   "id": "293aea1f",
   "metadata": {},
   "outputs": [],
   "source": [
    "from sklearn.preprocessing import MinMaxScaler\n",
    "scaler = MinMaxScaler()\n",
    "scaler.fit(x_train)\n",
    "x_train_sc = scaler.transform(x_train)\n",
    "x_test_sc = scaler.transform(x_test)"
   ]
  },
  {
   "cell_type": "code",
   "execution_count": 25,
   "id": "6a36699d",
   "metadata": {},
   "outputs": [],
   "source": [
    "model = Sequential()\n",
    "model.add(Dense(30, input_dim = 13, activation = 'relu'))\n",
    "model.add(Dense(20, activation = 'relu'))\n",
    "model.add(Dense(10, activation = 'relu'))\n",
    "model.add(Dense(1))             "
   ]
  },
  {
   "cell_type": "code",
   "execution_count": 26,
   "id": "c7bd1796",
   "metadata": {},
   "outputs": [],
   "source": [
    "model.compile(loss = 'mean_squared_error', optimizer = 'adam')"
   ]
  },
  {
   "cell_type": "code",
   "execution_count": 27,
   "id": "96dc50c3",
   "metadata": {},
   "outputs": [
    {
     "name": "stdout",
     "output_type": "stream",
     "text": [
      "Epoch 1/100\n",
      "16/16 [==============================] - 0s 6ms/step - loss: 549.2068 - val_loss: 583.3849\n",
      "Epoch 2/100\n",
      "16/16 [==============================] - 0s 2ms/step - loss: 522.2651 - val_loss: 550.1562\n",
      "Epoch 3/100\n",
      "16/16 [==============================] - 0s 2ms/step - loss: 484.3313 - val_loss: 498.4404\n",
      "Epoch 4/100\n",
      "16/16 [==============================] - 0s 2ms/step - loss: 424.7995 - val_loss: 417.2968\n",
      "Epoch 5/100\n",
      "16/16 [==============================] - 0s 2ms/step - loss: 335.8020 - val_loss: 305.4721\n",
      "Epoch 6/100\n",
      "16/16 [==============================] - 0s 2ms/step - loss: 234.0225 - val_loss: 197.4123\n",
      "Epoch 7/100\n",
      "16/16 [==============================] - 0s 2ms/step - loss: 157.7678 - val_loss: 147.9594\n",
      "Epoch 8/100\n",
      "16/16 [==============================] - 0s 2ms/step - loss: 137.6133 - val_loss: 134.8002\n",
      "Epoch 9/100\n",
      "16/16 [==============================] - 0s 2ms/step - loss: 124.5921 - val_loss: 123.6830\n",
      "Epoch 10/100\n",
      "16/16 [==============================] - 0s 2ms/step - loss: 112.4771 - val_loss: 112.7884\n",
      "Epoch 11/100\n",
      "16/16 [==============================] - 0s 2ms/step - loss: 101.6362 - val_loss: 104.1644\n",
      "Epoch 12/100\n",
      "16/16 [==============================] - 0s 2ms/step - loss: 92.3634 - val_loss: 96.2811\n",
      "Epoch 13/100\n",
      "16/16 [==============================] - 0s 2ms/step - loss: 83.6586 - val_loss: 88.3464\n",
      "Epoch 14/100\n",
      "16/16 [==============================] - 0s 2ms/step - loss: 74.0323 - val_loss: 79.1042\n",
      "Epoch 15/100\n",
      "16/16 [==============================] - 0s 2ms/step - loss: 64.9652 - val_loss: 71.5281\n",
      "Epoch 16/100\n",
      "16/16 [==============================] - 0s 2ms/step - loss: 56.9896 - val_loss: 64.7865\n",
      "Epoch 17/100\n",
      "16/16 [==============================] - 0s 2ms/step - loss: 51.0395 - val_loss: 60.6041\n",
      "Epoch 18/100\n",
      "16/16 [==============================] - 0s 2ms/step - loss: 47.2310 - val_loss: 58.2085\n",
      "Epoch 19/100\n",
      "16/16 [==============================] - 0s 2ms/step - loss: 44.0293 - val_loss: 54.7629\n",
      "Epoch 20/100\n",
      "16/16 [==============================] - 0s 2ms/step - loss: 41.8199 - val_loss: 53.6374\n",
      "Epoch 21/100\n",
      "16/16 [==============================] - 0s 2ms/step - loss: 40.1887 - val_loss: 52.1041\n",
      "Epoch 22/100\n",
      "16/16 [==============================] - 0s 2ms/step - loss: 38.7273 - val_loss: 50.4961\n",
      "Epoch 23/100\n",
      "16/16 [==============================] - 0s 2ms/step - loss: 37.4823 - val_loss: 49.1538\n",
      "Epoch 24/100\n",
      "16/16 [==============================] - 0s 2ms/step - loss: 36.2775 - val_loss: 47.6568\n",
      "Epoch 25/100\n",
      "16/16 [==============================] - 0s 2ms/step - loss: 34.4298 - val_loss: 46.7052\n",
      "Epoch 26/100\n",
      "16/16 [==============================] - 0s 2ms/step - loss: 33.3706 - val_loss: 44.8712\n",
      "Epoch 27/100\n",
      "16/16 [==============================] - 0s 2ms/step - loss: 33.3661 - val_loss: 43.9212\n",
      "Epoch 28/100\n",
      "16/16 [==============================] - 0s 2ms/step - loss: 31.0031 - val_loss: 43.0908\n",
      "Epoch 29/100\n",
      "16/16 [==============================] - 0s 2ms/step - loss: 29.8784 - val_loss: 41.6418\n",
      "Epoch 30/100\n",
      "16/16 [==============================] - 0s 2ms/step - loss: 29.0983 - val_loss: 40.8454\n",
      "Epoch 31/100\n",
      "16/16 [==============================] - 0s 2ms/step - loss: 28.0677 - val_loss: 40.1731\n",
      "Epoch 32/100\n",
      "16/16 [==============================] - 0s 2ms/step - loss: 27.2207 - val_loss: 39.4247\n",
      "Epoch 33/100\n",
      "16/16 [==============================] - 0s 2ms/step - loss: 26.8436 - val_loss: 38.8607\n",
      "Epoch 34/100\n",
      "16/16 [==============================] - 0s 2ms/step - loss: 26.5326 - val_loss: 38.3047\n",
      "Epoch 35/100\n",
      "16/16 [==============================] - 0s 2ms/step - loss: 25.2335 - val_loss: 37.6446\n",
      "Epoch 36/100\n",
      "16/16 [==============================] - 0s 2ms/step - loss: 24.7087 - val_loss: 37.1621\n",
      "Epoch 37/100\n",
      "16/16 [==============================] - 0s 2ms/step - loss: 24.5551 - val_loss: 36.7198\n",
      "Epoch 38/100\n",
      "16/16 [==============================] - 0s 2ms/step - loss: 24.0332 - val_loss: 36.3083\n",
      "Epoch 39/100\n",
      "16/16 [==============================] - 0s 2ms/step - loss: 23.1706 - val_loss: 35.5794\n",
      "Epoch 40/100\n",
      "16/16 [==============================] - 0s 2ms/step - loss: 22.6747 - val_loss: 35.0643\n",
      "Epoch 41/100\n",
      "16/16 [==============================] - 0s 2ms/step - loss: 22.7381 - val_loss: 34.9519\n",
      "Epoch 42/100\n",
      "16/16 [==============================] - 0s 2ms/step - loss: 22.1540 - val_loss: 34.6125\n",
      "Epoch 43/100\n",
      "16/16 [==============================] - 0s 2ms/step - loss: 21.7975 - val_loss: 33.7663\n",
      "Epoch 44/100\n",
      "16/16 [==============================] - 0s 2ms/step - loss: 21.2738 - val_loss: 33.4602\n",
      "Epoch 45/100\n",
      "16/16 [==============================] - 0s 2ms/step - loss: 20.8608 - val_loss: 33.0772\n",
      "Epoch 46/100\n",
      "16/16 [==============================] - 0s 2ms/step - loss: 21.5767 - val_loss: 32.9236\n",
      "Epoch 47/100\n",
      "16/16 [==============================] - 0s 2ms/step - loss: 21.1215 - val_loss: 33.3458\n",
      "Epoch 48/100\n",
      "16/16 [==============================] - 0s 2ms/step - loss: 20.2317 - val_loss: 33.2256\n",
      "Epoch 49/100\n",
      "16/16 [==============================] - 0s 2ms/step - loss: 19.9983 - val_loss: 32.9080\n",
      "Epoch 50/100\n",
      "16/16 [==============================] - 0s 2ms/step - loss: 19.6827 - val_loss: 32.9325\n",
      "Epoch 51/100\n",
      "16/16 [==============================] - 0s 2ms/step - loss: 19.5315 - val_loss: 32.5298\n",
      "Epoch 52/100\n",
      "16/16 [==============================] - 0s 2ms/step - loss: 19.4398 - val_loss: 32.4774\n",
      "Epoch 53/100\n",
      "16/16 [==============================] - 0s 2ms/step - loss: 19.4034 - val_loss: 32.2342\n",
      "Epoch 54/100\n",
      "16/16 [==============================] - 0s 2ms/step - loss: 19.1487 - val_loss: 31.9835\n",
      "Epoch 55/100\n",
      "16/16 [==============================] - 0s 2ms/step - loss: 18.9357 - val_loss: 31.8731\n",
      "Epoch 56/100\n",
      "16/16 [==============================] - 0s 2ms/step - loss: 19.0006 - val_loss: 31.7553\n",
      "Epoch 57/100\n",
      "16/16 [==============================] - 0s 2ms/step - loss: 18.7780 - val_loss: 31.3318\n",
      "Epoch 58/100\n",
      "16/16 [==============================] - 0s 2ms/step - loss: 18.5852 - val_loss: 30.9862\n",
      "Epoch 59/100\n",
      "16/16 [==============================] - 0s 2ms/step - loss: 18.4751 - val_loss: 30.7786\n",
      "Epoch 60/100\n",
      "16/16 [==============================] - 0s 2ms/step - loss: 18.2347 - val_loss: 30.8786\n",
      "Epoch 61/100\n",
      "16/16 [==============================] - 0s 2ms/step - loss: 18.2345 - val_loss: 30.7085\n",
      "Epoch 62/100\n",
      "16/16 [==============================] - 0s 2ms/step - loss: 18.2650 - val_loss: 30.8165\n",
      "Epoch 63/100\n",
      "16/16 [==============================] - 0s 2ms/step - loss: 18.3231 - val_loss: 30.8424\n",
      "Epoch 64/100\n",
      "16/16 [==============================] - 0s 2ms/step - loss: 18.2892 - val_loss: 30.8147\n",
      "Epoch 65/100\n",
      "16/16 [==============================] - 0s 2ms/step - loss: 17.8528 - val_loss: 30.5008\n",
      "Epoch 66/100\n",
      "16/16 [==============================] - 0s 2ms/step - loss: 17.7328 - val_loss: 30.5836\n",
      "Epoch 67/100\n",
      "16/16 [==============================] - 0s 2ms/step - loss: 17.5877 - val_loss: 30.4970\n",
      "Epoch 68/100\n",
      "16/16 [==============================] - 0s 2ms/step - loss: 17.5201 - val_loss: 30.6024\n",
      "Epoch 69/100\n",
      "16/16 [==============================] - 0s 2ms/step - loss: 17.3488 - val_loss: 30.4911\n",
      "Epoch 70/100\n",
      "16/16 [==============================] - 0s 2ms/step - loss: 17.3257 - val_loss: 30.4195\n",
      "Epoch 71/100\n",
      "16/16 [==============================] - 0s 2ms/step - loss: 17.5818 - val_loss: 30.9522\n",
      "Epoch 72/100\n",
      "16/16 [==============================] - 0s 2ms/step - loss: 17.2908 - val_loss: 30.5149\n",
      "Epoch 73/100\n",
      "16/16 [==============================] - 0s 2ms/step - loss: 17.3800 - val_loss: 30.5250\n",
      "Epoch 74/100\n",
      "16/16 [==============================] - 0s 2ms/step - loss: 17.0515 - val_loss: 30.3035\n",
      "Epoch 75/100\n",
      "16/16 [==============================] - 0s 2ms/step - loss: 17.1736 - val_loss: 30.4782\n",
      "Epoch 76/100\n",
      "16/16 [==============================] - 0s 2ms/step - loss: 17.0603 - val_loss: 29.8679\n",
      "Epoch 77/100\n",
      "16/16 [==============================] - 0s 2ms/step - loss: 16.9028 - val_loss: 30.3857\n",
      "Epoch 78/100\n",
      "16/16 [==============================] - 0s 2ms/step - loss: 16.8344 - val_loss: 30.1339\n",
      "Epoch 79/100\n",
      "16/16 [==============================] - 0s 2ms/step - loss: 16.7269 - val_loss: 30.0901\n",
      "Epoch 80/100\n",
      "16/16 [==============================] - 0s 2ms/step - loss: 16.6430 - val_loss: 30.0554\n",
      "Epoch 81/100\n"
     ]
    },
    {
     "name": "stdout",
     "output_type": "stream",
     "text": [
      "16/16 [==============================] - 0s 2ms/step - loss: 16.5171 - val_loss: 30.0068\n",
      "Epoch 82/100\n",
      "16/16 [==============================] - 0s 2ms/step - loss: 16.7606 - val_loss: 30.1646\n",
      "Epoch 83/100\n",
      "16/16 [==============================] - 0s 2ms/step - loss: 17.1201 - val_loss: 30.8998\n",
      "Epoch 84/100\n",
      "16/16 [==============================] - 0s 2ms/step - loss: 17.3863 - val_loss: 30.3970\n",
      "Epoch 85/100\n",
      "16/16 [==============================] - 0s 2ms/step - loss: 16.5141 - val_loss: 30.4115\n",
      "Epoch 86/100\n",
      "16/16 [==============================] - 0s 2ms/step - loss: 16.1334 - val_loss: 29.8854\n",
      "Epoch 87/100\n",
      "16/16 [==============================] - 0s 2ms/step - loss: 16.3628 - val_loss: 29.9923\n",
      "Epoch 88/100\n",
      "16/16 [==============================] - 0s 2ms/step - loss: 16.0903 - val_loss: 29.8106\n",
      "Epoch 89/100\n",
      "16/16 [==============================] - 0s 2ms/step - loss: 15.9951 - val_loss: 29.9631\n",
      "Epoch 90/100\n",
      "16/16 [==============================] - 0s 2ms/step - loss: 15.8575 - val_loss: 29.9351\n",
      "Epoch 91/100\n",
      "16/16 [==============================] - 0s 2ms/step - loss: 15.9234 - val_loss: 30.2156\n",
      "Epoch 92/100\n",
      "16/16 [==============================] - 0s 2ms/step - loss: 15.8551 - val_loss: 30.0242\n",
      "Epoch 93/100\n",
      "16/16 [==============================] - 0s 2ms/step - loss: 16.7006 - val_loss: 30.6898\n",
      "Epoch 94/100\n",
      "16/16 [==============================] - 0s 2ms/step - loss: 15.7609 - val_loss: 30.3180\n",
      "Epoch 95/100\n",
      "16/16 [==============================] - 0s 2ms/step - loss: 15.8105 - val_loss: 30.2229\n",
      "Epoch 96/100\n",
      "16/16 [==============================] - 0s 2ms/step - loss: 15.4732 - val_loss: 30.2093\n",
      "Epoch 97/100\n",
      "16/16 [==============================] - 0s 2ms/step - loss: 15.7002 - val_loss: 30.1385\n",
      "Epoch 98/100\n",
      "16/16 [==============================] - 0s 2ms/step - loss: 15.4962 - val_loss: 29.9715\n",
      "Epoch 99/100\n",
      "16/16 [==============================] - 0s 2ms/step - loss: 15.8904 - val_loss: 30.0806\n",
      "Epoch 100/100\n",
      "16/16 [==============================] - 0s 2ms/step - loss: 15.4397 - val_loss: 30.1685\n"
     ]
    }
   ],
   "source": [
    "hist = model.fit(x_train_sc, y_train, validation_split=0.2, epochs = 100, batch_size = 20)"
   ]
  },
  {
   "cell_type": "code",
   "execution_count": 28,
   "id": "0eac42c4",
   "metadata": {},
   "outputs": [
    {
     "name": "stdout",
     "output_type": "stream",
     "text": [
      "4/4 [==============================] - 0s 665us/step - loss: 16.8459\n"
     ]
    },
    {
     "data": {
      "text/plain": [
       "16.845895767211914"
      ]
     },
     "execution_count": 28,
     "metadata": {},
     "output_type": "execute_result"
    }
   ],
   "source": [
    "model.evaluate(x_test_sc, y_test)"
   ]
  },
  {
   "cell_type": "code",
   "execution_count": null,
   "id": "0b395cb7",
   "metadata": {},
   "outputs": [],
   "source": []
  },
  {
   "cell_type": "code",
   "execution_count": 29,
   "id": "93695441",
   "metadata": {},
   "outputs": [],
   "source": [
    "# prediction"
   ]
  },
  {
   "cell_type": "code",
   "execution_count": 30,
   "id": "7e03d269",
   "metadata": {},
   "outputs": [],
   "source": [
    "preds = model.predict(x_test_sc)"
   ]
  },
  {
   "cell_type": "code",
   "execution_count": null,
   "id": "5d0ad5ad",
   "metadata": {},
   "outputs": [],
   "source": []
  },
  {
   "cell_type": "code",
   "execution_count": 31,
   "id": "f0c55ade",
   "metadata": {},
   "outputs": [],
   "source": [
    "# evaluation"
   ]
  },
  {
   "cell_type": "code",
   "execution_count": 32,
   "id": "9a80c54e",
   "metadata": {},
   "outputs": [
    {
     "data": {
      "text/plain": [
       "0.7828660554544689"
      ]
     },
     "execution_count": 32,
     "metadata": {},
     "output_type": "execute_result"
    }
   ],
   "source": [
    "from sklearn.metrics import r2_score\n",
    "\n",
    "r2_score(preds, y_test)"
   ]
  },
  {
   "cell_type": "code",
   "execution_count": null,
   "id": "5cbbab66",
   "metadata": {},
   "outputs": [],
   "source": []
  },
  {
   "cell_type": "code",
   "execution_count": 36,
   "id": "17f6c8f7",
   "metadata": {},
   "outputs": [
    {
     "name": "stdout",
     "output_type": "stream",
     "text": [
      "25 - 27\n",
      "30 - 29\n",
      "31 - 30\n",
      "20 - 19\n",
      "48 - 43\n",
      "22 - 27\n",
      "35 - 36\n",
      "16 - 17\n",
      "23 - 22\n",
      "10 - 14\n"
     ]
    }
   ],
   "source": [
    "for i in range(10):\n",
    "    pred_price = preds[i]\n",
    "    real_price = y_test[i]\n",
    "    print('{} - {}'.format(round(real_price), round(pred_price[0])))\n",
    "    "
   ]
  },
  {
   "cell_type": "code",
   "execution_count": null,
   "id": "8a8cc5fb",
   "metadata": {},
   "outputs": [],
   "source": []
  }
 ],
 "metadata": {
  "kernelspec": {
   "display_name": "Python 3 (ipykernel)",
   "language": "python",
   "name": "python3"
  },
  "language_info": {
   "codemirror_mode": {
    "name": "ipython",
    "version": 3
   },
   "file_extension": ".py",
   "mimetype": "text/x-python",
   "name": "python",
   "nbconvert_exporter": "python",
   "pygments_lexer": "ipython3",
   "version": "3.9.7"
  }
 },
 "nbformat": 4,
 "nbformat_minor": 5
}
