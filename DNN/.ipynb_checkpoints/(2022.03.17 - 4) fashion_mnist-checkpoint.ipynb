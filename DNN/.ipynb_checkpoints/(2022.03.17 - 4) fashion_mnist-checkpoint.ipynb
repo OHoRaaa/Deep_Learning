{
 "cells": [
  {
   "cell_type": "code",
   "execution_count": 1,
   "id": "7519b4b5",
   "metadata": {},
   "outputs": [],
   "source": [
    "import pandas as pd\n",
    "import numpy as np\n",
    "import matplotlib.pyplot as plt\n",
    "import seaborn as sns"
   ]
  },
  {
   "cell_type": "code",
   "execution_count": 4,
   "id": "e068f401",
   "metadata": {},
   "outputs": [],
   "source": [
    "from tensorflow.keras.models import Sequential\n",
    "from tensorflow.keras.layers import Dense\n",
    "import tensorflow as tf\n",
    "from tensorflow import keras"
   ]
  },
  {
   "cell_type": "code",
   "execution_count": 6,
   "id": "22ddf0d3",
   "metadata": {},
   "outputs": [
    {
     "name": "stdout",
     "output_type": "stream",
     "text": [
      "Downloading data from https://storage.googleapis.com/tensorflow/tf-keras-datasets/train-labels-idx1-ubyte.gz\n",
      "32768/29515 [=================================] - 0s 0us/step\n",
      "40960/29515 [=========================================] - 0s 0us/step\n",
      "Downloading data from https://storage.googleapis.com/tensorflow/tf-keras-datasets/train-images-idx3-ubyte.gz\n",
      "26427392/26421880 [==============================] - 2s 0us/step\n",
      "26435584/26421880 [==============================] - 2s 0us/step\n",
      "Downloading data from https://storage.googleapis.com/tensorflow/tf-keras-datasets/t10k-labels-idx1-ubyte.gz\n",
      "16384/5148 [===============================================================================================] - 0s 0s/step\n",
      "Downloading data from https://storage.googleapis.com/tensorflow/tf-keras-datasets/t10k-images-idx3-ubyte.gz\n",
      "4423680/4422102 [==============================] - 0s 0us/step\n",
      "4431872/4422102 [==============================] - 0s 0us/step\n"
     ]
    }
   ],
   "source": [
    "(train_input, train_target), (test_input, test_target) = keras.datasets.fashion_mnist.load_data()"
   ]
  },
  {
   "cell_type": "code",
   "execution_count": 7,
   "id": "587a0753",
   "metadata": {},
   "outputs": [
    {
     "name": "stdout",
     "output_type": "stream",
     "text": [
      "(60000, 28, 28) (60000,)\n"
     ]
    }
   ],
   "source": [
    "print(train_input.shape, train_target.shape)"
   ]
  },
  {
   "cell_type": "code",
   "execution_count": 8,
   "id": "4796dd01",
   "metadata": {},
   "outputs": [
    {
     "name": "stdout",
     "output_type": "stream",
     "text": [
      "(10000, 28, 28) (10000,)\n"
     ]
    }
   ],
   "source": [
    "print(test_input.shape, test_target.shape)"
   ]
  },
  {
   "cell_type": "code",
   "execution_count": null,
   "id": "3e065048",
   "metadata": {},
   "outputs": [],
   "source": []
  },
  {
   "cell_type": "code",
   "execution_count": 9,
   "id": "e5635dc5",
   "metadata": {},
   "outputs": [
    {
     "data": {
      "image/png": "[encoded data removed]",
      "text/plain": [
       "<Figure size 720x720 with 10 Axes>"
      ]
     },
     "metadata": {
      "needs_background": "light"
     },
     "output_type": "display_data"
    }
   ],
   "source": [
    "fig, axs = plt.subplots(1, 10, figsize = (10, 10))\n",
    "for i in range(10):\n",
    "    axs[i].imshow(train_input[i], cmap = 'gray_r')\n",
    "    axs[i].axis('off')\n",
    "plt.show()"
   ]
  },
  {
   "cell_type": "code",
   "execution_count": 10,
   "id": "e040af49",
   "metadata": {},
   "outputs": [
    {
     "data": {
      "text/plain": [
       "array([9, 0, 0, 3, 0, 2, 7, 2, 5, 5], dtype=uint8)"
      ]
     },
     "execution_count": 10,
     "metadata": {},
     "output_type": "execute_result"
    }
   ],
   "source": [
    "train_target[:10]"
   ]
  },
  {
   "cell_type": "code",
   "execution_count": 11,
   "id": "f92bee65",
   "metadata": {},
   "outputs": [
    {
     "data": {
      "text/plain": [
       "9    6000\n",
       "0    6000\n",
       "3    6000\n",
       "2    6000\n",
       "7    6000\n",
       "5    6000\n",
       "1    6000\n",
       "6    6000\n",
       "4    6000\n",
       "8    6000\n",
       "dtype: int64"
      ]
     },
     "execution_count": 11,
     "metadata": {},
     "output_type": "execute_result"
    }
   ],
   "source": [
    "pd.Series(train_target).value_counts()"
   ]
  },
  {
   "cell_type": "code",
   "execution_count": null,
   "id": "d00da2ee",
   "metadata": {},
   "outputs": [],
   "source": []
  },
  {
   "cell_type": "code",
   "execution_count": 16,
   "id": "703215ca",
   "metadata": {},
   "outputs": [
    {
     "data": {
      "text/plain": [
       "<matplotlib.image.AxesImage at 0x2d4cdd773d0>"
      ]
     },
     "execution_count": 16,
     "metadata": {},
     "output_type": "execute_result"
    },
    {
     "data": {
      "image/png": "[encoded data removed]",
      "text/plain": [
       "<Figure size 432x288 with 1 Axes>"
      ]
     },
     "metadata": {
      "needs_background": "light"
     },
     "output_type": "display_data"
    }
   ],
   "source": [
    "plt.imshow(train_input[0], cmap = 'gray_r')"
   ]
  },
  {
   "cell_type": "code",
   "execution_count": null,
   "id": "ebb2127b",
   "metadata": {},
   "outputs": [],
   "source": []
  },
  {
   "cell_type": "code",
   "execution_count": 22,
   "id": "60f6e61e",
   "metadata": {},
   "outputs": [],
   "source": [
    "x_train = train_input.reshape(60000, 28 * 28)\n",
    "x_test = test_input.reshape(10000, 28 * 28)\n",
    "y_train = train_target\n",
    "y_test = test_target"
   ]
  },
  {
   "cell_type": "code",
   "execution_count": 29,
   "id": "f695d31a",
   "metadata": {},
   "outputs": [],
   "source": [
    "y_train_oh = tf.keras.utils.to_categorical(y_train)\n",
    "y_test_oh = tf.keras.utils.to_categorical(y_test)"
   ]
  },
  {
   "cell_type": "code",
   "execution_count": null,
   "id": "68b758a1",
   "metadata": {},
   "outputs": [],
   "source": []
  },
  {
   "cell_type": "code",
   "execution_count": null,
   "id": "1cb5b569",
   "metadata": {},
   "outputs": [],
   "source": [
    "# LogisticRegression"
   ]
  },
  {
   "cell_type": "code",
   "execution_count": 30,
   "id": "cc5278b6",
   "metadata": {},
   "outputs": [
    {
     "name": "stderr",
     "output_type": "stream",
     "text": [
      "C:\\Users\\bitcamp\\anaconda3\\lib\\site-packages\\sklearn\\linear_model\\_logistic.py:814: ConvergenceWarning: lbfgs failed to converge (status=1):\n",
      "STOP: TOTAL NO. of ITERATIONS REACHED LIMIT.\n",
      "\n",
      "Increase the number of iterations (max_iter) or scale the data as shown in:\n",
      "    https://scikit-learn.org/stable/modules/preprocessing.html\n",
      "Please also refer to the documentation for alternative solver options:\n",
      "    https://scikit-learn.org/stable/modules/linear_model.html#logistic-regression\n",
      "  n_iter_i = _check_optimize_result(\n"
     ]
    },
    {
     "data": {
      "text/plain": [
       "0.8412"
      ]
     },
     "execution_count": 30,
     "metadata": {},
     "output_type": "execute_result"
    }
   ],
   "source": [
    "from sklearn.linear_model import LogisticRegression\n",
    "\n",
    "log = LogisticRegression()\n",
    "log.fit(x_train, y_train)\n",
    "log.score(x_test, y_test)"
   ]
  },
  {
   "cell_type": "code",
   "execution_count": null,
   "id": "5bf67a4c",
   "metadata": {},
   "outputs": [],
   "source": []
  },
  {
   "cell_type": "code",
   "execution_count": null,
   "id": "99e30f6a",
   "metadata": {},
   "outputs": [],
   "source": [
    "# deep learning"
   ]
  },
  {
   "cell_type": "code",
   "execution_count": 33,
   "id": "6f971cd3",
   "metadata": {},
   "outputs": [
    {
     "name": "stdout",
     "output_type": "stream",
     "text": [
      "Model: \"sequential_2\"\n",
      "_________________________________________________________________\n",
      " Layer (type)                Output Shape              Param #   \n",
      "=================================================================\n",
      " dense_6 (Dense)             (None, 128)               100480    \n",
      "                                                                 \n",
      " dense_7 (Dense)             (None, 56)                7224      \n",
      "                                                                 \n",
      " dense_8 (Dense)             (None, 10)                570       \n",
      "                                                                 \n",
      "=================================================================\n",
      "Total params: 108,274\n",
      "Trainable params: 108,274\n",
      "Non-trainable params: 0\n",
      "_________________________________________________________________\n"
     ]
    }
   ],
   "source": [
    "model = Sequential()\n",
    "model.add(Dense(128, input_dim = 28 * 28, activation = 'relu'))\n",
    "model.add(Dense(56, activation = 'relu'))\n",
    "model.add(Dense(10, activation = 'softmax'))\n",
    "model.summary()"
   ]
  },
  {
   "cell_type": "code",
   "execution_count": 34,
   "id": "efc14dbf",
   "metadata": {},
   "outputs": [],
   "source": [
    "model.compile(loss = 'categorical_crossentropy', metrics = ['accuracy'], optimizer = 'adam')"
   ]
  },
  {
   "cell_type": "code",
   "execution_count": 36,
   "id": "7e2ba3bb",
   "metadata": {},
   "outputs": [
    {
     "name": "stdout",
     "output_type": "stream",
     "text": [
      "Epoch 1/50\n",
      "2400/2400 [==============================] - 3s 1ms/step - loss: 0.5390 - accuracy: 0.8049 - val_loss: 0.4738 - val_accuracy: 0.8273\n",
      "Epoch 2/50\n",
      "2400/2400 [==============================] - 3s 1ms/step - loss: 0.5006 - accuracy: 0.8224 - val_loss: 0.6213 - val_accuracy: 0.7960\n",
      "Epoch 3/50\n",
      "2400/2400 [==============================] - 3s 1ms/step - loss: 0.4651 - accuracy: 0.8376 - val_loss: 0.4484 - val_accuracy: 0.8449\n",
      "Epoch 4/50\n",
      "2400/2400 [==============================] - 3s 1ms/step - loss: 0.4355 - accuracy: 0.8460 - val_loss: 0.4572 - val_accuracy: 0.8481\n",
      "Epoch 5/50\n",
      "2400/2400 [==============================] - 3s 1ms/step - loss: 0.4119 - accuracy: 0.8550 - val_loss: 0.4591 - val_accuracy: 0.8399\n",
      "Epoch 6/50\n",
      "2400/2400 [==============================] - 3s 1ms/step - loss: 0.4057 - accuracy: 0.8569 - val_loss: 0.4348 - val_accuracy: 0.8503\n",
      "Epoch 7/50\n",
      "2400/2400 [==============================] - 3s 1ms/step - loss: 0.3949 - accuracy: 0.8621 - val_loss: 0.4949 - val_accuracy: 0.8278\n",
      "Epoch 8/50\n",
      "2400/2400 [==============================] - 3s 1ms/step - loss: 0.3958 - accuracy: 0.8609 - val_loss: 0.5356 - val_accuracy: 0.8386\n",
      "Epoch 9/50\n",
      "2400/2400 [==============================] - 3s 1ms/step - loss: 0.3740 - accuracy: 0.8681 - val_loss: 0.4595 - val_accuracy: 0.8531\n",
      "Epoch 10/50\n",
      "2400/2400 [==============================] - 3s 1ms/step - loss: 0.3746 - accuracy: 0.8681 - val_loss: 0.4079 - val_accuracy: 0.8622\n",
      "Epoch 11/50\n",
      "2400/2400 [==============================] - 3s 1ms/step - loss: 0.3615 - accuracy: 0.8731 - val_loss: 0.4382 - val_accuracy: 0.8577\n",
      "Epoch 12/50\n",
      "2400/2400 [==============================] - 3s 1ms/step - loss: 0.3565 - accuracy: 0.8733 - val_loss: 0.4060 - val_accuracy: 0.8678\n",
      "Epoch 13/50\n",
      "2400/2400 [==============================] - 3s 1ms/step - loss: 0.3580 - accuracy: 0.8729 - val_loss: 0.4436 - val_accuracy: 0.8592\n",
      "Epoch 14/50\n",
      "2400/2400 [==============================] - 3s 1ms/step - loss: 0.3564 - accuracy: 0.8756 - val_loss: 0.4705 - val_accuracy: 0.8535\n",
      "Epoch 15/50\n",
      "2400/2400 [==============================] - 3s 1ms/step - loss: 0.3474 - accuracy: 0.8761 - val_loss: 0.4753 - val_accuracy: 0.8518\n",
      "Epoch 16/50\n",
      "2400/2400 [==============================] - 3s 1ms/step - loss: 0.3495 - accuracy: 0.8763 - val_loss: 0.4570 - val_accuracy: 0.8496\n",
      "Epoch 17/50\n",
      "2400/2400 [==============================] - 3s 1ms/step - loss: 0.3352 - accuracy: 0.8801 - val_loss: 0.4358 - val_accuracy: 0.8593\n",
      "Epoch 18/50\n",
      "2400/2400 [==============================] - 3s 1ms/step - loss: 0.3352 - accuracy: 0.8829 - val_loss: 0.4268 - val_accuracy: 0.8667\n",
      "Epoch 19/50\n",
      "2400/2400 [==============================] - 3s 1ms/step - loss: 0.3367 - accuracy: 0.8802 - val_loss: 0.4922 - val_accuracy: 0.8609\n",
      "Epoch 20/50\n",
      "2400/2400 [==============================] - 3s 1ms/step - loss: 0.3277 - accuracy: 0.8833 - val_loss: 0.4242 - val_accuracy: 0.8587\n",
      "Epoch 21/50\n",
      "2400/2400 [==============================] - 3s 1ms/step - loss: 0.3291 - accuracy: 0.8837 - val_loss: 0.4642 - val_accuracy: 0.8441\n",
      "Epoch 22/50\n",
      "2400/2400 [==============================] - 3s 1ms/step - loss: 0.3287 - accuracy: 0.8832 - val_loss: 0.4393 - val_accuracy: 0.8566\n",
      "Epoch 23/50\n",
      "2400/2400 [==============================] - 3s 1ms/step - loss: 0.3265 - accuracy: 0.8854 - val_loss: 0.4501 - val_accuracy: 0.8603\n",
      "Epoch 24/50\n",
      "2400/2400 [==============================] - 3s 1ms/step - loss: 0.3164 - accuracy: 0.8870 - val_loss: 0.4533 - val_accuracy: 0.8685\n",
      "Epoch 25/50\n",
      "2400/2400 [==============================] - 3s 1ms/step - loss: 0.3314 - accuracy: 0.8826 - val_loss: 0.4558 - val_accuracy: 0.8628\n",
      "Epoch 26/50\n",
      "2400/2400 [==============================] - 3s 1ms/step - loss: 0.3188 - accuracy: 0.8878 - val_loss: 0.4929 - val_accuracy: 0.8461\n",
      "Epoch 27/50\n",
      "2400/2400 [==============================] - 3s 1ms/step - loss: 0.3130 - accuracy: 0.8889 - val_loss: 0.4317 - val_accuracy: 0.8689\n",
      "Epoch 28/50\n",
      "2400/2400 [==============================] - 3s 1ms/step - loss: 0.3189 - accuracy: 0.8871 - val_loss: 0.4460 - val_accuracy: 0.8733\n",
      "Epoch 29/50\n",
      "2400/2400 [==============================] - 3s 1ms/step - loss: 0.3132 - accuracy: 0.8901 - val_loss: 0.4826 - val_accuracy: 0.8612\n",
      "Epoch 30/50\n",
      "2400/2400 [==============================] - 3s 1ms/step - loss: 0.3053 - accuracy: 0.8916 - val_loss: 0.4712 - val_accuracy: 0.8594\n",
      "Epoch 31/50\n",
      "2400/2400 [==============================] - 3s 1ms/step - loss: 0.3124 - accuracy: 0.8906 - val_loss: 0.4898 - val_accuracy: 0.8574\n",
      "Epoch 32/50\n",
      "2400/2400 [==============================] - 3s 1ms/step - loss: 0.3111 - accuracy: 0.8919 - val_loss: 0.4491 - val_accuracy: 0.8662\n",
      "Epoch 33/50\n",
      "2400/2400 [==============================] - 3s 1ms/step - loss: 0.3141 - accuracy: 0.8892 - val_loss: 0.5336 - val_accuracy: 0.8650\n",
      "Epoch 34/50\n",
      "2400/2400 [==============================] - 3s 1ms/step - loss: 0.3002 - accuracy: 0.8928 - val_loss: 0.4869 - val_accuracy: 0.8694\n",
      "Epoch 35/50\n",
      "2400/2400 [==============================] - 3s 1ms/step - loss: 0.3045 - accuracy: 0.8915 - val_loss: 0.4783 - val_accuracy: 0.8714\n",
      "Epoch 36/50\n",
      "2400/2400 [==============================] - 3s 1ms/step - loss: 0.3041 - accuracy: 0.8936 - val_loss: 0.5055 - val_accuracy: 0.8689\n",
      "Epoch 37/50\n",
      "2400/2400 [==============================] - 3s 1ms/step - loss: 0.2984 - accuracy: 0.8943 - val_loss: 0.5924 - val_accuracy: 0.8294\n",
      "Epoch 38/50\n",
      "2400/2400 [==============================] - 3s 1ms/step - loss: 0.3130 - accuracy: 0.8924 - val_loss: 0.5484 - val_accuracy: 0.8666\n",
      "Epoch 39/50\n",
      "2400/2400 [==============================] - 3s 1ms/step - loss: 0.3022 - accuracy: 0.8936 - val_loss: 0.5772 - val_accuracy: 0.8705\n",
      "Epoch 40/50\n",
      "2400/2400 [==============================] - 3s 1ms/step - loss: 0.2991 - accuracy: 0.8938 - val_loss: 0.6476 - val_accuracy: 0.8678\n",
      "Epoch 41/50\n",
      "2400/2400 [==============================] - 3s 1ms/step - loss: 0.3051 - accuracy: 0.8940 - val_loss: 0.6115 - val_accuracy: 0.8368\n",
      "Epoch 42/50\n",
      "2400/2400 [==============================] - 3s 1ms/step - loss: 0.2953 - accuracy: 0.8965 - val_loss: 0.5728 - val_accuracy: 0.8678\n",
      "Epoch 43/50\n",
      "2400/2400 [==============================] - 3s 1ms/step - loss: 0.3036 - accuracy: 0.8940 - val_loss: 0.5095 - val_accuracy: 0.8658\n",
      "Epoch 44/50\n",
      "2400/2400 [==============================] - 3s 1ms/step - loss: 0.2828 - accuracy: 0.8987 - val_loss: 0.6062 - val_accuracy: 0.8602\n",
      "Epoch 45/50\n",
      "2400/2400 [==============================] - 3s 1ms/step - loss: 0.3005 - accuracy: 0.8957 - val_loss: 0.6162 - val_accuracy: 0.8664\n",
      "Epoch 46/50\n",
      "2400/2400 [==============================] - 3s 1ms/step - loss: 0.3017 - accuracy: 0.8962 - val_loss: 0.5754 - val_accuracy: 0.8600\n",
      "Epoch 47/50\n",
      "2400/2400 [==============================] - 3s 1ms/step - loss: 0.2906 - accuracy: 0.8965 - val_loss: 0.5177 - val_accuracy: 0.8725\n",
      "Epoch 48/50\n",
      "2400/2400 [==============================] - 3s 1ms/step - loss: 0.2871 - accuracy: 0.8988 - val_loss: 0.6078 - val_accuracy: 0.8704\n",
      "Epoch 49/50\n",
      "2400/2400 [==============================] - 3s 1ms/step - loss: 0.2842 - accuracy: 0.8998 - val_loss: 0.5847 - val_accuracy: 0.8598\n",
      "Epoch 50/50\n",
      "2400/2400 [==============================] - 3s 1ms/step - loss: 0.2919 - accuracy: 0.8976 - val_loss: 0.7556 - val_accuracy: 0.8551\n"
     ]
    }
   ],
   "source": [
    "hist = model.fit(x_train, y_train_oh, validation_split = 0.2, epochs = 50, batch_size = 20)"
   ]
  },
  {
   "cell_type": "code",
   "execution_count": 37,
   "id": "74f6b68c",
   "metadata": {},
   "outputs": [
    {
     "name": "stdout",
     "output_type": "stream",
     "text": [
      "313/313 [==============================] - 0s 1ms/step - loss: 0.7789 - accuracy: 0.8474\n"
     ]
    },
    {
     "data": {
      "text/plain": [
       "[0.7789074182510376, 0.8474000096321106]"
      ]
     },
     "execution_count": 37,
     "metadata": {},
     "output_type": "execute_result"
    }
   ],
   "source": [
    "model.evaluate(x_test, y_test_oh)"
   ]
  },
  {
   "cell_type": "code",
   "execution_count": 39,
   "id": "316b9268",
   "metadata": {},
   "outputs": [
    {
     "data": {
      "text/plain": [
       "[<matplotlib.lines.Line2D at 0x2d4dc941730>]"
      ]
     },
     "execution_count": 39,
     "metadata": {},
     "output_type": "execute_result"
    },
    {
     "data": {
      "image/png": "[encoded data removed]",
      "text/plain": [
       "<Figure size 432x288 with 1 Axes>"
      ]
     },
     "metadata": {
      "needs_background": "light"
     },
     "output_type": "display_data"
    }
   ],
   "source": [
    "plt.plot(hist.history['accuracy'])\n",
    "plt.plot(hist.history['val_accuracy'])"
   ]
  },
  {
   "cell_type": "code",
   "execution_count": null,
   "id": "228c62d3",
   "metadata": {},
   "outputs": [],
   "source": []
  },
  {
   "cell_type": "code",
   "execution_count": null,
   "id": "41af18be",
   "metadata": {},
   "outputs": [],
   "source": []
  },
  {
   "cell_type": "code",
   "execution_count": null,
   "id": "4b83bed0",
   "metadata": {},
   "outputs": [],
   "source": []
  },
  {
   "cell_type": "code",
   "execution_count": null,
   "id": "8c25dad2",
   "metadata": {},
   "outputs": [],
   "source": [
    "# image matrix 데이터를 vectorizing 하지 말고, matrix 구조 그대로 학습하자 => CNN"
   ]
  }
 ],
 "metadata": {
  "kernelspec": {
   "display_name": "Python 3 (ipykernel)",
   "language": "python",
   "name": "python3"
  },
  "language_info": {
   "codemirror_mode": {
    "name": "ipython",
    "version": 3
   },
   "file_extension": ".py",
   "mimetype": "text/x-python",
   "name": "python",
   "nbconvert_exporter": "python",
   "pygments_lexer": "ipython3",
   "version": "3.9.7"
  }
 },
 "nbformat": 4,
 "nbformat_minor": 5
}
